{
  "nbformat": 4,
  "nbformat_minor": 0,
  "metadata": {
    "colab": {
      "name": "LETSEE@2.ipynb",
      "provenance": [],
      "collapsed_sections": [],
      "mount_file_id": "1S83CC6Y66scM5PIgrJ0rjdC9EriwzCsX",
      "authorship_tag": "ABX9TyO3YVZHRVAJbqhx78OO/0do",
      "include_colab_link": true
    },
    "kernelspec": {
      "display_name": "Python 3",
      "name": "python3"
    }
  },
  "cells": [
    {
      "cell_type": "markdown",
      "metadata": {
        "id": "view-in-github",
        "colab_type": "text"
      },
      "source": [
        "<a href=\"https://colab.research.google.com/github/SPThole/LTFS_repo/blob/main/LETSEE_2.ipynb\" target=\"_parent\"><img src=\"https://colab.research.google.com/assets/colab-badge.svg\" alt=\"Open In Colab\"/></a>"
      ]
    },
    {
      "cell_type": "code",
      "metadata": {
        "colab": {
          "background_save": true
        },
        "id": "uqbxMV-GMrvo"
      },
      "source": [
        "# !pip install xgboost==1.3.3\r\n",
        "# !python -m pip install dask[dataframe] --upgrade\r\n",
        "# !pip install dask-xgboost\r\n",
        "\r\n",
        "\r\n",
        "# !pip install dask_ml\r\n",
        "# !pip install shap"
      ],
      "execution_count": null,
      "outputs": []
    },
    {
      "cell_type": "code",
      "metadata": {
        "colab": {
          "background_save": true,
          "base_uri": "https://localhost:8080/"
        },
        "id": "D44SLBKDFpvx",
        "outputId": "952ff679-aeb6-413f-bbd8-2ca197b278e0"
      },
      "source": [
        "!pip install catboost"
      ],
      "execution_count": null,
      "outputs": [
        {
          "output_type": "stream",
          "text": [
            "Requirement already satisfied: catboost in /usr/local/lib/python3.6/dist-packages (0.24.4)\n",
            "Requirement already satisfied: pandas>=0.24.0 in /usr/local/lib/python3.6/dist-packages (from catboost) (1.1.5)\n",
            "Requirement already satisfied: scipy in /usr/local/lib/python3.6/dist-packages (from catboost) (1.4.1)\n",
            "Requirement already satisfied: numpy>=1.16.0 in /usr/local/lib/python3.6/dist-packages (from catboost) (1.19.5)\n",
            "Requirement already satisfied: six in /usr/local/lib/python3.6/dist-packages (from catboost) (1.15.0)\n",
            "Requirement already satisfied: matplotlib in /usr/local/lib/python3.6/dist-packages (from catboost) (3.2.2)\n",
            "Requirement already satisfied: plotly in /usr/local/lib/python3.6/dist-packages (from catboost) (4.4.1)\n",
            "Requirement already satisfied: graphviz in /usr/local/lib/python3.6/dist-packages (from catboost) (0.10.1)\n",
            "Requirement already satisfied: python-dateutil>=2.7.3 in /usr/local/lib/python3.6/dist-packages (from pandas>=0.24.0->catboost) (2.8.1)\n",
            "Requirement already satisfied: pytz>=2017.2 in /usr/local/lib/python3.6/dist-packages (from pandas>=0.24.0->catboost) (2018.9)\n",
            "Requirement already satisfied: pyparsing!=2.0.4,!=2.1.2,!=2.1.6,>=2.0.1 in /usr/local/lib/python3.6/dist-packages (from matplotlib->catboost) (2.4.7)\n",
            "Requirement already satisfied: cycler>=0.10 in /usr/local/lib/python3.6/dist-packages (from matplotlib->catboost) (0.10.0)\n",
            "Requirement already satisfied: kiwisolver>=1.0.1 in /usr/local/lib/python3.6/dist-packages (from matplotlib->catboost) (1.3.1)\n",
            "Requirement already satisfied: retrying>=1.3.3 in /usr/local/lib/python3.6/dist-packages (from plotly->catboost) (1.3.3)\n"
          ],
          "name": "stdout"
        }
      ]
    },
    {
      "cell_type": "code",
      "metadata": {
        "colab": {
          "background_save": true
        },
        "id": "GT682BKBM5-n"
      },
      "source": [
        "# from dask.distributed import Client\r\n",
        "\r\n",
        "# client = Client(n_workers=4, threads_per_worker=1)\r\n",
        "# client"
      ],
      "execution_count": null,
      "outputs": []
    },
    {
      "cell_type": "code",
      "metadata": {
        "colab": {
          "background_save": true
        },
        "id": "ren2W4B0fgAW"
      },
      "source": [
        "import pandas as pd\r\n",
        "import numpy as np\r\n",
        "import datetime\r\n",
        "import seaborn as sns\r\n",
        "import xgboost as xgb\r\n",
        "import matplotlib.pyplot as plt\r\n",
        "from sklearn.preprocessing import LabelEncoder\r\n",
        "from sklearn.model_selection import train_test_split\r\n",
        "from sklearn.metrics import f1_score\r\n",
        "import lightgbm\r\n",
        "import catboost as catb\r\n",
        "from sklearn.model_selection import GridSearchCV, StratifiedKFold\r\n",
        "%matplotlib inline"
      ],
      "execution_count": null,
      "outputs": []
    },
    {
      "cell_type": "code",
      "metadata": {
        "colab": {
          "background_save": true
        },
        "id": "QiEEnsymfvzx"
      },
      "source": [
        "train = pd.read_csv('/content/drive/MyDrive/pro_train_ltfs1.csv')\r\n",
        "test = pd.read_csv('/content/drive/MyDrive/pro_test_ltfs1.csv')"
      ],
      "execution_count": null,
      "outputs": []
    },
    {
      "cell_type": "code",
      "metadata": {
        "id": "-_vgy-YKrZ3g"
      },
      "source": [
        "train = train.sort_values(by=['ID','REPORTED DATE - HIST'])\r\n",
        "test = test.sort_values(by=['ID','REPORTED DATE - HIST'])"
      ],
      "execution_count": null,
      "outputs": []
    },
    {
      "cell_type": "code",
      "metadata": {
        "colab": {
          "base_uri": "https://localhost:8080/",
          "height": 348
        },
        "id": "-wY-O8dcyhjB",
        "outputId": "5a1b2ecb-da15-4194-e85f-68ffff5beaa4"
      },
      "source": [
        "train.head()"
      ],
      "execution_count": null,
      "outputs": [
        {
          "output_type": "execute_result",
          "data": {
            "text/html": [
              "<div>\n",
              "<style scoped>\n",
              "    .dataframe tbody tr th:only-of-type {\n",
              "        vertical-align: middle;\n",
              "    }\n",
              "\n",
              "    .dataframe tbody tr th {\n",
              "        vertical-align: top;\n",
              "    }\n",
              "\n",
              "    .dataframe thead th {\n",
              "        text-align: right;\n",
              "    }\n",
              "</style>\n",
              "<table border=\"1\" class=\"dataframe\">\n",
              "  <thead>\n",
              "    <tr style=\"text-align: right;\">\n",
              "      <th></th>\n",
              "      <th>ID</th>\n",
              "      <th>EMI</th>\n",
              "      <th>REPORTED DATE - HIST</th>\n",
              "      <th>CUR BAL - HIST</th>\n",
              "      <th>ACCT-TYPE</th>\n",
              "      <th>CONTRIBUTOR-TYPE</th>\n",
              "      <th>OWNERSHIP-IND</th>\n",
              "      <th>ACCOUNT-STATUS</th>\n",
              "      <th>ASSET_CLASS</th>\n",
              "      <th>SELF-INDICATOR</th>\n",
              "      <th>TENURE</th>\n",
              "      <th>Frequency</th>\n",
              "      <th>InstlmentMode</th>\n",
              "      <th>LoanStatus</th>\n",
              "      <th>PaymentMode</th>\n",
              "      <th>BranchID</th>\n",
              "      <th>Tenure</th>\n",
              "      <th>AssetCost</th>\n",
              "      <th>AmountFinance</th>\n",
              "      <th>DisbursalAmount</th>\n",
              "      <th>DisbursalDate</th>\n",
              "      <th>MaturityDAte</th>\n",
              "      <th>AuthDate</th>\n",
              "      <th>ManufacturerID</th>\n",
              "      <th>LTV</th>\n",
              "      <th>SEX</th>\n",
              "      <th>AGE</th>\n",
              "      <th>MonthlyIncome</th>\n",
              "      <th>State</th>\n",
              "      <th>Top-up Month</th>\n",
              "      <th>DURATION</th>\n",
              "      <th>lens</th>\n",
              "    </tr>\n",
              "  </thead>\n",
              "  <tbody>\n",
              "    <tr>\n",
              "      <th>101</th>\n",
              "      <td>1</td>\n",
              "      <td>24000.0</td>\n",
              "      <td>2013-03-31 00:00:00</td>\n",
              "      <td>226605.0</td>\n",
              "      <td>1.28679</td>\n",
              "      <td>1.420227</td>\n",
              "      <td>1.458272</td>\n",
              "      <td>1.417701</td>\n",
              "      <td>1.427534</td>\n",
              "      <td>5</td>\n",
              "      <td>60.0</td>\n",
              "      <td>2</td>\n",
              "      <td>1</td>\n",
              "      <td>1</td>\n",
              "      <td>0.664989</td>\n",
              "      <td>0.700483</td>\n",
              "      <td>48</td>\n",
              "      <td>450000</td>\n",
              "      <td>275000.0</td>\n",
              "      <td>275000.0</td>\n",
              "      <td>2012-02-10</td>\n",
              "      <td>2016-01-15</td>\n",
              "      <td>2012-02-10</td>\n",
              "      <td>0.679963</td>\n",
              "      <td>61.11</td>\n",
              "      <td>1</td>\n",
              "      <td>49.0</td>\n",
              "      <td>35833.33</td>\n",
              "      <td>0.874595</td>\n",
              "      <td>6</td>\n",
              "      <td>1435 days</td>\n",
              "      <td>191</td>\n",
              "    </tr>\n",
              "    <tr>\n",
              "      <th>100</th>\n",
              "      <td>1</td>\n",
              "      <td>24000.0</td>\n",
              "      <td>2013-04-30 00:00:00</td>\n",
              "      <td>205875.0</td>\n",
              "      <td>1.28679</td>\n",
              "      <td>1.420227</td>\n",
              "      <td>1.458272</td>\n",
              "      <td>1.417701</td>\n",
              "      <td>1.427534</td>\n",
              "      <td>5</td>\n",
              "      <td>60.0</td>\n",
              "      <td>2</td>\n",
              "      <td>1</td>\n",
              "      <td>1</td>\n",
              "      <td>0.664989</td>\n",
              "      <td>0.700483</td>\n",
              "      <td>48</td>\n",
              "      <td>450000</td>\n",
              "      <td>275000.0</td>\n",
              "      <td>275000.0</td>\n",
              "      <td>2012-02-10</td>\n",
              "      <td>2016-01-15</td>\n",
              "      <td>2012-02-10</td>\n",
              "      <td>0.679963</td>\n",
              "      <td>61.11</td>\n",
              "      <td>1</td>\n",
              "      <td>49.0</td>\n",
              "      <td>35833.33</td>\n",
              "      <td>0.874595</td>\n",
              "      <td>6</td>\n",
              "      <td>1435 days</td>\n",
              "      <td>191</td>\n",
              "    </tr>\n",
              "    <tr>\n",
              "      <th>99</th>\n",
              "      <td>1</td>\n",
              "      <td>24000.0</td>\n",
              "      <td>2013-05-31 00:00:00</td>\n",
              "      <td>208846.0</td>\n",
              "      <td>1.28679</td>\n",
              "      <td>1.420227</td>\n",
              "      <td>1.458272</td>\n",
              "      <td>1.417701</td>\n",
              "      <td>1.427534</td>\n",
              "      <td>5</td>\n",
              "      <td>60.0</td>\n",
              "      <td>2</td>\n",
              "      <td>1</td>\n",
              "      <td>1</td>\n",
              "      <td>0.664989</td>\n",
              "      <td>0.700483</td>\n",
              "      <td>48</td>\n",
              "      <td>450000</td>\n",
              "      <td>275000.0</td>\n",
              "      <td>275000.0</td>\n",
              "      <td>2012-02-10</td>\n",
              "      <td>2016-01-15</td>\n",
              "      <td>2012-02-10</td>\n",
              "      <td>0.679963</td>\n",
              "      <td>61.11</td>\n",
              "      <td>1</td>\n",
              "      <td>49.0</td>\n",
              "      <td>35833.33</td>\n",
              "      <td>0.874595</td>\n",
              "      <td>6</td>\n",
              "      <td>1435 days</td>\n",
              "      <td>191</td>\n",
              "    </tr>\n",
              "    <tr>\n",
              "      <th>98</th>\n",
              "      <td>1</td>\n",
              "      <td>24000.0</td>\n",
              "      <td>2013-06-30 00:00:00</td>\n",
              "      <td>211860.0</td>\n",
              "      <td>1.28679</td>\n",
              "      <td>1.420227</td>\n",
              "      <td>1.458272</td>\n",
              "      <td>1.417701</td>\n",
              "      <td>1.427534</td>\n",
              "      <td>5</td>\n",
              "      <td>60.0</td>\n",
              "      <td>2</td>\n",
              "      <td>1</td>\n",
              "      <td>1</td>\n",
              "      <td>0.664989</td>\n",
              "      <td>0.700483</td>\n",
              "      <td>48</td>\n",
              "      <td>450000</td>\n",
              "      <td>275000.0</td>\n",
              "      <td>275000.0</td>\n",
              "      <td>2012-02-10</td>\n",
              "      <td>2016-01-15</td>\n",
              "      <td>2012-02-10</td>\n",
              "      <td>0.679963</td>\n",
              "      <td>61.11</td>\n",
              "      <td>1</td>\n",
              "      <td>49.0</td>\n",
              "      <td>35833.33</td>\n",
              "      <td>0.874595</td>\n",
              "      <td>6</td>\n",
              "      <td>1435 days</td>\n",
              "      <td>191</td>\n",
              "    </tr>\n",
              "    <tr>\n",
              "      <th>97</th>\n",
              "      <td>1</td>\n",
              "      <td>24000.0</td>\n",
              "      <td>2013-07-31 00:00:00</td>\n",
              "      <td>190917.0</td>\n",
              "      <td>1.28679</td>\n",
              "      <td>1.420227</td>\n",
              "      <td>1.458272</td>\n",
              "      <td>1.417701</td>\n",
              "      <td>1.427534</td>\n",
              "      <td>5</td>\n",
              "      <td>60.0</td>\n",
              "      <td>2</td>\n",
              "      <td>1</td>\n",
              "      <td>1</td>\n",
              "      <td>0.664989</td>\n",
              "      <td>0.700483</td>\n",
              "      <td>48</td>\n",
              "      <td>450000</td>\n",
              "      <td>275000.0</td>\n",
              "      <td>275000.0</td>\n",
              "      <td>2012-02-10</td>\n",
              "      <td>2016-01-15</td>\n",
              "      <td>2012-02-10</td>\n",
              "      <td>0.679963</td>\n",
              "      <td>61.11</td>\n",
              "      <td>1</td>\n",
              "      <td>49.0</td>\n",
              "      <td>35833.33</td>\n",
              "      <td>0.874595</td>\n",
              "      <td>6</td>\n",
              "      <td>1435 days</td>\n",
              "      <td>191</td>\n",
              "    </tr>\n",
              "  </tbody>\n",
              "</table>\n",
              "</div>"
            ],
            "text/plain": [
              "     ID      EMI REPORTED DATE - HIST  ...  Top-up Month   DURATION  lens\n",
              "101   1  24000.0  2013-03-31 00:00:00  ...             6  1435 days   191\n",
              "100   1  24000.0  2013-04-30 00:00:00  ...             6  1435 days   191\n",
              "99    1  24000.0  2013-05-31 00:00:00  ...             6  1435 days   191\n",
              "98    1  24000.0  2013-06-30 00:00:00  ...             6  1435 days   191\n",
              "97    1  24000.0  2013-07-31 00:00:00  ...             6  1435 days   191\n",
              "\n",
              "[5 rows x 32 columns]"
            ]
          },
          "metadata": {
            "tags": []
          },
          "execution_count": 15
        }
      ]
    },
    {
      "cell_type": "code",
      "metadata": {
        "id": "E2AdOF-22B7b"
      },
      "source": [
        "train['how_many_6'] = (pd.to_datetime(train['REPORTED DATE - HIST'],errors='coerce')- pd.to_datetime(train['DisbursalDate'],errors='coerce'))/np.timedelta64(6, 'M')\r\n",
        "test['how_many_6'] = (pd.to_datetime(test['REPORTED DATE - HIST'],errors='coerce')- pd.to_datetime(test['DisbursalDate'],errors='coerce'))/np.timedelta64(6, 'M')"
      ],
      "execution_count": null,
      "outputs": []
    },
    {
      "cell_type": "code",
      "metadata": {
        "id": "c-U0hIL53Y_q"
      },
      "source": [
        "train['how_many_6'] = np.round(train['how_many_6'])\r\n",
        "test['how_many_6'] = np.round(test['how_many_6'])"
      ],
      "execution_count": null,
      "outputs": []
    },
    {
      "cell_type": "code",
      "metadata": {
        "id": "C2PwGLsY3ZJ9"
      },
      "source": [
        "traincur = train.groupby(['ID','how_many_6']).agg({'CUR BAL - HIST':'mean'}).reset_index()\r\n",
        "testcur = test.groupby(['ID','how_many_6']).agg({'CUR BAL - HIST':'mean'}).reset_index()"
      ],
      "execution_count": null,
      "outputs": []
    },
    {
      "cell_type": "code",
      "metadata": {
        "id": "KfJupswp3ZNJ"
      },
      "source": [
        "traincur = traincur[(traincur['how_many_6']<=30) & (traincur['how_many_6']>=1)]\r\n",
        "testcur = testcur[(testcur['how_many_6']<=30) & (testcur['how_many_6']>=1)]"
      ],
      "execution_count": null,
      "outputs": []
    },
    {
      "cell_type": "code",
      "metadata": {
        "id": "0eeewXqv7Apt"
      },
      "source": [
        "testcur = testcur.pivot_table(values='CUR BAL - HIST', index='ID', columns='how_many_6').reset_index()\r\n",
        "traincur = traincur.pivot_table(values='CUR BAL - HIST', index='ID', columns='how_many_6').reset_index()"
      ],
      "execution_count": null,
      "outputs": []
    },
    {
      "cell_type": "code",
      "metadata": {
        "colab": {
          "base_uri": "https://localhost:8080/"
        },
        "id": "2Ovm1G5YmRCC",
        "outputId": "b9690fd1-71ef-4bbc-b538-6b18568c5773"
      },
      "source": [
        "train.columns"
      ],
      "execution_count": null,
      "outputs": [
        {
          "output_type": "execute_result",
          "data": {
            "text/plain": [
              "Index(['ID', 'EMI', 'REPORTED DATE - HIST', 'CUR BAL - HIST', 'ACCT-TYPE',\n",
              "       'CONTRIBUTOR-TYPE', 'OWNERSHIP-IND', 'ACCOUNT-STATUS', 'ASSET_CLASS',\n",
              "       'SELF-INDICATOR', 'TENURE', 'Frequency', 'InstlmentMode', 'LoanStatus',\n",
              "       'PaymentMode', 'BranchID', 'Tenure', 'AssetCost', 'AmountFinance',\n",
              "       'DisbursalAmount', 'DisbursalDate', 'MaturityDAte', 'AuthDate',\n",
              "       'ManufacturerID', 'LTV', 'SEX', 'AGE', 'MonthlyIncome', 'State',\n",
              "       'Top-up Month', 'DURATION', 'lens', 'how_many_6'],\n",
              "      dtype='object')"
            ]
          },
          "metadata": {
            "tags": []
          },
          "execution_count": 13
        }
      ]
    },
    {
      "cell_type": "code",
      "metadata": {
        "colab": {
          "base_uri": "https://localhost:8080/"
        },
        "id": "P9Q1u7C-h0mr",
        "outputId": "b70b241b-6acd-4a58-86d1-9ee682f0524e"
      },
      "source": [
        "for col in ['REPORTED DATE - HIST','DisbursalDate','MaturityDAte']:\r\n",
        "  print(col)\r\n",
        "  train[col+'m'] = train[col].apply(lambda x: str(x)[5:7])\r\n",
        "  test[col+'m'] = test[col].apply(lambda x: str(x)[5:7])\r\n",
        "\r\n",
        "  train[col+'y'] = train[col].apply(lambda x: str(x)[:4])\r\n",
        "  test[col+'y'] = test[col].apply(lambda x: str(x)[:4])\r\n",
        "\r\n",
        "for col in ['REPORTED DATE - HIST','DisbursalDate','MaturityDAte']:\r\n",
        "  print(col)\r\n",
        "  train[col+'m'] = pd.to_numeric(train[col+'m'],downcast='float',errors='coerce')\r\n",
        "  test[col+'m'] = pd.to_numeric(test[col+'m'],downcast='float',errors='coerce')\r\n",
        "\r\n",
        "  train[col+'y'] = pd.to_numeric(train[col+'y'], downcast='float',errors='coerce')\r\n",
        "  test[col+'y'] = pd.to_numeric(test[col+'y'], downcast='float',errors='coerce')"
      ],
      "execution_count": null,
      "outputs": [
        {
          "output_type": "stream",
          "text": [
            "REPORTED DATE - HIST\n",
            "DisbursalDate\n",
            "MaturityDAte\n",
            "REPORTED DATE - HIST\n",
            "DisbursalDate\n",
            "MaturityDAte\n"
          ],
          "name": "stdout"
        }
      ]
    },
    {
      "cell_type": "code",
      "metadata": {
        "colab": {
          "base_uri": "https://localhost:8080/"
        },
        "id": "dJy88PAD_m7L",
        "outputId": "111ab928-bf63-4792-a398-29612ba6b87e"
      },
      "source": [
        "train.columns"
      ],
      "execution_count": null,
      "outputs": [
        {
          "output_type": "execute_result",
          "data": {
            "text/plain": [
              "Index(['ID', 'EMI', 'REPORTED DATE - HIST', 'CUR BAL - HIST', 'ACCT-TYPE',\n",
              "       'CONTRIBUTOR-TYPE', 'OWNERSHIP-IND', 'ACCOUNT-STATUS', 'ASSET_CLASS',\n",
              "       'SELF-INDICATOR', 'TENURE', 'Frequency', 'InstlmentMode', 'LoanStatus',\n",
              "       'PaymentMode', 'BranchID', 'Tenure', 'AssetCost', 'AmountFinance',\n",
              "       'DisbursalAmount', 'DisbursalDate', 'MaturityDAte', 'AuthDate',\n",
              "       'ManufacturerID', 'LTV', 'SEX', 'AGE', 'MonthlyIncome', 'State',\n",
              "       'Top-up Month', 'DURATION', 'lens', 'how_many_6',\n",
              "       'REPORTED DATE - HISTm', 'REPORTED DATE - HISTy', 'DisbursalDatem',\n",
              "       'DisbursalDatey', 'MaturityDAtem', 'MaturityDAtey'],\n",
              "      dtype='object')"
            ]
          },
          "metadata": {
            "tags": []
          },
          "execution_count": 15
        }
      ]
    },
    {
      "cell_type": "code",
      "metadata": {
        "colab": {
          "base_uri": "https://localhost:8080/",
          "height": 348
        },
        "id": "I6JYhCvXAO1V",
        "outputId": "f15ea60f-8732-47a3-95b3-19858ab52482"
      },
      "source": [
        "train.head()"
      ],
      "execution_count": null,
      "outputs": [
        {
          "output_type": "execute_result",
          "data": {
            "text/html": [
              "<div>\n",
              "<style scoped>\n",
              "    .dataframe tbody tr th:only-of-type {\n",
              "        vertical-align: middle;\n",
              "    }\n",
              "\n",
              "    .dataframe tbody tr th {\n",
              "        vertical-align: top;\n",
              "    }\n",
              "\n",
              "    .dataframe thead th {\n",
              "        text-align: right;\n",
              "    }\n",
              "</style>\n",
              "<table border=\"1\" class=\"dataframe\">\n",
              "  <thead>\n",
              "    <tr style=\"text-align: right;\">\n",
              "      <th></th>\n",
              "      <th>ID</th>\n",
              "      <th>EMI</th>\n",
              "      <th>REPORTED DATE - HIST</th>\n",
              "      <th>CUR BAL - HIST</th>\n",
              "      <th>ACCT-TYPE</th>\n",
              "      <th>CONTRIBUTOR-TYPE</th>\n",
              "      <th>OWNERSHIP-IND</th>\n",
              "      <th>ACCOUNT-STATUS</th>\n",
              "      <th>ASSET_CLASS</th>\n",
              "      <th>SELF-INDICATOR</th>\n",
              "      <th>TENURE</th>\n",
              "      <th>Frequency</th>\n",
              "      <th>InstlmentMode</th>\n",
              "      <th>LoanStatus</th>\n",
              "      <th>PaymentMode</th>\n",
              "      <th>BranchID</th>\n",
              "      <th>Tenure</th>\n",
              "      <th>AssetCost</th>\n",
              "      <th>AmountFinance</th>\n",
              "      <th>DisbursalAmount</th>\n",
              "      <th>DisbursalDate</th>\n",
              "      <th>MaturityDAte</th>\n",
              "      <th>AuthDate</th>\n",
              "      <th>ManufacturerID</th>\n",
              "      <th>LTV</th>\n",
              "      <th>SEX</th>\n",
              "      <th>AGE</th>\n",
              "      <th>MonthlyIncome</th>\n",
              "      <th>State</th>\n",
              "      <th>Top-up Month</th>\n",
              "      <th>DURATION</th>\n",
              "      <th>lens</th>\n",
              "      <th>how_many_6</th>\n",
              "      <th>REPORTED DATE - HISTm</th>\n",
              "      <th>REPORTED DATE - HISTy</th>\n",
              "      <th>DisbursalDatem</th>\n",
              "      <th>DisbursalDatey</th>\n",
              "      <th>MaturityDAtem</th>\n",
              "      <th>MaturityDAtey</th>\n",
              "    </tr>\n",
              "  </thead>\n",
              "  <tbody>\n",
              "    <tr>\n",
              "      <th>101</th>\n",
              "      <td>1</td>\n",
              "      <td>24000.0</td>\n",
              "      <td>2013-03-31 00:00:00</td>\n",
              "      <td>226605.0</td>\n",
              "      <td>1.28679</td>\n",
              "      <td>1.420227</td>\n",
              "      <td>1.458272</td>\n",
              "      <td>1.417701</td>\n",
              "      <td>1.427534</td>\n",
              "      <td>5</td>\n",
              "      <td>60.0</td>\n",
              "      <td>2</td>\n",
              "      <td>1</td>\n",
              "      <td>1</td>\n",
              "      <td>0.664989</td>\n",
              "      <td>0.700483</td>\n",
              "      <td>48</td>\n",
              "      <td>450000</td>\n",
              "      <td>275000.0</td>\n",
              "      <td>275000.0</td>\n",
              "      <td>2012-02-10</td>\n",
              "      <td>2016-01-15</td>\n",
              "      <td>2012-02-10</td>\n",
              "      <td>0.679963</td>\n",
              "      <td>61.11</td>\n",
              "      <td>1</td>\n",
              "      <td>49.0</td>\n",
              "      <td>35833.33</td>\n",
              "      <td>0.874595</td>\n",
              "      <td>6</td>\n",
              "      <td>1435 days</td>\n",
              "      <td>191</td>\n",
              "      <td>5.0</td>\n",
              "      <td>3.0</td>\n",
              "      <td>2013.0</td>\n",
              "      <td>2.0</td>\n",
              "      <td>2012.0</td>\n",
              "      <td>1.0</td>\n",
              "      <td>2016.0</td>\n",
              "    </tr>\n",
              "    <tr>\n",
              "      <th>100</th>\n",
              "      <td>1</td>\n",
              "      <td>24000.0</td>\n",
              "      <td>2013-04-30 00:00:00</td>\n",
              "      <td>205875.0</td>\n",
              "      <td>1.28679</td>\n",
              "      <td>1.420227</td>\n",
              "      <td>1.458272</td>\n",
              "      <td>1.417701</td>\n",
              "      <td>1.427534</td>\n",
              "      <td>5</td>\n",
              "      <td>60.0</td>\n",
              "      <td>2</td>\n",
              "      <td>1</td>\n",
              "      <td>1</td>\n",
              "      <td>0.664989</td>\n",
              "      <td>0.700483</td>\n",
              "      <td>48</td>\n",
              "      <td>450000</td>\n",
              "      <td>275000.0</td>\n",
              "      <td>275000.0</td>\n",
              "      <td>2012-02-10</td>\n",
              "      <td>2016-01-15</td>\n",
              "      <td>2012-02-10</td>\n",
              "      <td>0.679963</td>\n",
              "      <td>61.11</td>\n",
              "      <td>1</td>\n",
              "      <td>49.0</td>\n",
              "      <td>35833.33</td>\n",
              "      <td>0.874595</td>\n",
              "      <td>6</td>\n",
              "      <td>1435 days</td>\n",
              "      <td>191</td>\n",
              "      <td>5.0</td>\n",
              "      <td>4.0</td>\n",
              "      <td>2013.0</td>\n",
              "      <td>2.0</td>\n",
              "      <td>2012.0</td>\n",
              "      <td>1.0</td>\n",
              "      <td>2016.0</td>\n",
              "    </tr>\n",
              "    <tr>\n",
              "      <th>99</th>\n",
              "      <td>1</td>\n",
              "      <td>24000.0</td>\n",
              "      <td>2013-05-31 00:00:00</td>\n",
              "      <td>208846.0</td>\n",
              "      <td>1.28679</td>\n",
              "      <td>1.420227</td>\n",
              "      <td>1.458272</td>\n",
              "      <td>1.417701</td>\n",
              "      <td>1.427534</td>\n",
              "      <td>5</td>\n",
              "      <td>60.0</td>\n",
              "      <td>2</td>\n",
              "      <td>1</td>\n",
              "      <td>1</td>\n",
              "      <td>0.664989</td>\n",
              "      <td>0.700483</td>\n",
              "      <td>48</td>\n",
              "      <td>450000</td>\n",
              "      <td>275000.0</td>\n",
              "      <td>275000.0</td>\n",
              "      <td>2012-02-10</td>\n",
              "      <td>2016-01-15</td>\n",
              "      <td>2012-02-10</td>\n",
              "      <td>0.679963</td>\n",
              "      <td>61.11</td>\n",
              "      <td>1</td>\n",
              "      <td>49.0</td>\n",
              "      <td>35833.33</td>\n",
              "      <td>0.874595</td>\n",
              "      <td>6</td>\n",
              "      <td>1435 days</td>\n",
              "      <td>191</td>\n",
              "      <td>5.0</td>\n",
              "      <td>5.0</td>\n",
              "      <td>2013.0</td>\n",
              "      <td>2.0</td>\n",
              "      <td>2012.0</td>\n",
              "      <td>1.0</td>\n",
              "      <td>2016.0</td>\n",
              "    </tr>\n",
              "    <tr>\n",
              "      <th>98</th>\n",
              "      <td>1</td>\n",
              "      <td>24000.0</td>\n",
              "      <td>2013-06-30 00:00:00</td>\n",
              "      <td>211860.0</td>\n",
              "      <td>1.28679</td>\n",
              "      <td>1.420227</td>\n",
              "      <td>1.458272</td>\n",
              "      <td>1.417701</td>\n",
              "      <td>1.427534</td>\n",
              "      <td>5</td>\n",
              "      <td>60.0</td>\n",
              "      <td>2</td>\n",
              "      <td>1</td>\n",
              "      <td>1</td>\n",
              "      <td>0.664989</td>\n",
              "      <td>0.700483</td>\n",
              "      <td>48</td>\n",
              "      <td>450000</td>\n",
              "      <td>275000.0</td>\n",
              "      <td>275000.0</td>\n",
              "      <td>2012-02-10</td>\n",
              "      <td>2016-01-15</td>\n",
              "      <td>2012-02-10</td>\n",
              "      <td>0.679963</td>\n",
              "      <td>61.11</td>\n",
              "      <td>1</td>\n",
              "      <td>49.0</td>\n",
              "      <td>35833.33</td>\n",
              "      <td>0.874595</td>\n",
              "      <td>6</td>\n",
              "      <td>1435 days</td>\n",
              "      <td>191</td>\n",
              "      <td>6.0</td>\n",
              "      <td>6.0</td>\n",
              "      <td>2013.0</td>\n",
              "      <td>2.0</td>\n",
              "      <td>2012.0</td>\n",
              "      <td>1.0</td>\n",
              "      <td>2016.0</td>\n",
              "    </tr>\n",
              "    <tr>\n",
              "      <th>97</th>\n",
              "      <td>1</td>\n",
              "      <td>24000.0</td>\n",
              "      <td>2013-07-31 00:00:00</td>\n",
              "      <td>190917.0</td>\n",
              "      <td>1.28679</td>\n",
              "      <td>1.420227</td>\n",
              "      <td>1.458272</td>\n",
              "      <td>1.417701</td>\n",
              "      <td>1.427534</td>\n",
              "      <td>5</td>\n",
              "      <td>60.0</td>\n",
              "      <td>2</td>\n",
              "      <td>1</td>\n",
              "      <td>1</td>\n",
              "      <td>0.664989</td>\n",
              "      <td>0.700483</td>\n",
              "      <td>48</td>\n",
              "      <td>450000</td>\n",
              "      <td>275000.0</td>\n",
              "      <td>275000.0</td>\n",
              "      <td>2012-02-10</td>\n",
              "      <td>2016-01-15</td>\n",
              "      <td>2012-02-10</td>\n",
              "      <td>0.679963</td>\n",
              "      <td>61.11</td>\n",
              "      <td>1</td>\n",
              "      <td>49.0</td>\n",
              "      <td>35833.33</td>\n",
              "      <td>0.874595</td>\n",
              "      <td>6</td>\n",
              "      <td>1435 days</td>\n",
              "      <td>191</td>\n",
              "      <td>6.0</td>\n",
              "      <td>7.0</td>\n",
              "      <td>2013.0</td>\n",
              "      <td>2.0</td>\n",
              "      <td>2012.0</td>\n",
              "      <td>1.0</td>\n",
              "      <td>2016.0</td>\n",
              "    </tr>\n",
              "  </tbody>\n",
              "</table>\n",
              "</div>"
            ],
            "text/plain": [
              "     ID      EMI  ... MaturityDAtem  MaturityDAtey\n",
              "101   1  24000.0  ...           1.0         2016.0\n",
              "100   1  24000.0  ...           1.0         2016.0\n",
              "99    1  24000.0  ...           1.0         2016.0\n",
              "98    1  24000.0  ...           1.0         2016.0\n",
              "97    1  24000.0  ...           1.0         2016.0\n",
              "\n",
              "[5 rows x 39 columns]"
            ]
          },
          "metadata": {
            "tags": []
          },
          "execution_count": 16
        }
      ]
    },
    {
      "cell_type": "code",
      "metadata": {
        "id": "FvVqmHjR7AyR"
      },
      "source": [
        "train = train.groupby('ID').agg({\r\n",
        "   'EMI':'mean', \r\n",
        "  'ACCT-TYPE':'mean',\r\n",
        "  'CONTRIBUTOR-TYPE':'mean', \r\n",
        "  'OWNERSHIP-IND':'mean', \r\n",
        "  'ACCOUNT-STATUS':'mean', \r\n",
        "  'ASSET_CLASS':'mean',\r\n",
        "  'SELF-INDICATOR':'mean', \r\n",
        "  'TENURE':'mean', \r\n",
        "  'Frequency':'mean', \r\n",
        "  'InstlmentMode':'mean', \r\n",
        "  'LoanStatus':'sum',\r\n",
        "       'PaymentMode':'mean', \r\n",
        "       'BranchID':'mean', \r\n",
        "       'Tenure':'mean', \r\n",
        "       'AssetCost':'mean', \r\n",
        "       'AmountFinance':'mean',\r\n",
        "       'DisbursalAmount':'mean', \r\n",
        "       'ManufacturerID':'mean', \r\n",
        "       'LTV':'mean', \r\n",
        "       'SEX':'mean', \r\n",
        "       'AGE':'mean', \r\n",
        "       'MonthlyIncome':'mean', \r\n",
        "       'State':'mean',\r\n",
        "       'Top-up Month':'mean', \r\n",
        "       'DURATION':'unique', \r\n",
        "       'lens':'mean', \r\n",
        "       'how_many_6':'mean',\r\n",
        "       'REPORTED DATE - HISTm':'mean', \r\n",
        "       'REPORTED DATE - HISTy':'mean', \r\n",
        "       'DisbursalDatem':'mean',\r\n",
        "       'DisbursalDatey':'mean', \r\n",
        "       'MaturityDAtem':'mean', \r\n",
        "       'MaturityDAtey':'mean',\r\n",
        "    # 'DisbursalDatem':'mean',\r\n",
        "    # 'DisbursalDatey':'mean',\r\n",
        "    # 'MaturityDAtem':'mean',\r\n",
        "    # 'MaturityDAtey':'mean',\r\n",
        "    # 'EMI':'mean',\r\n",
        "    # 'SELF-INDICATOR':'mean',\r\n",
        "    # 'TENURE':'mean',\r\n",
        "    # 'Frequency':'mean',\r\n",
        "    # 'InstlmentMode':'mean',\r\n",
        "    # 'LoanStatus':'sum',\r\n",
        "    # 'PaymentMode':'mean',\r\n",
        "    # 'Tenure':'mean',\r\n",
        "    # 'AssetCost':'mean',\r\n",
        "    # 'AmountFinance':'mean',\r\n",
        "    # 'DisbursalAmount':'mean',\r\n",
        "    # 'LTV':'mean','SEX':'mean',\r\n",
        "    # 'AGE':'mean','MonthlyIncome':'mean',\r\n",
        "    # 'Top-up Month':'unique','DURATION':'unique',\r\n",
        "    # 'lens':'mean'\r\n",
        "\r\n",
        "}).reset_index()\r\n",
        "\r\n",
        "test = test.groupby('ID').agg({\r\n",
        "    \r\n",
        "    'EMI':'mean', \r\n",
        "  'ACCT-TYPE':'mean',\r\n",
        "  'CONTRIBUTOR-TYPE':'mean', \r\n",
        "  'OWNERSHIP-IND':'mean', \r\n",
        "  'ACCOUNT-STATUS':'mean', \r\n",
        "  'ASSET_CLASS':'mean',\r\n",
        "  'SELF-INDICATOR':'mean', \r\n",
        "  'TENURE':'mean', \r\n",
        "  'Frequency':'mean', \r\n",
        "  'InstlmentMode':'mean', \r\n",
        "  'LoanStatus':'sum',\r\n",
        "       'PaymentMode':'mean', \r\n",
        "       'BranchID':'mean', \r\n",
        "       'Tenure':'mean', \r\n",
        "       'AssetCost':'mean', \r\n",
        "       'AmountFinance':'mean',\r\n",
        "       'DisbursalAmount':'mean', \r\n",
        "       'ManufacturerID':'mean', \r\n",
        "       'LTV':'mean', \r\n",
        "       'SEX':'mean', \r\n",
        "       'AGE':'mean', \r\n",
        "       'MonthlyIncome':'mean', \r\n",
        "       'State':'mean',\r\n",
        "      #  'Top-up Month':'mean', \r\n",
        "       'DURATION':'unique', \r\n",
        "       'lens':'mean', \r\n",
        "       'how_many_6':'mean',\r\n",
        "       'REPORTED DATE - HISTm':'mean', \r\n",
        "       'REPORTED DATE - HISTy':'mean', \r\n",
        "       'DisbursalDatem':'mean',\r\n",
        "       'DisbursalDatey':'mean', \r\n",
        "       'MaturityDAtem':'mean', \r\n",
        "       'MaturityDAtey':'mean',\r\n",
        "    # 'DisbursalDatem':'mean',\r\n",
        "    # 'DisbursalDatey':'mean',\r\n",
        "    # 'MaturityDAtem':'mean',\r\n",
        "    # 'MaturityDAtey':'mean',\r\n",
        "    # 'EMI':'mean',\r\n",
        "    # 'SELF-INDICATOR':'mean',\r\n",
        "    # 'TENURE':'mean',\r\n",
        "    # 'Frequency':'mean',\r\n",
        "    # 'InstlmentMode':'mean',\r\n",
        "    # 'LoanStatus':'sum',\r\n",
        "    # 'PaymentMode':'mean',\r\n",
        "    # 'Tenure':'mean',\r\n",
        "    # 'AssetCost':'mean',\r\n",
        "    # 'AmountFinance':'mean',\r\n",
        "    # 'DisbursalAmount':'mean',\r\n",
        "    # 'LTV':'mean','SEX':'mean',\r\n",
        "    # 'AGE':'mean','MonthlyIncome':'mean',\r\n",
        "    # 'DURATION':'unique',\r\n",
        "    # 'lens':'mean'\r\n",
        "\r\n",
        "}).reset_index()"
      ],
      "execution_count": null,
      "outputs": []
    },
    {
      "cell_type": "code",
      "metadata": {
        "colab": {
          "base_uri": "https://localhost:8080/"
        },
        "id": "QlsoEn3_uXCH",
        "outputId": "ee652c8c-2d3d-4c3a-da57-2d2bc952d2b4"
      },
      "source": [
        "test.shape,train.shape"
      ],
      "execution_count": null,
      "outputs": [
        {
          "output_type": "execute_result",
          "data": {
            "text/plain": [
              "((14745, 33), (128655, 34))"
            ]
          },
          "metadata": {
            "tags": []
          },
          "execution_count": 18
        }
      ]
    },
    {
      "cell_type": "code",
      "metadata": {
        "id": "bFD_BZJm7Az6"
      },
      "source": [
        "train['DURATION'] = train['DURATION'].apply(lambda x: x[0])\r\n",
        "# train['Top-up Month'] = train['Top-up Month'].apply(lambda x: x[0])\r\n",
        "test['DURATION'] = test['DURATION'].apply(lambda x: x[0])"
      ],
      "execution_count": null,
      "outputs": []
    },
    {
      "cell_type": "code",
      "metadata": {
        "id": "bfiIYFcxrufI"
      },
      "source": [
        "# traincur = traincur.fillna(0)\r\n",
        "# testcur = testcur.fillna(0)"
      ],
      "execution_count": null,
      "outputs": []
    },
    {
      "cell_type": "code",
      "metadata": {
        "id": "HnzQ-DPJ7A3v"
      },
      "source": [
        "train = train.merge(traincur,on='ID',how='left')\r\n",
        "test = test.merge(testcur,on='ID',how='left')"
      ],
      "execution_count": null,
      "outputs": []
    },
    {
      "cell_type": "code",
      "metadata": {
        "id": "1q8CQ1mFul4Y"
      },
      "source": [
        "# train = train.fillna(0)\r\n",
        "# test = test.fillna(0)"
      ],
      "execution_count": null,
      "outputs": []
    },
    {
      "cell_type": "code",
      "metadata": {
        "id": "djPKPmJWgdu_"
      },
      "source": [
        "def datestrp(x,s):\r\n",
        "  x=str(x)\r\n",
        "  if s=='m' and ('N' not in x):\r\n",
        "    return x[5:7]\r\n",
        "  else:\r\n",
        "    return np.nan\r\n",
        "  if s=='y' and ('N' not in x):\r\n",
        "    return x[:4]\r\n",
        "  else:\r\n",
        "    return np.nan\r\n"
      ],
      "execution_count": null,
      "outputs": []
    },
    {
      "cell_type": "code",
      "metadata": {
        "id": "uFEwQZx8mMH5"
      },
      "source": [
        ""
      ],
      "execution_count": null,
      "outputs": []
    },
    {
      "cell_type": "code",
      "metadata": {
        "id": "4nyT-_huqEb1"
      },
      "source": [
        "train['DURATION'] = train['DURATION'].apply(lambda x: float(str(x).split('days')[0]))\r\n",
        "test['DURATION'] = test['DURATION'].apply(lambda x: float(str(x).split('days')[0]))"
      ],
      "execution_count": null,
      "outputs": []
    },
    {
      "cell_type": "code",
      "metadata": {
        "colab": {
          "base_uri": "https://localhost:8080/"
        },
        "id": "X5OaHRc27saQ",
        "outputId": "47252a1b-914f-4d1c-8f26-0ddef9e8f7fa"
      },
      "source": [
        "# test.columns"
      ],
      "execution_count": null,
      "outputs": [
        {
          "output_type": "execute_result",
          "data": {
            "text/plain": [
              "Index([                   'ID',                   'EMI',\n",
              "                   'ACCT-TYPE',      'CONTRIBUTOR-TYPE',\n",
              "               'OWNERSHIP-IND',        'ACCOUNT-STATUS',\n",
              "                 'ASSET_CLASS',        'SELF-INDICATOR',\n",
              "                      'TENURE',             'Frequency',\n",
              "               'InstlmentMode',            'LoanStatus',\n",
              "                 'PaymentMode',              'BranchID',\n",
              "                      'Tenure',             'AssetCost',\n",
              "               'AmountFinance',       'DisbursalAmount',\n",
              "              'ManufacturerID',                   'LTV',\n",
              "                         'SEX',                   'AGE',\n",
              "               'MonthlyIncome',                 'State',\n",
              "                    'DURATION',                  'lens',\n",
              "                  'how_many_6', 'REPORTED DATE - HISTm',\n",
              "       'REPORTED DATE - HISTy',        'DisbursalDatem',\n",
              "              'DisbursalDatey',         'MaturityDAtem',\n",
              "               'MaturityDAtey',                     1.0,\n",
              "                           2.0,                     3.0,\n",
              "                           4.0,                     5.0,\n",
              "                           6.0,                     7.0,\n",
              "                           8.0,                     9.0,\n",
              "                          10.0,                    11.0,\n",
              "                          12.0,                    13.0,\n",
              "                          14.0,                    15.0,\n",
              "                          16.0,                    17.0,\n",
              "                          18.0,                    19.0,\n",
              "                          20.0,                    21.0,\n",
              "                          22.0,                    23.0,\n",
              "                          24.0,                    25.0,\n",
              "                          26.0,                    27.0,\n",
              "                          28.0,                    29.0,\n",
              "                          30.0],\n",
              "      dtype='object')"
            ]
          },
          "metadata": {
            "tags": []
          },
          "execution_count": 64
        }
      ]
    },
    {
      "cell_type": "code",
      "metadata": {
        "id": "hB43v6YxrPh4"
      },
      "source": [
        "# train = train.drop(columns= ['REPORTED DATE - HIST',\r\n",
        "#                      'DisbursalDate',\r\n",
        "#                      'MaturityDAte',\r\n",
        "#                      'State',\r\n",
        "#                      ])\r\n",
        "\r\n",
        "# test = test.drop(columns= ['REPORTED DATE - HIST',\r\n",
        "#                      'DisbursalDate',\r\n",
        "#                      'MaturityDAte',\r\n",
        "#                      'State',\r\n",
        "#                      ])\r\n"
      ],
      "execution_count": null,
      "outputs": []
    },
    {
      "cell_type": "code",
      "metadata": {
        "id": "4HgdLQDX_ncp"
      },
      "source": [
        "# train_x, test_x, train_y, test_y = train_test_split(trr.drop(columns=['ID','Top-up Month']), trr['Top-up Month'])"
      ],
      "execution_count": null,
      "outputs": []
    },
    {
      "cell_type": "code",
      "metadata": {
        "id": "nbziRPr8PKn8"
      },
      "source": [
        "# params = {'alpha': 0.00011211243738408213,\r\n",
        "#  'booster': 'dart',\r\n",
        "#  'eta': 0.016997707638062225,\r\n",
        "#  'gamma': 4.3419043769837756e-08,\r\n",
        "#  'grow_policy': 'depthwise',\r\n",
        "#  'lambda': 0.007668374533807842,\r\n",
        "#  'max_depth': 6,\r\n",
        "#  'n_estimators': 291,\r\n",
        "#  'normalize_type': 'tree',\r\n",
        "#  'rate_drop': 7.535249046289386e-06,\r\n",
        "#  'sample_type': 'uniform',\r\n",
        "#  'skip_drop': 0.0035502603150640473}\r\n",
        "# model = lightgbm.LGBMClassifier(n_jobs=-1)\r\n",
        "                                \r\n",
        "model = xgb.XGBClassifier(m_jobs=-1)\r\n",
        "# from catboost import CatBoostClassifier\r\n",
        "# model = catb.CatBoostClassifier(\r\n",
        "#     # iterations=1000,\r\n",
        "#     n_estimators=500\r\n",
        "# #     verbose=5,\r\n",
        "# )\r\n",
        "\r\n",
        "# model.fit(\r\n",
        "#     train_x, train_y,\r\n",
        "#     cat_features=[],\r\n",
        "#     eval_set=(test_x,test_y),\r\n",
        "# )"
      ],
      "execution_count": null,
      "outputs": []
    },
    {
      "cell_type": "code",
      "metadata": {
        "id": "Xyz6ebu7pP8_"
      },
      "source": [
        "# wts = train_y.value_counts()/train.shape[0]\r\n",
        "# wts = 0.006125/wts"
      ],
      "execution_count": null,
      "outputs": []
    },
    {
      "cell_type": "code",
      "metadata": {
        "id": "GzguafD8wmN2"
      },
      "source": [
        "# wts"
      ],
      "execution_count": null,
      "outputs": []
    },
    {
      "cell_type": "code",
      "metadata": {
        "id": "2nFKxsuQ6KgK"
      },
      "source": [
        "# parameters = { #when use hyperthread, xgboost may become slower\r\n",
        "              \r\n",
        "#               'learning_rate': [0.05,0.1,0.001], #so called `eta` value\r\n",
        "#               'max_depth': [6,7,8,10],\r\n",
        "#               'min_child_weight': [11,50,100],\r\n",
        "#               'subsample': [0.8],\r\n",
        "#               'colsample_bytree': [0.7],\r\n",
        "#               'n_estimators': [100,200,500], #number of trees, change it to 1000 for better results\r\n",
        "#               'seed': [1337],\r\n",
        "#               'reg_lambda':[0,1,10],\r\n",
        "#               }\r\n",
        "\r\n",
        "\r\n",
        "# clf = GridSearchCV(model, parameters, n_jobs=-1, \r\n",
        "#                    cv=StratifiedKFold(5), \r\n",
        "#                    verbose=3, refit=True)\r\n",
        "\r\n",
        "# clf.fit(train.drop(columns=['ID','Top-up Month']), train[\"Top-up Month\"])"
      ],
      "execution_count": null,
      "outputs": []
    },
    {
      "cell_type": "code",
      "metadata": {
        "id": "LW6PNrtEGq1K"
      },
      "source": [
        "\r\n",
        "# clf = catb.CatBoostClassifier(\r\n",
        "#     iterations=400,\r\n",
        "# #     verbose=5,\r\n",
        "# )\r\n",
        "\r\n",
        "# clf.fit(\r\n",
        "#     train_x, train_y,\r\n",
        "#     cat_features=[],\r\n",
        "#     eval_set=(test_x,test_y),\r\n",
        "# )"
      ],
      "execution_count": null,
      "outputs": []
    },
    {
      "cell_type": "code",
      "metadata": {
        "colab": {
          "base_uri": "https://localhost:8080/"
        },
        "id": "hy9Aj7fYNPGc",
        "outputId": "fb5c3066-c001-4d33-d38b-d9cc06ef1bb1"
      },
      "source": [
        "# # clf = model\r\n",
        "# model.fit(train_x, train_y)"
      ],
      "execution_count": null,
      "outputs": [
        {
          "output_type": "execute_result",
          "data": {
            "text/plain": [
              "XGBClassifier(base_score=0.5, booster='gbtree', colsample_bylevel=1,\n",
              "              colsample_bynode=1, colsample_bytree=1, gamma=0,\n",
              "              learning_rate=0.1, m_jobs=-1, max_delta_step=0, max_depth=3,\n",
              "              min_child_weight=1, missing=None, n_estimators=100, n_jobs=1,\n",
              "              nthread=None, objective='multi:softprob', random_state=0,\n",
              "              reg_alpha=0, reg_lambda=1, scale_pos_weight=1, seed=None,\n",
              "              silent=None, subsample=1, verbosity=1)"
            ]
          },
          "metadata": {
            "tags": []
          },
          "execution_count": 74
        }
      ]
    },
    {
      "cell_type": "code",
      "metadata": {
        "id": "ImJcBJJG9DP6"
      },
      "source": [
        "# # import shap\r\n",
        "# explainer = shap.TreeExplainer(model)\r\n",
        "# shap_values = explainer.shap_values(train_x.iloc[:2000,:])\r\n",
        "# shap.summary_plot(shap_values,train_x.iloc[:2000,:] )"
      ],
      "execution_count": null,
      "outputs": []
    },
    {
      "cell_type": "code",
      "metadata": {
        "id": "UF8KbpXQArud"
      },
      "source": [
        "# preds = model.predict(test_x)\r\n",
        "\r\n",
        "# f1 = f1_score(test_y,preds,average='macro')"
      ],
      "execution_count": null,
      "outputs": []
    },
    {
      "cell_type": "code",
      "metadata": {
        "colab": {
          "base_uri": "https://localhost:8080/"
        },
        "id": "gZNT061JstY_",
        "outputId": "7059249e-526c-42cd-9068-675e0827fe62"
      },
      "source": [
        "# f1"
      ],
      "execution_count": null,
      "outputs": [
        {
          "output_type": "execute_result",
          "data": {
            "text/plain": [
              "0.38606935111063084"
            ]
          },
          "metadata": {
            "tags": []
          },
          "execution_count": 77
        }
      ]
    },
    {
      "cell_type": "code",
      "metadata": {
        "colab": {
          "base_uri": "https://localhost:8080/"
        },
        "id": "jUClNzH4o8SQ",
        "outputId": "b47fb6d6-8eda-40a8-cf31-ffec6a6b8534"
      },
      "source": [
        "# set(train.columns)-set(test.columns)"
      ],
      "execution_count": null,
      "outputs": [
        {
          "output_type": "execute_result",
          "data": {
            "text/plain": [
              "{'Top-up Month'}"
            ]
          },
          "metadata": {
            "tags": []
          },
          "execution_count": 78
        }
      ]
    },
    {
      "cell_type": "code",
      "metadata": {
        "id": "8Xs9VxT_Gx84"
      },
      "source": [
        "# preds = model.predict(tss.drop(columns=['ID']))"
      ],
      "execution_count": null,
      "outputs": []
    },
    {
      "cell_type": "code",
      "metadata": {
        "id": "4kVEohJsdwHO"
      },
      "source": [
        "# # preds = encode.inverse_transform(preds)\r\n",
        "# trgt_inv_maps = {6:' > 48 Months', \r\n",
        "#              0:'No Top-up Service', \r\n",
        "#             1: '12-18 Months',\r\n",
        "#               5:'36-48 Months', \r\n",
        "#               2:'18-24 Months', \r\n",
        "#               3:'24-30 Months', \r\n",
        "#               4:'30-36 Months'}\r\n",
        "# preds = pd.Series(preds.reshape(-1,)).map(trgt_inv_maps)"
      ],
      "execution_count": null,
      "outputs": []
    },
    {
      "cell_type": "code",
      "metadata": {
        "colab": {
          "base_uri": "https://localhost:8080/",
          "height": 261
        },
        "id": "YOfhFcL_l-FP",
        "outputId": "0ca1cf0f-9514-42cc-a142-23156825b877"
      },
      "source": [
        "# test.head()"
      ],
      "execution_count": null,
      "outputs": [
        {
          "output_type": "execute_result",
          "data": {
            "text/html": [
              "<div>\n",
              "<style scoped>\n",
              "    .dataframe tbody tr th:only-of-type {\n",
              "        vertical-align: middle;\n",
              "    }\n",
              "\n",
              "    .dataframe tbody tr th {\n",
              "        vertical-align: top;\n",
              "    }\n",
              "\n",
              "    .dataframe thead th {\n",
              "        text-align: right;\n",
              "    }\n",
              "</style>\n",
              "<table border=\"1\" class=\"dataframe\">\n",
              "  <thead>\n",
              "    <tr style=\"text-align: right;\">\n",
              "      <th></th>\n",
              "      <th>ID</th>\n",
              "      <th>EMI</th>\n",
              "      <th>ACCT-TYPE</th>\n",
              "      <th>CONTRIBUTOR-TYPE</th>\n",
              "      <th>OWNERSHIP-IND</th>\n",
              "      <th>ACCOUNT-STATUS</th>\n",
              "      <th>ASSET_CLASS</th>\n",
              "      <th>SELF-INDICATOR</th>\n",
              "      <th>TENURE</th>\n",
              "      <th>Frequency</th>\n",
              "      <th>InstlmentMode</th>\n",
              "      <th>LoanStatus</th>\n",
              "      <th>PaymentMode</th>\n",
              "      <th>BranchID</th>\n",
              "      <th>Tenure</th>\n",
              "      <th>AssetCost</th>\n",
              "      <th>AmountFinance</th>\n",
              "      <th>DisbursalAmount</th>\n",
              "      <th>ManufacturerID</th>\n",
              "      <th>LTV</th>\n",
              "      <th>SEX</th>\n",
              "      <th>AGE</th>\n",
              "      <th>MonthlyIncome</th>\n",
              "      <th>State</th>\n",
              "      <th>DURATION</th>\n",
              "      <th>lens</th>\n",
              "      <th>how_many_6</th>\n",
              "      <th>REPORTED DATE - HISTm</th>\n",
              "      <th>REPORTED DATE - HISTy</th>\n",
              "      <th>DisbursalDatem</th>\n",
              "      <th>DisbursalDatey</th>\n",
              "      <th>MaturityDAtem</th>\n",
              "      <th>MaturityDAtey</th>\n",
              "      <th>1.0</th>\n",
              "      <th>2.0</th>\n",
              "      <th>3.0</th>\n",
              "      <th>4.0</th>\n",
              "      <th>5.0</th>\n",
              "      <th>6.0</th>\n",
              "      <th>7.0</th>\n",
              "      <th>8.0</th>\n",
              "      <th>9.0</th>\n",
              "      <th>10.0</th>\n",
              "      <th>11.0</th>\n",
              "      <th>12.0</th>\n",
              "      <th>13.0</th>\n",
              "      <th>14.0</th>\n",
              "      <th>15.0</th>\n",
              "      <th>16.0</th>\n",
              "      <th>17.0</th>\n",
              "      <th>18.0</th>\n",
              "      <th>19.0</th>\n",
              "      <th>20.0</th>\n",
              "      <th>21.0</th>\n",
              "      <th>22.0</th>\n",
              "      <th>23.0</th>\n",
              "      <th>24.0</th>\n",
              "      <th>25.0</th>\n",
              "      <th>26.0</th>\n",
              "      <th>27.0</th>\n",
              "      <th>28.0</th>\n",
              "      <th>29.0</th>\n",
              "      <th>30.0</th>\n",
              "    </tr>\n",
              "  </thead>\n",
              "  <tbody>\n",
              "    <tr>\n",
              "      <th>0</th>\n",
              "      <td>4</td>\n",
              "      <td>1000.0</td>\n",
              "      <td>1.314483</td>\n",
              "      <td>1.273236</td>\n",
              "      <td>1.377486</td>\n",
              "      <td>1.411054</td>\n",
              "      <td>1.135800</td>\n",
              "      <td>1</td>\n",
              "      <td>120.000000</td>\n",
              "      <td>2</td>\n",
              "      <td>0</td>\n",
              "      <td>95</td>\n",
              "      <td>0.664989</td>\n",
              "      <td>NaN</td>\n",
              "      <td>46</td>\n",
              "      <td>480000</td>\n",
              "      <td>365000.0</td>\n",
              "      <td>365000.0</td>\n",
              "      <td>0.708584</td>\n",
              "      <td>75.83</td>\n",
              "      <td>1</td>\n",
              "      <td>50.0</td>\n",
              "      <td>32069.00</td>\n",
              "      <td>0.874595</td>\n",
              "      <td>1376.0</td>\n",
              "      <td>95</td>\n",
              "      <td>20.210526</td>\n",
              "      <td>6.705263</td>\n",
              "      <td>2016.494751</td>\n",
              "      <td>12.0</td>\n",
              "      <td>2011.0</td>\n",
              "      <td>10.0</td>\n",
              "      <td>2015.0</td>\n",
              "      <td>0.000000</td>\n",
              "      <td>0.000000</td>\n",
              "      <td>0.000000</td>\n",
              "      <td>295675.333333</td>\n",
              "      <td>274852.333333</td>\n",
              "      <td>253139.333333</td>\n",
              "      <td>230498.000000</td>\n",
              "      <td>206888.333333</td>\n",
              "      <td>182269.000000</td>\n",
              "      <td>156596.666667</td>\n",
              "      <td>129826.666667</td>\n",
              "      <td>101911.666667</td>\n",
              "      <td>72804.000000</td>\n",
              "      <td>42451.666667</td>\n",
              "      <td>7182.666667</td>\n",
              "      <td>0.0</td>\n",
              "      <td>0.000000</td>\n",
              "      <td>0.000000</td>\n",
              "      <td>0.000000</td>\n",
              "      <td>0.0</td>\n",
              "      <td>0.0</td>\n",
              "      <td>1304707.0</td>\n",
              "      <td>1283732.000</td>\n",
              "      <td>1.256956e+06</td>\n",
              "      <td>1.235088e+06</td>\n",
              "      <td>1.213272e+06</td>\n",
              "      <td>1.191392e+06</td>\n",
              "      <td>1169797.000</td>\n",
              "      <td>1.148044e+06</td>\n",
              "      <td>1.125827e+06</td>\n",
              "    </tr>\n",
              "    <tr>\n",
              "      <th>1</th>\n",
              "      <td>5</td>\n",
              "      <td>9300.0</td>\n",
              "      <td>1.980461</td>\n",
              "      <td>1.348862</td>\n",
              "      <td>1.417879</td>\n",
              "      <td>1.464809</td>\n",
              "      <td>1.135800</td>\n",
              "      <td>1</td>\n",
              "      <td>180.000000</td>\n",
              "      <td>2</td>\n",
              "      <td>0</td>\n",
              "      <td>168</td>\n",
              "      <td>0.792426</td>\n",
              "      <td>NaN</td>\n",
              "      <td>45</td>\n",
              "      <td>480000</td>\n",
              "      <td>285000.0</td>\n",
              "      <td>285000.0</td>\n",
              "      <td>0.708584</td>\n",
              "      <td>57.44</td>\n",
              "      <td>1</td>\n",
              "      <td>35.0</td>\n",
              "      <td>25000.00</td>\n",
              "      <td>0.874595</td>\n",
              "      <td>1343.0</td>\n",
              "      <td>168</td>\n",
              "      <td>18.517857</td>\n",
              "      <td>6.577381</td>\n",
              "      <td>2016.416626</td>\n",
              "      <td>4.0</td>\n",
              "      <td>2012.0</td>\n",
              "      <td>1.0</td>\n",
              "      <td>2016.0</td>\n",
              "      <td>265770.666667</td>\n",
              "      <td>249787.666667</td>\n",
              "      <td>233145.666667</td>\n",
              "      <td>215734.333333</td>\n",
              "      <td>199323.666667</td>\n",
              "      <td>176564.666667</td>\n",
              "      <td>158975.666667</td>\n",
              "      <td>138411.333333</td>\n",
              "      <td>118472.000000</td>\n",
              "      <td>100733.666667</td>\n",
              "      <td>15504.000000</td>\n",
              "      <td>20672.000000</td>\n",
              "      <td>20672.000000</td>\n",
              "      <td>20672.000000</td>\n",
              "      <td>275000.000000</td>\n",
              "      <td>498666.0</td>\n",
              "      <td>252680.666667</td>\n",
              "      <td>171540.888889</td>\n",
              "      <td>145236.454545</td>\n",
              "      <td>151141.0</td>\n",
              "      <td>268967.5</td>\n",
              "      <td>294000.0</td>\n",
              "      <td>326002.625</td>\n",
              "      <td>4.320140e+05</td>\n",
              "      <td>4.283892e+05</td>\n",
              "      <td>3.377818e+05</td>\n",
              "      <td>3.140167e+05</td>\n",
              "      <td>166204.125</td>\n",
              "      <td>3.980911e+05</td>\n",
              "      <td>4.563858e+05</td>\n",
              "    </tr>\n",
              "    <tr>\n",
              "      <th>2</th>\n",
              "      <td>6</td>\n",
              "      <td>35800.0</td>\n",
              "      <td>1.374217</td>\n",
              "      <td>1.122616</td>\n",
              "      <td>1.354085</td>\n",
              "      <td>1.482727</td>\n",
              "      <td>1.190500</td>\n",
              "      <td>2</td>\n",
              "      <td>24.142857</td>\n",
              "      <td>3</td>\n",
              "      <td>1</td>\n",
              "      <td>161</td>\n",
              "      <td>0.792426</td>\n",
              "      <td>NaN</td>\n",
              "      <td>48</td>\n",
              "      <td>580000</td>\n",
              "      <td>400000.0</td>\n",
              "      <td>400000.0</td>\n",
              "      <td>0.715542</td>\n",
              "      <td>68.97</td>\n",
              "      <td>1</td>\n",
              "      <td>37.0</td>\n",
              "      <td>23333.33</td>\n",
              "      <td>0.874595</td>\n",
              "      <td>1419.0</td>\n",
              "      <td>161</td>\n",
              "      <td>10.838509</td>\n",
              "      <td>6.515528</td>\n",
              "      <td>2016.000000</td>\n",
              "      <td>10.0</td>\n",
              "      <td>2013.0</td>\n",
              "      <td>9.0</td>\n",
              "      <td>2017.0</td>\n",
              "      <td>0.000000</td>\n",
              "      <td>0.000000</td>\n",
              "      <td>0.000000</td>\n",
              "      <td>319454.000000</td>\n",
              "      <td>299245.000000</td>\n",
              "      <td>278050.000000</td>\n",
              "      <td>255820.000000</td>\n",
              "      <td>232505.000000</td>\n",
              "      <td>208052.000000</td>\n",
              "      <td>173440.000000</td>\n",
              "      <td>118222.800000</td>\n",
              "      <td>84184.500000</td>\n",
              "      <td>261548.454545</td>\n",
              "      <td>283076.666667</td>\n",
              "      <td>245978.000000</td>\n",
              "      <td>199335.0</td>\n",
              "      <td>197896.888889</td>\n",
              "      <td>170528.666667</td>\n",
              "      <td>96185.777778</td>\n",
              "      <td>155025.0</td>\n",
              "      <td>115650.0</td>\n",
              "      <td>96375.0</td>\n",
              "      <td>77100.000</td>\n",
              "      <td>8.673750e+04</td>\n",
              "      <td>0.000000e+00</td>\n",
              "      <td>0.000000e+00</td>\n",
              "      <td>0.000000e+00</td>\n",
              "      <td>0.000</td>\n",
              "      <td>0.000000e+00</td>\n",
              "      <td>0.000000e+00</td>\n",
              "    </tr>\n",
              "    <tr>\n",
              "      <th>3</th>\n",
              "      <td>25</td>\n",
              "      <td>52000.0</td>\n",
              "      <td>1.138935</td>\n",
              "      <td>1.463810</td>\n",
              "      <td>1.458272</td>\n",
              "      <td>1.437931</td>\n",
              "      <td>1.464001</td>\n",
              "      <td>1</td>\n",
              "      <td>NaN</td>\n",
              "      <td>1</td>\n",
              "      <td>1</td>\n",
              "      <td>70</td>\n",
              "      <td>0.696255</td>\n",
              "      <td>0.467202</td>\n",
              "      <td>36</td>\n",
              "      <td>725000</td>\n",
              "      <td>500000.0</td>\n",
              "      <td>500000.0</td>\n",
              "      <td>NaN</td>\n",
              "      <td>61.79</td>\n",
              "      <td>1</td>\n",
              "      <td>55.0</td>\n",
              "      <td>91666.67</td>\n",
              "      <td>0.486417</td>\n",
              "      <td>995.0</td>\n",
              "      <td>70</td>\n",
              "      <td>12.857143</td>\n",
              "      <td>6.585714</td>\n",
              "      <td>2016.085693</td>\n",
              "      <td>5.0</td>\n",
              "      <td>2013.0</td>\n",
              "      <td>2.0</td>\n",
              "      <td>2016.0</td>\n",
              "      <td>479066.666667</td>\n",
              "      <td>468600.000000</td>\n",
              "      <td>397260.000000</td>\n",
              "      <td>361590.000000</td>\n",
              "      <td>283552.666667</td>\n",
              "      <td>244534.000000</td>\n",
              "      <td>159171.333333</td>\n",
              "      <td>116490.000000</td>\n",
              "      <td>57113.333333</td>\n",
              "      <td>27425.000000</td>\n",
              "      <td>13712.500000</td>\n",
              "      <td>0.000000</td>\n",
              "      <td>0.000000</td>\n",
              "      <td>196696.000000</td>\n",
              "      <td>87880.000000</td>\n",
              "      <td>27399.0</td>\n",
              "      <td>21815.333333</td>\n",
              "      <td>32723.000000</td>\n",
              "      <td>10907.666667</td>\n",
              "      <td>0.0</td>\n",
              "      <td>98682.0</td>\n",
              "      <td>65768.0</td>\n",
              "      <td>50597.750</td>\n",
              "      <td>2.340900e+04</td>\n",
              "      <td>8.499067e+04</td>\n",
              "      <td>1.275930e+05</td>\n",
              "      <td>0.000000e+00</td>\n",
              "      <td>0.000</td>\n",
              "      <td>0.000000e+00</td>\n",
              "      <td>0.000000e+00</td>\n",
              "    </tr>\n",
              "    <tr>\n",
              "      <th>4</th>\n",
              "      <td>119</td>\n",
              "      <td>35400.0</td>\n",
              "      <td>1.079124</td>\n",
              "      <td>1.071563</td>\n",
              "      <td>1.349405</td>\n",
              "      <td>1.437931</td>\n",
              "      <td>1.135800</td>\n",
              "      <td>1</td>\n",
              "      <td>46.000000</td>\n",
              "      <td>3</td>\n",
              "      <td>1</td>\n",
              "      <td>72</td>\n",
              "      <td>0.792426</td>\n",
              "      <td>0.529412</td>\n",
              "      <td>48</td>\n",
              "      <td>617000</td>\n",
              "      <td>400000.0</td>\n",
              "      <td>400000.0</td>\n",
              "      <td>NaN</td>\n",
              "      <td>59.09</td>\n",
              "      <td>1</td>\n",
              "      <td>48.0</td>\n",
              "      <td>12500.00</td>\n",
              "      <td>0.861263</td>\n",
              "      <td>1466.0</td>\n",
              "      <td>72</td>\n",
              "      <td>17.000000</td>\n",
              "      <td>6.500000</td>\n",
              "      <td>2016.625000</td>\n",
              "      <td>11.0</td>\n",
              "      <td>2012.0</td>\n",
              "      <td>12.0</td>\n",
              "      <td>2016.0</td>\n",
              "      <td>0.000000</td>\n",
              "      <td>0.000000</td>\n",
              "      <td>0.000000</td>\n",
              "      <td>0.000000</td>\n",
              "      <td>0.000000</td>\n",
              "      <td>292696.500000</td>\n",
              "      <td>273979.666667</td>\n",
              "      <td>250601.666667</td>\n",
              "      <td>226198.000000</td>\n",
              "      <td>200723.666667</td>\n",
              "      <td>174131.333333</td>\n",
              "      <td>146372.000000</td>\n",
              "      <td>117394.333333</td>\n",
              "      <td>76772.333333</td>\n",
              "      <td>44741.000000</td>\n",
              "      <td>164778.0</td>\n",
              "      <td>293933.333333</td>\n",
              "      <td>408900.000000</td>\n",
              "      <td>497200.000000</td>\n",
              "      <td>450200.0</td>\n",
              "      <td>405200.0</td>\n",
              "      <td>360200.0</td>\n",
              "      <td>315200.000</td>\n",
              "      <td>2.722000e+05</td>\n",
              "      <td>2.332000e+05</td>\n",
              "      <td>1.942000e+05</td>\n",
              "      <td>1.552000e+05</td>\n",
              "      <td>122700.000</td>\n",
              "      <td>0.000000e+00</td>\n",
              "      <td>0.000000e+00</td>\n",
              "    </tr>\n",
              "  </tbody>\n",
              "</table>\n",
              "</div>"
            ],
            "text/plain": [
              "    ID      EMI  ACCT-TYPE  ...         28.0          29.0          30.0\n",
              "0    4   1000.0   1.314483  ...  1169797.000  1.148044e+06  1.125827e+06\n",
              "1    5   9300.0   1.980461  ...   166204.125  3.980911e+05  4.563858e+05\n",
              "2    6  35800.0   1.374217  ...        0.000  0.000000e+00  0.000000e+00\n",
              "3   25  52000.0   1.138935  ...        0.000  0.000000e+00  0.000000e+00\n",
              "4  119  35400.0   1.079124  ...   122700.000  0.000000e+00  0.000000e+00\n",
              "\n",
              "[5 rows x 63 columns]"
            ]
          },
          "metadata": {
            "tags": []
          },
          "execution_count": 85
        }
      ]
    },
    {
      "cell_type": "code",
      "metadata": {
        "id": "0SSdUg2BePw-"
      },
      "source": [
        "# preds_csv = pd.read_csv('/content/drive/MyDrive/sample_submission_ejm25Dc.csv')"
      ],
      "execution_count": null,
      "outputs": []
    },
    {
      "cell_type": "code",
      "metadata": {
        "colab": {
          "base_uri": "https://localhost:8080/",
          "height": 206
        },
        "id": "i1zUeFZledfY",
        "outputId": "8ef7cd55-26a6-4520-f578-7168cc5cdbea"
      },
      "source": [
        "# preds_csv.head()"
      ],
      "execution_count": null,
      "outputs": [
        {
          "output_type": "execute_result",
          "data": {
            "text/html": [
              "<div>\n",
              "<style scoped>\n",
              "    .dataframe tbody tr th:only-of-type {\n",
              "        vertical-align: middle;\n",
              "    }\n",
              "\n",
              "    .dataframe tbody tr th {\n",
              "        vertical-align: top;\n",
              "    }\n",
              "\n",
              "    .dataframe thead th {\n",
              "        text-align: right;\n",
              "    }\n",
              "</style>\n",
              "<table border=\"1\" class=\"dataframe\">\n",
              "  <thead>\n",
              "    <tr style=\"text-align: right;\">\n",
              "      <th></th>\n",
              "      <th>ID</th>\n",
              "      <th>Top-up Month</th>\n",
              "    </tr>\n",
              "  </thead>\n",
              "  <tbody>\n",
              "    <tr>\n",
              "      <th>0</th>\n",
              "      <td>4</td>\n",
              "      <td>36-48 Months</td>\n",
              "    </tr>\n",
              "    <tr>\n",
              "      <th>1</th>\n",
              "      <td>5</td>\n",
              "      <td>18-24 Months</td>\n",
              "    </tr>\n",
              "    <tr>\n",
              "      <th>2</th>\n",
              "      <td>6</td>\n",
              "      <td>30-36 Months</td>\n",
              "    </tr>\n",
              "    <tr>\n",
              "      <th>3</th>\n",
              "      <td>25</td>\n",
              "      <td>30-36 Months</td>\n",
              "    </tr>\n",
              "    <tr>\n",
              "      <th>4</th>\n",
              "      <td>119</td>\n",
              "      <td>30-36 Months</td>\n",
              "    </tr>\n",
              "  </tbody>\n",
              "</table>\n",
              "</div>"
            ],
            "text/plain": [
              "    ID  Top-up Month\n",
              "0    4  36-48 Months\n",
              "1    5  18-24 Months\n",
              "2    6  30-36 Months\n",
              "3   25  30-36 Months\n",
              "4  119  30-36 Months"
            ]
          },
          "metadata": {
            "tags": []
          },
          "execution_count": 87
        }
      ]
    },
    {
      "cell_type": "code",
      "metadata": {
        "colab": {
          "base_uri": "https://localhost:8080/"
        },
        "id": "4N6FYoWErd4r",
        "outputId": "9268e5dd-1f8a-411b-8298-f56eb6ee7119"
      },
      "source": [
        "# len(preds),len(test)"
      ],
      "execution_count": null,
      "outputs": [
        {
          "output_type": "execute_result",
          "data": {
            "text/plain": [
              "(14745, 14745)"
            ]
          },
          "metadata": {
            "tags": []
          },
          "execution_count": 88
        }
      ]
    },
    {
      "cell_type": "code",
      "metadata": {
        "id": "LW71P91Aeh2O"
      },
      "source": [
        "# preds_csv['Top-up Month'] = preds"
      ],
      "execution_count": null,
      "outputs": []
    },
    {
      "cell_type": "code",
      "metadata": {
        "colab": {
          "base_uri": "https://localhost:8080/"
        },
        "id": "8nyECl5jp_p9",
        "outputId": "9ba90a78-1366-43eb-d9aa-965414bc16a7"
      },
      "source": [
        "# preds_csv['Top-up Month'].value_counts()"
      ],
      "execution_count": null,
      "outputs": [
        {
          "output_type": "execute_result",
          "data": {
            "text/plain": [
              "No Top-up Service    14315\n",
              " > 48 Months           346\n",
              "24-30 Months            42\n",
              "30-36 Months            18\n",
              "18-24 Months            15\n",
              "36-48 Months             5\n",
              "12-18 Months             4\n",
              "Name: Top-up Month, dtype: int64"
            ]
          },
          "metadata": {
            "tags": []
          },
          "execution_count": 90
        }
      ]
    },
    {
      "cell_type": "code",
      "metadata": {
        "id": "lsvYvczwgGo8"
      },
      "source": [
        "# preds_csv.to_csv('preds1.csv',index = None)"
      ],
      "execution_count": null,
      "outputs": []
    },
    {
      "cell_type": "code",
      "metadata": {
        "colab": {
          "base_uri": "https://localhost:8080/"
        },
        "id": "lUU39jwf66lv",
        "outputId": "2f9f33e5-e3e5-47ba-f4d2-994902d34f9f"
      },
      "source": [
        "# preds_csv['ID'] == test['ID']"
      ],
      "execution_count": null,
      "outputs": [
        {
          "output_type": "execute_result",
          "data": {
            "text/plain": [
              "0        True\n",
              "1        True\n",
              "2        True\n",
              "3        True\n",
              "4        True\n",
              "         ... \n",
              "14740    True\n",
              "14741    True\n",
              "14742    True\n",
              "14743    True\n",
              "14744    True\n",
              "Name: ID, Length: 14745, dtype: bool"
            ]
          },
          "metadata": {
            "tags": []
          },
          "execution_count": 60
        }
      ]
    },
    {
      "cell_type": "code",
      "metadata": {
        "colab": {
          "base_uri": "https://localhost:8080/"
        },
        "id": "yfzLcZLmgIHe",
        "outputId": "a67b6f02-a4c2-4ec8-b37c-13ed0270dbd1"
      },
      "source": [
        "# preds_csv.to_csv('/content/drive/MyDrive/preds1.csv',index = None)\r\n",
        "\r\n",
        "# preds_csv['Top-up Month'].value_counts()"
      ],
      "execution_count": null,
      "outputs": [
        {
          "output_type": "execute_result",
          "data": {
            "text/plain": [
              "No Top-up Service    14286\n",
              " > 48 Months           389\n",
              "24-30 Months            26\n",
              "18-24 Months            16\n",
              "30-36 Months            15\n",
              "36-48 Months            10\n",
              "12-18 Months             3\n",
              "Name: Top-up Month, dtype: int64"
            ]
          },
          "metadata": {
            "tags": []
          },
          "execution_count": 56
        }
      ]
    },
    {
      "cell_type": "code",
      "metadata": {
        "id": "lVeKvNAUmHpG"
      },
      "source": [
        "train.to_csv('/content/drive/MyDrive/trainer_csv1.csv',index=None)\r\n",
        "test.to_csv('/content/drive/MyDrive/tester_csv1.csv',index=None)"
      ],
      "execution_count": null,
      "outputs": []
    },
    {
      "cell_type": "code",
      "metadata": {
        "colab": {
          "base_uri": "https://localhost:8080/"
        },
        "id": "8CkhwKf3yj0j",
        "outputId": "75d4067d-71f8-4bfd-db3b-06898bde58dc"
      },
      "source": [
        "# !pip install optuna"
      ],
      "execution_count": null,
      "outputs": [
        {
          "output_type": "stream",
          "text": [
            "Requirement already satisfied: optuna in /usr/local/lib/python3.6/dist-packages (2.5.0)\n",
            "Requirement already satisfied: joblib in /usr/local/lib/python3.6/dist-packages (from optuna) (1.0.0)\n",
            "Requirement already satisfied: sqlalchemy>=1.1.0 in /usr/local/lib/python3.6/dist-packages (from optuna) (1.3.23)\n",
            "Requirement already satisfied: alembic in /usr/local/lib/python3.6/dist-packages (from optuna) (1.5.4)\n",
            "Requirement already satisfied: packaging>=20.0 in /usr/local/lib/python3.6/dist-packages (from optuna) (20.9)\n",
            "Requirement already satisfied: cmaes>=0.6.0 in /usr/local/lib/python3.6/dist-packages (from optuna) (0.8.0)\n",
            "Requirement already satisfied: tqdm in /usr/local/lib/python3.6/dist-packages (from optuna) (4.41.1)\n",
            "Requirement already satisfied: scipy!=1.4.0 in /usr/local/lib/python3.6/dist-packages (from optuna) (1.4.1)\n",
            "Requirement already satisfied: numpy in /usr/local/lib/python3.6/dist-packages (from optuna) (1.19.5)\n",
            "Requirement already satisfied: cliff in /usr/local/lib/python3.6/dist-packages (from optuna) (3.6.0)\n",
            "Requirement already satisfied: colorlog in /usr/local/lib/python3.6/dist-packages (from optuna) (4.7.2)\n",
            "Requirement already satisfied: python-dateutil in /usr/local/lib/python3.6/dist-packages (from alembic->optuna) (2.8.1)\n",
            "Requirement already satisfied: Mako in /usr/local/lib/python3.6/dist-packages (from alembic->optuna) (1.1.4)\n",
            "Requirement already satisfied: python-editor>=0.3 in /usr/local/lib/python3.6/dist-packages (from alembic->optuna) (1.0.4)\n",
            "Requirement already satisfied: pyparsing>=2.0.2 in /usr/local/lib/python3.6/dist-packages (from packaging>=20.0->optuna) (2.4.7)\n",
            "Requirement already satisfied: stevedore>=2.0.1 in /usr/local/lib/python3.6/dist-packages (from cliff->optuna) (3.3.0)\n",
            "Requirement already satisfied: PrettyTable<0.8,>=0.7.2 in /usr/local/lib/python3.6/dist-packages (from cliff->optuna) (0.7.2)\n",
            "Requirement already satisfied: PyYAML>=3.12 in /usr/local/lib/python3.6/dist-packages (from cliff->optuna) (3.13)\n",
            "Requirement already satisfied: pbr!=2.1.0,>=2.0.0 in /usr/local/lib/python3.6/dist-packages (from cliff->optuna) (5.5.1)\n",
            "Requirement already satisfied: cmd2!=0.8.3,>=0.8.0 in /usr/local/lib/python3.6/dist-packages (from cliff->optuna) (1.5.0)\n",
            "Requirement already satisfied: six>=1.5 in /usr/local/lib/python3.6/dist-packages (from python-dateutil->alembic->optuna) (1.15.0)\n",
            "Requirement already satisfied: MarkupSafe>=0.9.2 in /usr/local/lib/python3.6/dist-packages (from Mako->alembic->optuna) (1.1.1)\n",
            "Requirement already satisfied: importlib-metadata>=1.7.0; python_version < \"3.8\" in /usr/local/lib/python3.6/dist-packages (from stevedore>=2.0.1->cliff->optuna) (3.4.0)\n",
            "Requirement already satisfied: wcwidth>=0.1.7 in /usr/local/lib/python3.6/dist-packages (from cmd2!=0.8.3,>=0.8.0->cliff->optuna) (0.2.5)\n",
            "Requirement already satisfied: attrs>=16.3.0 in /usr/local/lib/python3.6/dist-packages (from cmd2!=0.8.3,>=0.8.0->cliff->optuna) (20.3.0)\n",
            "Requirement already satisfied: pyperclip>=1.6 in /usr/local/lib/python3.6/dist-packages (from cmd2!=0.8.3,>=0.8.0->cliff->optuna) (1.8.1)\n",
            "Requirement already satisfied: colorama>=0.3.7 in /usr/local/lib/python3.6/dist-packages (from cmd2!=0.8.3,>=0.8.0->cliff->optuna) (0.4.4)\n",
            "Requirement already satisfied: zipp>=0.5 in /usr/local/lib/python3.6/dist-packages (from importlib-metadata>=1.7.0; python_version < \"3.8\"->stevedore>=2.0.1->cliff->optuna) (3.4.0)\n",
            "Requirement already satisfied: typing-extensions>=3.6.4; python_version < \"3.8\" in /usr/local/lib/python3.6/dist-packages (from importlib-metadata>=1.7.0; python_version < \"3.8\"->stevedore>=2.0.1->cliff->optuna) (3.7.4.3)\n"
          ],
          "name": "stdout"
        }
      ]
    },
    {
      "cell_type": "code",
      "metadata": {
        "id": "OKcAvshnyps2"
      },
      "source": [
        "# import optuna"
      ],
      "execution_count": null,
      "outputs": []
    },
    {
      "cell_type": "code",
      "metadata": {
        "id": "e7AJbguxx-1F"
      },
      "source": [
        "# def objective(trial):\r\n",
        "#     # data, target = train.drop(columns=['ID','Top-up Month']), train['Top-up Month']\r\n",
        "#     # train_x, test_x, train_y, test_y = train_test_split(data, target, test_size=0.25)\r\n",
        "#     # dtrain = xgb.DMatrix(train_x, label=train_y)\r\n",
        "#     # dtest = xgb.DMatrix(test_x, label=test_y)\r\n",
        "\r\n",
        "#     param = {\r\n",
        "#         # \"silent\": 1,\r\n",
        "#         \"booster\": trial.suggest_categorical(\"booster\", [\"gbtree\", \"gblinear\", \"dart\"]),\r\n",
        "#         \"lambda\": trial.suggest_loguniform(\"lambda\", 1e-8, 1.0),\r\n",
        "#         \"alpha\": trial.suggest_loguniform(\"alpha\", 1e-8, 1.0),\r\n",
        "#     }\r\n",
        "\r\n",
        "#     if param[\"booster\"] == \"gbtree\" or param[\"booster\"] == \"dart\":\r\n",
        "#         param[\"max_depth\"] = trial.suggest_int(\"max_depth\", 1, 9)\r\n",
        "#         param[\"n_estimators\"] = trial.suggest_int(\"n_estimators\", 100, 300)\r\n",
        "#         param[\"eta\"] = trial.suggest_loguniform(\"eta\", 1e-8, 1.0)\r\n",
        "#         param[\"gamma\"] = trial.suggest_loguniform(\"gamma\", 1e-8, 1.0)\r\n",
        "#         param[\"grow_policy\"] = trial.suggest_categorical(\"grow_policy\", [\"depthwise\", \"lossguide\"])\r\n",
        "#     if param[\"booster\"] == \"dart\":\r\n",
        "#         param[\"sample_type\"] = trial.suggest_categorical(\"sample_type\", [\"uniform\", \"weighted\"])\r\n",
        "#         param[\"n_estimators\"] = trial.suggest_int(\"n_estimators\", 100, 300)\r\n",
        "#         param[\"normalize_type\"] = trial.suggest_categorical(\"normalize_type\", [\"tree\", \"forest\"])\r\n",
        "#         param[\"rate_drop\"] = trial.suggest_loguniform(\"rate_drop\", 1e-8, 1.0)\r\n",
        "#         param[\"skip_drop\"] = trial.suggest_loguniform(\"skip_drop\", 1e-8, 1.0)\r\n",
        "\r\n",
        "#     # Add a callback for pruning.\r\n",
        "#     # pruning_callback = optuna.integration.XGBoostPruningCallback(trial, \"validation-auc\")\r\n",
        "#     bst = lightgbm.LGBMClassifier(n_jobs=-1,**param)\r\n",
        "#     bst.fit(train_x,train_y)\r\n",
        "#     preds = bst.predict(test_x)\r\n",
        "#     accuracy = f1_score(test_y, preds,average='macro')\r\n",
        "#     return accuracy"
      ],
      "execution_count": null,
      "outputs": []
    },
    {
      "cell_type": "code",
      "metadata": {
        "colab": {
          "base_uri": "https://localhost:8080/"
        },
        "id": "RO-DGu_Y0Or7",
        "outputId": "c1c03b80-58f9-4b8c-d48f-91d4497ff476"
      },
      "source": [
        "# study = optuna.create_study(direction='maximize')\r\n",
        "# study.optimize(objective, n_trials=20)\r\n",
        "# print(study.best_trial)"
      ],
      "execution_count": null,
      "outputs": [
        {
          "output_type": "stream",
          "text": [
            "\u001b[32m[I 2021-02-06 16:32:38,276]\u001b[0m A new study created in memory with name: no-name-a8797296-678e-453b-a5dd-457f9179c42c\u001b[0m\n",
            "\u001b[32m[I 2021-02-06 16:33:14,292]\u001b[0m Trial 0 finished with value: 0.46307102336329997 and parameters: {'booster': 'gblinear', 'lambda': 2.0023502339105562e-05, 'alpha': 0.5711689972067657}. Best is trial 0 with value: 0.46307102336329997.\u001b[0m\n",
            "\u001b[32m[I 2021-02-06 16:34:41,230]\u001b[0m Trial 1 finished with value: 0.4709284649097033 and parameters: {'booster': 'dart', 'lambda': 0.18233922124833515, 'alpha': 0.0036469510475322623, 'max_depth': 7, 'n_estimators': 287, 'eta': 0.0216747663312638, 'gamma': 2.201317684833781e-08, 'grow_policy': 'depthwise', 'sample_type': 'weighted', 'normalize_type': 'tree', 'rate_drop': 4.7213489679524155e-07, 'skip_drop': 7.970392615589048e-08}. Best is trial 1 with value: 0.4709284649097033.\u001b[0m\n",
            "\u001b[32m[I 2021-02-06 16:35:05,057]\u001b[0m Trial 2 finished with value: 0.378884552988136 and parameters: {'booster': 'dart', 'lambda': 3.4794104401237447e-07, 'alpha': 7.219851127503527e-06, 'max_depth': 2, 'n_estimators': 177, 'eta': 0.00305796557860404, 'gamma': 0.6895109183030464, 'grow_policy': 'depthwise', 'sample_type': 'uniform', 'normalize_type': 'tree', 'rate_drop': 0.19958230689677028, 'skip_drop': 1.1037111876302109e-07}. Best is trial 1 with value: 0.4709284649097033.\u001b[0m\n",
            "\u001b[32m[I 2021-02-06 16:36:03,878]\u001b[0m Trial 3 finished with value: 0.46524191876659987 and parameters: {'booster': 'dart', 'lambda': 0.004678757971725731, 'alpha': 3.65791603828186e-07, 'max_depth': 5, 'n_estimators': 219, 'eta': 0.0032931416512016433, 'gamma': 3.09357942332549e-06, 'grow_policy': 'depthwise', 'sample_type': 'uniform', 'normalize_type': 'tree', 'rate_drop': 2.138123139987578e-06, 'skip_drop': 0.0024808337408683844}. Best is trial 1 with value: 0.4709284649097033.\u001b[0m\n",
            "\u001b[32m[I 2021-02-06 16:36:46,837]\u001b[0m Trial 4 finished with value: 0.4626445483654053 and parameters: {'booster': 'gblinear', 'lambda': 9.662392422029983e-05, 'alpha': 0.0006177365995844845}. Best is trial 1 with value: 0.4709284649097033.\u001b[0m\n",
            "\u001b[32m[I 2021-02-06 16:36:58,292]\u001b[0m Trial 5 finished with value: 0.19142944048870328 and parameters: {'booster': 'dart', 'lambda': 1.404275773023899e-05, 'alpha': 1.6216470260648089e-07, 'max_depth': 1, 'n_estimators': 108, 'eta': 0.00451500303737111, 'gamma': 4.7425511287084947e-07, 'grow_policy': 'depthwise', 'sample_type': 'uniform', 'normalize_type': 'tree', 'rate_drop': 0.023696435013310136, 'skip_drop': 0.9391288584924823}. Best is trial 1 with value: 0.4709284649097033.\u001b[0m\n",
            "\u001b[32m[I 2021-02-06 16:37:20,861]\u001b[0m Trial 6 finished with value: 0.23845055364440945 and parameters: {'booster': 'dart', 'lambda': 0.14558301862956233, 'alpha': 0.00016454173432636443, 'max_depth': 1, 'n_estimators': 227, 'eta': 0.02519116808139645, 'gamma': 1.2615168139371759e-08, 'grow_policy': 'depthwise', 'sample_type': 'uniform', 'normalize_type': 'tree', 'rate_drop': 0.005907595732488779, 'skip_drop': 4.976530037200001e-06}. Best is trial 1 with value: 0.4709284649097033.\u001b[0m\n",
            "\u001b[32m[I 2021-02-06 16:38:28,721]\u001b[0m Trial 7 finished with value: 0.4680376678249806 and parameters: {'booster': 'gbtree', 'lambda': 1.9128687497106628e-08, 'alpha': 3.2980503132058327e-06, 'max_depth': 8, 'n_estimators': 238, 'eta': 2.4626176685886856e-05, 'gamma': 0.18066811486560883, 'grow_policy': 'depthwise'}. Best is trial 1 with value: 0.4709284649097033.\u001b[0m\n",
            "\u001b[32m[I 2021-02-06 16:39:01,627]\u001b[0m Trial 8 finished with value: 0.46839147341140336 and parameters: {'booster': 'gblinear', 'lambda': 0.001061150402872976, 'alpha': 1.0361078882407035e-05}. Best is trial 1 with value: 0.4709284649097033.\u001b[0m\n",
            "\u001b[32m[I 2021-02-06 16:39:34,075]\u001b[0m Trial 9 finished with value: 0.4645436500107212 and parameters: {'booster': 'gblinear', 'lambda': 5.072063370814093e-06, 'alpha': 3.225071159681701e-05}. Best is trial 1 with value: 0.4709284649097033.\u001b[0m\n",
            "\u001b[32m[I 2021-02-06 16:40:59,955]\u001b[0m Trial 10 finished with value: 0.46673492114563686 and parameters: {'booster': 'gbtree', 'lambda': 0.3698998950641081, 'alpha': 0.029049960739364965, 'max_depth': 9, 'n_estimators': 299, 'eta': 1.527093098424471e-07, 'gamma': 0.0011837239669371844, 'grow_policy': 'lossguide'}. Best is trial 1 with value: 0.4709284649097033.\u001b[0m\n",
            "\u001b[32m[I 2021-02-06 16:41:32,799]\u001b[0m Trial 11 finished with value: 0.46398070218513754 and parameters: {'booster': 'gblinear', 'lambda': 0.00473009361513546, 'alpha': 0.003325453531580902}. Best is trial 1 with value: 0.4709284649097033.\u001b[0m\n",
            "\u001b[32m[I 2021-02-06 16:42:52,926]\u001b[0m Trial 12 finished with value: 0.4716325147625114 and parameters: {'booster': 'dart', 'lambda': 0.007728224408240355, 'alpha': 0.045906500123095606, 'max_depth': 6, 'n_estimators': 300, 'eta': 0.5827828017815633, 'gamma': 1.3308533306602958e-08, 'grow_policy': 'lossguide', 'sample_type': 'weighted', 'normalize_type': 'forest', 'rate_drop': 2.6903182347905887e-08, 'skip_drop': 1.5696999858456594e-08}. Best is trial 12 with value: 0.4716325147625114.\u001b[0m\n",
            "\u001b[32m[I 2021-02-06 16:44:13,161]\u001b[0m Trial 13 finished with value: 0.47408314357303366 and parameters: {'booster': 'dart', 'lambda': 0.08321014907053136, 'alpha': 0.6975157004706682, 'max_depth': 6, 'n_estimators': 299, 'eta': 0.5402652055257229, 'gamma': 1.2195761205326334e-08, 'grow_policy': 'lossguide', 'sample_type': 'weighted', 'normalize_type': 'forest', 'rate_drop': 2.0500382769560446e-08, 'skip_drop': 1.198304390656999e-08}. Best is trial 13 with value: 0.47408314357303366.\u001b[0m\n",
            "\u001b[32m[I 2021-02-06 16:45:23,196]\u001b[0m Trial 14 finished with value: 0.46244122505646706 and parameters: {'booster': 'dart', 'lambda': 0.01703840311465783, 'alpha': 0.9956709741340226, 'max_depth': 5, 'n_estimators': 297, 'eta': 0.9288401233927707, 'gamma': 1.0896357520736024e-08, 'grow_policy': 'lossguide', 'sample_type': 'weighted', 'normalize_type': 'forest', 'rate_drop': 1.3296472338229077e-08, 'skip_drop': 1.1223430834544196e-08}. Best is trial 13 with value: 0.47408314357303366.\u001b[0m\n",
            "\u001b[32m[I 2021-02-06 16:46:36,141]\u001b[0m Trial 15 finished with value: 0.4663420829679904 and parameters: {'booster': 'dart', 'lambda': 0.7762814357640541, 'alpha': 0.07605739719220969, 'max_depth': 6, 'n_estimators': 266, 'eta': 1.7510033931806888e-05, 'gamma': 2.118631585994781e-06, 'grow_policy': 'lossguide', 'sample_type': 'weighted', 'normalize_type': 'forest', 'rate_drop': 1.819412351754228e-08, 'skip_drop': 4.582776962650791e-06}. Best is trial 13 with value: 0.47408314357303366.\u001b[0m\n",
            "\u001b[32m[I 2021-02-06 16:47:07,544]\u001b[0m Trial 16 finished with value: 0.4259888707577824 and parameters: {'booster': 'dart', 'lambda': 0.03251742033941707, 'alpha': 0.13068518903734874, 'max_depth': 3, 'n_estimators': 171, 'eta': 0.783020022378042, 'gamma': 0.000272262727524717, 'grow_policy': 'lossguide', 'sample_type': 'weighted', 'normalize_type': 'forest', 'rate_drop': 4.85608402151884e-06, 'skip_drop': 1.0572463604447597e-08}. Best is trial 13 with value: 0.47408314357303366.\u001b[0m\n",
            "\u001b[32m[I 2021-02-06 16:47:59,287]\u001b[0m Trial 17 finished with value: 0.45481860478670777 and parameters: {'booster': 'gbtree', 'lambda': 0.0004259111353441289, 'alpha': 0.008341122116182344, 'max_depth': 4, 'n_estimators': 263, 'eta': 0.9106628557831523, 'gamma': 2.676449580300225e-07, 'grow_policy': 'lossguide'}. Best is trial 13 with value: 0.47408314357303366.\u001b[0m\n",
            "\u001b[32m[I 2021-02-06 16:48:30,729]\u001b[0m Trial 18 finished with value: 0.46579444759499633 and parameters: {'booster': 'dart', 'lambda': 0.032349891123941474, 'alpha': 0.6634209074749159, 'max_depth': 7, 'n_estimators': 100, 'eta': 0.13095853091108484, 'gamma': 3.288779279529423e-05, 'grow_policy': 'lossguide', 'sample_type': 'weighted', 'normalize_type': 'forest', 'rate_drop': 1.505802907502238e-08, 'skip_drop': 1.1861470134350477e-06}. Best is trial 13 with value: 0.47408314357303366.\u001b[0m\n",
            "\u001b[32m[I 2021-02-06 16:49:43,736]\u001b[0m Trial 19 finished with value: 0.4719211167600497 and parameters: {'booster': 'dart', 'lambda': 0.0016185932445191393, 'alpha': 0.2620229569969142, 'max_depth': 6, 'n_estimators': 270, 'eta': 1.4080906691193018e-08, 'gamma': 4.9042938443945636e-08, 'grow_policy': 'lossguide', 'sample_type': 'weighted', 'normalize_type': 'forest', 'rate_drop': 0.00025312934557265767, 'skip_drop': 0.0005778620532737637}. Best is trial 13 with value: 0.47408314357303366.\u001b[0m\n"
          ],
          "name": "stderr"
        },
        {
          "output_type": "stream",
          "text": [
            "FrozenTrial(number=13, values=[0.47408314357303366], datetime_start=datetime.datetime(2021, 2, 6, 16, 42, 52, 928408), datetime_complete=datetime.datetime(2021, 2, 6, 16, 44, 13, 161220), params={'booster': 'dart', 'lambda': 0.08321014907053136, 'alpha': 0.6975157004706682, 'max_depth': 6, 'n_estimators': 299, 'eta': 0.5402652055257229, 'gamma': 1.2195761205326334e-08, 'grow_policy': 'lossguide', 'sample_type': 'weighted', 'normalize_type': 'forest', 'rate_drop': 2.0500382769560446e-08, 'skip_drop': 1.198304390656999e-08}, distributions={'booster': CategoricalDistribution(choices=('gbtree', 'gblinear', 'dart')), 'lambda': LogUniformDistribution(high=1.0, low=1e-08), 'alpha': LogUniformDistribution(high=1.0, low=1e-08), 'max_depth': IntUniformDistribution(high=9, low=1, step=1), 'n_estimators': IntUniformDistribution(high=300, low=100, step=1), 'eta': LogUniformDistribution(high=1.0, low=1e-08), 'gamma': LogUniformDistribution(high=1.0, low=1e-08), 'grow_policy': CategoricalDistribution(choices=('depthwise', 'lossguide')), 'sample_type': CategoricalDistribution(choices=('uniform', 'weighted')), 'normalize_type': CategoricalDistribution(choices=('tree', 'forest')), 'rate_drop': LogUniformDistribution(high=1.0, low=1e-08), 'skip_drop': LogUniformDistribution(high=1.0, low=1e-08)}, user_attrs={}, system_attrs={}, intermediate_values={}, trial_id=13, state=TrialState.COMPLETE, value=None)\n"
          ],
          "name": "stdout"
        }
      ]
    }
  ]
}