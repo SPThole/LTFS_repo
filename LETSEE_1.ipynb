{
  "nbformat": 4,
  "nbformat_minor": 0,
  "metadata": {
    "colab": {
      "name": "LETSEE@1.ipynb",
      "provenance": [],
      "collapsed_sections": [],
      "mount_file_id": "13U_aqvWONGn8x7gKeUZyVrjz9Q8biVgQ",
      "authorship_tag": "ABX9TyOBLkEwy513cvj60x6pSHjW",
      "include_colab_link": true
    },
    "kernelspec": {
      "display_name": "Python 3",
      "name": "python3"
    }
  },
  "cells": [
    {
      "cell_type": "markdown",
      "metadata": {
        "id": "view-in-github",
        "colab_type": "text"
      },
      "source": [
        "<a href=\"https://colab.research.google.com/github/SPThole/LTFS_repo/blob/main/LETSEE_1.ipynb\" target=\"_parent\"><img src=\"https://colab.research.google.com/assets/colab-badge.svg\" alt=\"Open In Colab\"/></a>"
      ]
    },
    {
      "cell_type": "markdown",
      "metadata": {
        "id": "fMgnQDFB37KQ"
      },
      "source": [
        "# Getting important libraies"
      ]
    },
    {
      "cell_type": "code",
      "metadata": {
        "colab": {
          "base_uri": "https://localhost:8080/"
        },
        "id": "0pIq13YW3j9b",
        "outputId": "7a7864b1-8698-4f33-aec1-7c969c42cdb3"
      },
      "source": [
        "!pip install catboost\r\n",
        "!pip install shap\r\n",
        "!pip install catboost\r\n",
        "!pip install optuna"
      ],
      "execution_count": null,
      "outputs": [
        {
          "output_type": "stream",
          "text": [
            "Collecting catboost\n",
            "\u001b[?25l  Downloading https://files.pythonhosted.org/packages/20/37/bc4e0ddc30c07a96482abf1de7ed1ca54e59bba2026a33bca6d2ef286e5b/catboost-0.24.4-cp36-none-manylinux1_x86_64.whl (65.7MB)\n",
            "\u001b[K     |████████████████████████████████| 65.8MB 57kB/s \n",
            "\u001b[?25hRequirement already satisfied: six in /usr/local/lib/python3.6/dist-packages (from catboost) (1.15.0)\n",
            "Requirement already satisfied: pandas>=0.24.0 in /usr/local/lib/python3.6/dist-packages (from catboost) (1.1.5)\n",
            "Requirement already satisfied: graphviz in /usr/local/lib/python3.6/dist-packages (from catboost) (0.10.1)\n",
            "Requirement already satisfied: matplotlib in /usr/local/lib/python3.6/dist-packages (from catboost) (3.2.2)\n",
            "Requirement already satisfied: numpy>=1.16.0 in /usr/local/lib/python3.6/dist-packages (from catboost) (1.19.5)\n",
            "Requirement already satisfied: scipy in /usr/local/lib/python3.6/dist-packages (from catboost) (1.4.1)\n",
            "Requirement already satisfied: plotly in /usr/local/lib/python3.6/dist-packages (from catboost) (4.4.1)\n",
            "Requirement already satisfied: pytz>=2017.2 in /usr/local/lib/python3.6/dist-packages (from pandas>=0.24.0->catboost) (2018.9)\n",
            "Requirement already satisfied: python-dateutil>=2.7.3 in /usr/local/lib/python3.6/dist-packages (from pandas>=0.24.0->catboost) (2.8.1)\n",
            "Requirement already satisfied: cycler>=0.10 in /usr/local/lib/python3.6/dist-packages (from matplotlib->catboost) (0.10.0)\n",
            "Requirement already satisfied: pyparsing!=2.0.4,!=2.1.2,!=2.1.6,>=2.0.1 in /usr/local/lib/python3.6/dist-packages (from matplotlib->catboost) (2.4.7)\n",
            "Requirement already satisfied: kiwisolver>=1.0.1 in /usr/local/lib/python3.6/dist-packages (from matplotlib->catboost) (1.3.1)\n",
            "Requirement already satisfied: retrying>=1.3.3 in /usr/local/lib/python3.6/dist-packages (from plotly->catboost) (1.3.3)\n",
            "Installing collected packages: catboost\n",
            "Successfully installed catboost-0.24.4\n",
            "Collecting shap\n",
            "\u001b[?25l  Downloading https://files.pythonhosted.org/packages/44/20/54381999efe3000f70a7f68af79ba857cfa3f82278ab0e02e6ba1c06b002/shap-0.38.1.tar.gz (352kB)\n",
            "\u001b[K     |████████████████████████████████| 358kB 6.0MB/s \n",
            "\u001b[?25hRequirement already satisfied: numpy in /usr/local/lib/python3.6/dist-packages (from shap) (1.19.5)\n",
            "Requirement already satisfied: scipy in /usr/local/lib/python3.6/dist-packages (from shap) (1.4.1)\n",
            "Requirement already satisfied: scikit-learn in /usr/local/lib/python3.6/dist-packages (from shap) (0.22.2.post1)\n",
            "Requirement already satisfied: pandas in /usr/local/lib/python3.6/dist-packages (from shap) (1.1.5)\n",
            "Requirement already satisfied: tqdm>4.25.0 in /usr/local/lib/python3.6/dist-packages (from shap) (4.41.1)\n",
            "Collecting slicer==0.0.7\n",
            "  Downloading https://files.pythonhosted.org/packages/78/c2/b3f55dfdb8af9812fdb9baf70cacf3b9e82e505b2bd4324d588888b81202/slicer-0.0.7-py3-none-any.whl\n",
            "Requirement already satisfied: numba in /usr/local/lib/python3.6/dist-packages (from shap) (0.51.2)\n",
            "Requirement already satisfied: cloudpickle in /usr/local/lib/python3.6/dist-packages (from shap) (1.3.0)\n",
            "Requirement already satisfied: joblib>=0.11 in /usr/local/lib/python3.6/dist-packages (from scikit-learn->shap) (1.0.0)\n",
            "Requirement already satisfied: pytz>=2017.2 in /usr/local/lib/python3.6/dist-packages (from pandas->shap) (2018.9)\n",
            "Requirement already satisfied: python-dateutil>=2.7.3 in /usr/local/lib/python3.6/dist-packages (from pandas->shap) (2.8.1)\n",
            "Requirement already satisfied: llvmlite<0.35,>=0.34.0.dev0 in /usr/local/lib/python3.6/dist-packages (from numba->shap) (0.34.0)\n",
            "Requirement already satisfied: setuptools in /usr/local/lib/python3.6/dist-packages (from numba->shap) (53.0.0)\n",
            "Requirement already satisfied: six>=1.5 in /usr/local/lib/python3.6/dist-packages (from python-dateutil>=2.7.3->pandas->shap) (1.15.0)\n",
            "Building wheels for collected packages: shap\n",
            "  Building wheel for shap (setup.py) ... \u001b[?25l\u001b[?25hdone\n",
            "  Created wheel for shap: filename=shap-0.38.1-cp36-cp36m-linux_x86_64.whl size=489394 sha256=ebdc51c0a83a8bf124224bf2fa0758aacacb341335a71b9f08bb7dc8f6ac36c0\n",
            "  Stored in directory: /root/.cache/pip/wheels/a8/fb/e4/88012be41842b9be62ae18d82d1b1e880daf8539d1fef1fa00\n",
            "Successfully built shap\n",
            "Installing collected packages: slicer, shap\n",
            "Successfully installed shap-0.38.1 slicer-0.0.7\n",
            "Requirement already satisfied: catboost in /usr/local/lib/python3.6/dist-packages (0.24.4)\n",
            "Requirement already satisfied: six in /usr/local/lib/python3.6/dist-packages (from catboost) (1.15.0)\n",
            "Requirement already satisfied: graphviz in /usr/local/lib/python3.6/dist-packages (from catboost) (0.10.1)\n",
            "Requirement already satisfied: plotly in /usr/local/lib/python3.6/dist-packages (from catboost) (4.4.1)\n",
            "Requirement already satisfied: matplotlib in /usr/local/lib/python3.6/dist-packages (from catboost) (3.2.2)\n",
            "Requirement already satisfied: scipy in /usr/local/lib/python3.6/dist-packages (from catboost) (1.4.1)\n",
            "Requirement already satisfied: pandas>=0.24.0 in /usr/local/lib/python3.6/dist-packages (from catboost) (1.1.5)\n",
            "Requirement already satisfied: numpy>=1.16.0 in /usr/local/lib/python3.6/dist-packages (from catboost) (1.19.5)\n",
            "Requirement already satisfied: retrying>=1.3.3 in /usr/local/lib/python3.6/dist-packages (from plotly->catboost) (1.3.3)\n",
            "Requirement already satisfied: pyparsing!=2.0.4,!=2.1.2,!=2.1.6,>=2.0.1 in /usr/local/lib/python3.6/dist-packages (from matplotlib->catboost) (2.4.7)\n",
            "Requirement already satisfied: cycler>=0.10 in /usr/local/lib/python3.6/dist-packages (from matplotlib->catboost) (0.10.0)\n",
            "Requirement already satisfied: python-dateutil>=2.1 in /usr/local/lib/python3.6/dist-packages (from matplotlib->catboost) (2.8.1)\n",
            "Requirement already satisfied: kiwisolver>=1.0.1 in /usr/local/lib/python3.6/dist-packages (from matplotlib->catboost) (1.3.1)\n",
            "Requirement already satisfied: pytz>=2017.2 in /usr/local/lib/python3.6/dist-packages (from pandas>=0.24.0->catboost) (2018.9)\n",
            "Collecting optuna\n",
            "\u001b[?25l  Downloading https://files.pythonhosted.org/packages/91/88/9c53460b97c61bce926dfe9dce51e4887c283416ff89ed30af0b73f44efa/optuna-2.5.0-py3-none-any.whl (287kB)\n",
            "\u001b[K     |████████████████████████████████| 296kB 5.8MB/s \n",
            "\u001b[?25hCollecting cmaes>=0.6.0\n",
            "  Downloading https://files.pythonhosted.org/packages/ed/68/eb3c281fbf3eac3574792826a8697714c3ddb9fa923f0bd77dc55dc04115/cmaes-0.8.0-py3-none-any.whl\n",
            "Requirement already satisfied: joblib in /usr/local/lib/python3.6/dist-packages (from optuna) (1.0.0)\n",
            "Requirement already satisfied: numpy in /usr/local/lib/python3.6/dist-packages (from optuna) (1.19.5)\n",
            "Collecting colorlog\n",
            "  Downloading https://files.pythonhosted.org/packages/5e/39/0230290df0519d528d8d0ffdfd900150ed24e0076d13b1f19e279444aab1/colorlog-4.7.2-py2.py3-none-any.whl\n",
            "Collecting alembic\n",
            "\u001b[?25l  Downloading https://files.pythonhosted.org/packages/a9/53/daab5c96e22e9ed1c9f8ca4e3256e72213ade42d519b6254c32e59610967/alembic-1.5.4.tar.gz (1.1MB)\n",
            "\u001b[K     |████████████████████████████████| 1.1MB 8.0MB/s \n",
            "\u001b[?25hRequirement already satisfied: tqdm in /usr/local/lib/python3.6/dist-packages (from optuna) (4.41.1)\n",
            "Collecting cliff\n",
            "\u001b[?25l  Downloading https://files.pythonhosted.org/packages/0f/8f/3c74fa4b6c3db1051b495385f5302fc5d5aa0f180d40ce3e9a13c82f8c82/cliff-3.6.0-py3-none-any.whl (79kB)\n",
            "\u001b[K     |████████████████████████████████| 81kB 6.2MB/s \n",
            "\u001b[?25hRequirement already satisfied: packaging>=20.0 in /usr/local/lib/python3.6/dist-packages (from optuna) (20.9)\n",
            "Requirement already satisfied: sqlalchemy>=1.1.0 in /usr/local/lib/python3.6/dist-packages (from optuna) (1.3.23)\n",
            "Requirement already satisfied: scipy!=1.4.0 in /usr/local/lib/python3.6/dist-packages (from optuna) (1.4.1)\n",
            "Collecting Mako\n",
            "\u001b[?25l  Downloading https://files.pythonhosted.org/packages/5c/db/2d2d88b924aa4674a080aae83b59ea19d593250bfe5ed789947c21736785/Mako-1.1.4.tar.gz (479kB)\n",
            "\u001b[K     |████████████████████████████████| 481kB 16.8MB/s \n",
            "\u001b[?25hCollecting python-editor>=0.3\n",
            "  Downloading https://files.pythonhosted.org/packages/c6/d3/201fc3abe391bbae6606e6f1d598c15d367033332bd54352b12f35513717/python_editor-1.0.4-py3-none-any.whl\n",
            "Requirement already satisfied: python-dateutil in /usr/local/lib/python3.6/dist-packages (from alembic->optuna) (2.8.1)\n",
            "Collecting cmd2!=0.8.3,>=0.8.0\n",
            "\u001b[?25l  Downloading https://files.pythonhosted.org/packages/15/8b/15061b32332bb35ea2a2f6263d0f616779d576e82739ec8e7fcf3c94abf5/cmd2-1.5.0-py3-none-any.whl (133kB)\n",
            "\u001b[K     |████████████████████████████████| 143kB 21.4MB/s \n",
            "\u001b[?25hRequirement already satisfied: pyparsing>=2.1.0 in /usr/local/lib/python3.6/dist-packages (from cliff->optuna) (2.4.7)\n",
            "Collecting PrettyTable<0.8,>=0.7.2\n",
            "  Downloading https://files.pythonhosted.org/packages/ef/30/4b0746848746ed5941f052479e7c23d2b56d174b82f4fd34a25e389831f5/prettytable-0.7.2.tar.bz2\n",
            "Requirement already satisfied: PyYAML>=3.12 in /usr/local/lib/python3.6/dist-packages (from cliff->optuna) (3.13)\n",
            "Collecting pbr!=2.1.0,>=2.0.0\n",
            "\u001b[?25l  Downloading https://files.pythonhosted.org/packages/fb/48/69046506f6ac61c1eaa9a0d42d22d54673b69e176d30ca98e3f61513e980/pbr-5.5.1-py2.py3-none-any.whl (106kB)\n",
            "\u001b[K     |████████████████████████████████| 112kB 20.1MB/s \n",
            "\u001b[?25hCollecting stevedore>=2.0.1\n",
            "\u001b[?25l  Downloading https://files.pythonhosted.org/packages/d4/49/b602307aeac3df3384ff1fcd05da9c0376c622a6c48bb5325f28ab165b57/stevedore-3.3.0-py3-none-any.whl (49kB)\n",
            "\u001b[K     |████████████████████████████████| 51kB 4.9MB/s \n",
            "\u001b[?25hRequirement already satisfied: MarkupSafe>=0.9.2 in /usr/local/lib/python3.6/dist-packages (from Mako->alembic->optuna) (1.1.1)\n",
            "Requirement already satisfied: six>=1.5 in /usr/local/lib/python3.6/dist-packages (from python-dateutil->alembic->optuna) (1.15.0)\n",
            "Requirement already satisfied: attrs>=16.3.0 in /usr/local/lib/python3.6/dist-packages (from cmd2!=0.8.3,>=0.8.0->cliff->optuna) (20.3.0)\n",
            "Collecting pyperclip>=1.6\n",
            "  Downloading https://files.pythonhosted.org/packages/6f/4c/0b1d507ad7e8bc31d690d04b4f475e74c2002d060f7994ce8c09612df707/pyperclip-1.8.1.tar.gz\n",
            "Collecting colorama>=0.3.7\n",
            "  Downloading https://files.pythonhosted.org/packages/44/98/5b86278fbbf250d239ae0ecb724f8572af1c91f4a11edf4d36a206189440/colorama-0.4.4-py2.py3-none-any.whl\n",
            "Requirement already satisfied: wcwidth>=0.1.7 in /usr/local/lib/python3.6/dist-packages (from cmd2!=0.8.3,>=0.8.0->cliff->optuna) (0.2.5)\n",
            "Requirement already satisfied: importlib-metadata>=1.6.0; python_version < \"3.8\" in /usr/local/lib/python3.6/dist-packages (from cmd2!=0.8.3,>=0.8.0->cliff->optuna) (3.4.0)\n",
            "Requirement already satisfied: typing-extensions>=3.6.4; python_version < \"3.8\" in /usr/local/lib/python3.6/dist-packages (from importlib-metadata>=1.6.0; python_version < \"3.8\"->cmd2!=0.8.3,>=0.8.0->cliff->optuna) (3.7.4.3)\n",
            "Requirement already satisfied: zipp>=0.5 in /usr/local/lib/python3.6/dist-packages (from importlib-metadata>=1.6.0; python_version < \"3.8\"->cmd2!=0.8.3,>=0.8.0->cliff->optuna) (3.4.0)\n",
            "Building wheels for collected packages: alembic, Mako, PrettyTable, pyperclip\n",
            "  Building wheel for alembic (setup.py) ... \u001b[?25l\u001b[?25hdone\n",
            "  Created wheel for alembic: filename=alembic-1.5.4-py2.py3-none-any.whl size=156314 sha256=7e6e52a7851a8942e55aa73b86e89344bb7cf8ac98869a9bbc875dc951f3549b\n",
            "  Stored in directory: /root/.cache/pip/wheels/fd/2d/ec/5a1b1e2363ed68392d292d215facf588d5448198edd8078bc1\n",
            "  Building wheel for Mako (setup.py) ... \u001b[?25l\u001b[?25hdone\n",
            "  Created wheel for Mako: filename=Mako-1.1.4-py2.py3-none-any.whl size=75675 sha256=66775da7757e6643d9ec27e51195241f485cf1abef4c32848b29f8f08ccc26a5\n",
            "  Stored in directory: /root/.cache/pip/wheels/ad/10/d3/aeb26e20d19045e2a68e5d3cbb57432e11b5d9c92c99f98d47\n",
            "  Building wheel for PrettyTable (setup.py) ... \u001b[?25l\u001b[?25hdone\n",
            "  Created wheel for PrettyTable: filename=prettytable-0.7.2-cp36-none-any.whl size=13702 sha256=acfebcd23e731b4a9db2adf48f24dd58971da0b9be20a23bdc353bf916be3e4e\n",
            "  Stored in directory: /root/.cache/pip/wheels/80/34/1c/3967380d9676d162cb59513bd9dc862d0584e045a162095606\n",
            "  Building wheel for pyperclip (setup.py) ... \u001b[?25l\u001b[?25hdone\n",
            "  Created wheel for pyperclip: filename=pyperclip-1.8.1-cp36-none-any.whl size=11120 sha256=b624a6a303afb2d322c250bdf240c3b506f8e41620b454648cf27d0bf9425468\n",
            "  Stored in directory: /root/.cache/pip/wheels/44/10/3a/c830e9bb3db2c93274ea1f213a41fabde0d8cf3794251fad0c\n",
            "Successfully built alembic Mako PrettyTable pyperclip\n",
            "Installing collected packages: cmaes, colorlog, Mako, python-editor, alembic, pyperclip, colorama, cmd2, PrettyTable, pbr, stevedore, cliff, optuna\n",
            "  Found existing installation: prettytable 2.0.0\n",
            "    Uninstalling prettytable-2.0.0:\n",
            "      Successfully uninstalled prettytable-2.0.0\n",
            "Successfully installed Mako-1.1.4 PrettyTable-0.7.2 alembic-1.5.4 cliff-3.6.0 cmaes-0.8.0 cmd2-1.5.0 colorama-0.4.4 colorlog-4.7.2 optuna-2.5.0 pbr-5.5.1 pyperclip-1.8.1 python-editor-1.0.4 stevedore-3.3.0\n"
          ],
          "name": "stdout"
        }
      ]
    },
    {
      "cell_type": "code",
      "metadata": {
        "id": "Q5cTioYU1wzg"
      },
      "source": [
        "import pandas as pd\r\n",
        "import numpy as np\r\n",
        "from sklearn.preprocessing import StandardScaler, MinMaxScaler\r\n",
        "from sklearn.preprocessing import LabelEncoder\r\n",
        "from sklearn.model_selection import train_test_split\r\n",
        "from sklearn.linear_model import LogisticRegressionCV\r\n",
        "from sklearn.model_selection import GridSearchCV\r\n",
        "from sklearn.metrics import f1_score, confusion_matrix, accuracy_score\r\n",
        "import xgboost as xgb\r\n",
        "import catboost as cat\r\n",
        "import shap\r\n",
        "import torch\r\n",
        "import torch.nn as nn\r\n",
        "import torch.optim as optim\r\n",
        "import seaborn as sns\r\n",
        "import optuna\r\n",
        "import matplotlib.pyplot as plt\r\n",
        "import zipfile \r\n",
        "import textwrap\r\n",
        "import datetime\r\n",
        "from tqdm import tqdm_notebook as tq\r\n",
        "%matplotlib inline"
      ],
      "execution_count": null,
      "outputs": []
    },
    {
      "cell_type": "markdown",
      "metadata": {
        "id": "4K1WrsOYBZ57"
      },
      "source": [
        "# Helper Functions"
      ]
    },
    {
      "cell_type": "code",
      "metadata": {
        "id": "XaB1UJLJL6Jt"
      },
      "source": [
        "def same_ids(df,df1):\r\n",
        "  a = set(df['ID'].values)\r\n",
        "  b = set(df1['ID'].values)\r\n",
        "  return len(set(a).intersection(set(b)))"
      ],
      "execution_count": null,
      "outputs": []
    },
    {
      "cell_type": "code",
      "metadata": {
        "id": "MCv8FpmNAtpU"
      },
      "source": [
        "#Check if same id's lie in test or not\r\n",
        "class preprocess:\r\n",
        "\r\n",
        "  def __init__(self, df):\r\n",
        "    \"\"\"\r\n",
        "    \"\"\"\r\n",
        "    self.df = df.copy()\r\n",
        "\r\n",
        "  def de_dupe(self):\r\n",
        "    print('Dropping Duplicates')\r\n",
        "    print(f'Before Shape: {df.shape}')\r\n",
        "    df = df.drop_duplicates()\r\n",
        "    print(f'After Shape: {df.shape}')\r\n",
        "    return df\r\n",
        "\r\n",
        " \r\n",
        "  def replacer(self,xx):\r\n",
        "    return [float(x) if x!='' else 0 for x in xx]\r\n",
        "\r\n",
        "  \r\n",
        "  def splitcomma(self,df,col):\r\n",
        "    df[col] = df[col].apply(lambda x: str(x)[:-1] if str(x)[-1]==',' else x)\r\n",
        "    df[col] = df[col].apply(lambda x: str(x).split(','))\r\n",
        "    df[col] = df[col].apply(lambda x: self.replacer(x))\r\n",
        "    return df[col]\r\n",
        "\r\n",
        "  def history_data(self,cols_list,wrap_cols):\r\n",
        "    print('PREPROCESSING HISTORY DATA')\r\n",
        "    # ['REPORTED DATE - HIST','CUR BAL - HIST','AMT OVERDUE - HIST','AMT PAID - HIST']\r\n",
        "    for col in cols_list:\r\n",
        "      print(col)\r\n",
        "      self.df[col] = self.splitcomma(self.df,col)\r\n",
        "    for wraps in wrap_cols:\r\n",
        "      self.df[wraps] = self.df[wraps].apply(lambda x:\\\r\n",
        "                                                      textwrap.wrap(str(x), 3))\r\n",
        "                                                    \r\n",
        "  def amountclean(self,x):\r\n",
        "    x = str(x).split('/')[0]\r\n",
        "    x = x.split(',')\r\n",
        "    x = float(''.join(x))\r\n",
        "    return x\r\n",
        "    \r\n",
        "  def amount_data(self,col_list):\r\n",
        "    print('PREPROCESSING AMOUNT DATA')\r\n",
        "    # ['CREDIT-LIMIT/SANC AMT','DISBURSED-AMT/HIGH CREDIT',\r\n",
        "    # 'INSTALLMENT-AMT','CURRENT-BAL','OVERDUE-AMT','WRITE-OFF-AMT']\r\n",
        "    for col in col_list:\r\n",
        "      print(col)\r\n",
        "      self.df[col] = self.df[col].apply(lambda x: self.amountclean(x)).astype('float64')\r\n",
        "\r\n",
        "  def installments(self,col_list):\r\n",
        "    print('PREPROCESSING INSTALLMENTS')\r\n",
        "    for col in col_list:\r\n",
        "      print(col)\r\n",
        "      self.df[col] = self.df[col].apply(lambda x: self.amountclean(x))\r\n",
        "      self.df[col+'_time'] = self.df[col].apply(\\\r\n",
        "                                      lambda x : str(x).split('/')[-1])\r\n",
        "      \r\n",
        "  def datenan(self,x):\r\n",
        "    try:\r\n",
        "        return datetime.datetime.strptime(x, '%Y%m%d')\r\n",
        "    except:\r\n",
        "        return pd.NaT\r\n",
        "  \r\n",
        "  def listofdates(self,df,col):\r\n",
        "    df[col] = df[col].apply(lambda x: str(x)[:-1] if str(x)[-1]==',' else str(x))\r\n",
        "    df[col] = df[col].apply(lambda x: str(x).split(','))\r\n",
        "    df[col] = df[col].apply(lambda x: [self.datenan(i) for i in x ])\r\n",
        "    return df[col]\r\n",
        "\r\n",
        "  def date_data(self,col_list,date_lists):\r\n",
        "    print('PREPROCESSING DATE DATA')\r\n",
        "    # ['DATE-REPORTED','DISBURSED-DT',\r\n",
        "    #   'CLOSE-DT','DISBURSED-DT']\r\n",
        "    for col in col_list:\r\n",
        "      print(col)\r\n",
        "      self.df[col] = pd.to_datetime(self.df[col],errors='coerce')\r\n",
        "    for col in date_lists:\r\n",
        "      print(col)\r\n",
        "\r\n",
        "      # 'REPORTED DATE - HIST'\r\n",
        "      self.df[col] = self.listofdates(self.df, col)\r\n",
        "\r\n",
        "  def cat_data(self,dfs,col_list):\r\n",
        "      print('PREPROCESSING CATEGORICAL DATA')\r\n",
        "      \r\n",
        "\r\n",
        "      encoder = LabelEncoder() \r\n",
        "      for col in col_list:\r\n",
        "        print(col)\r\n",
        "        self.df[col] = self.df[col].fillna('UNK')\r\n",
        "        dfs[col] = dfs[col].fillna('UNK')\r\n",
        "        dfm = self.df[col].append(dfs[col], ignore_index = True)\r\n",
        "        encoder = encoder.fit(dfm)\r\n",
        "        self.df[col] = encoder.transform(self.df[col])\r\n",
        "        dfs[col] = encoder.transform(dfs[col])\r\n",
        "\r\n",
        "\r\n",
        "\r\n",
        "  def merger(self, df_left ,df_right, on_what ,how_to):\r\n",
        "\r\n",
        "    assert df_left[on_what].dtype == df_right[on_what].dtype\r\n",
        "    df_left, df_right = self.de_dupe((df_left, df_right))\r\n",
        "    print(f'SHAPES BEFORE MERGE: {df_left.shape, df_right.shape}')\r\n",
        "    dfm = df_left.merge(df_right, on = on_what, how = how_to)\r\n",
        "    print(f'SHAPES AFTER MERGE: {dfm.shape}')\r\n",
        "    return dfm\r\n",
        "\r\n",
        "  def getmerged(self):\r\n",
        "\r\n",
        "    self.trainer = self.merger(self.d_train, self.b_train, 'ID', 'inner')\r\n",
        "    self.tester = self.merger(self.d_test, self.b_test, 'ID', 'inner')\r\n",
        "\r\n",
        "  \r\n",
        "\r\n",
        "  \r\n",
        "\r\n",
        "  \r\n",
        "    \r\n",
        "    \r\n",
        "\r\n"
      ],
      "execution_count": null,
      "outputs": []
    },
    {
      "cell_type": "code",
      "metadata": {
        "id": "JHYpW-rhL1uL"
      },
      "source": [
        "class lookin:\r\n",
        "\r\n",
        "  def __init__(self, df):\r\n",
        "\r\n",
        "    self.df = df\r\n",
        "\r\n",
        "  def dtype_obj(self):\r\n",
        "\r\n",
        "    objs_list = self.df.select_dtypes(['object']).columns\r\n",
        "    self.objs_cols = list(objs_list)\r\n",
        "    return list(objs_list)\r\n",
        "\r\n",
        "  def unique_objs(self):\r\n",
        "    lister = self.dtype_obj()\r\n",
        "    self.objs_nunique = pd.DataFrame(self.df[lister].nunique()).\\\r\n",
        "                                  sort_values(by=0, ascending = False)\r\n",
        "    return self.objs_nunique\r\n",
        "\r\n",
        "  def na_check(self):\r\n",
        "    dff = pd.DataFrame(self.df.isna().sum()).sort_values(by = 0,\\\r\n",
        "                                                         ascending = False)\r\n",
        "    self.nas = dff[dff[0]!=0]\r\n",
        "\r\n",
        "  def granularity(self, on_what):\r\n",
        "\r\n",
        "    dff = pd.DataFrame(self.df[on_what].value_counts())\r\n",
        "    print(dff.head())\r\n",
        "    print(dff.iloc[:,0].max, dff.iloc[:,0].min())\r\n",
        "\r\n",
        "\r\n",
        "  def run_this(self):\r\n",
        "\r\n",
        "    self.unique_objs()\r\n",
        "    self.na_check()"
      ],
      "execution_count": null,
      "outputs": []
    },
    {
      "cell_type": "code",
      "metadata": {
        "id": "C1rTjXVlw-Pb"
      },
      "source": [
        "def targetencode(dftrain,dftest,x,trgt,ag):\r\n",
        "  dff = dftrain.copy()\r\n",
        "  dff1 =  dftest.copy()\r\n",
        "  for col in x:\r\n",
        "    print(col)\r\n",
        "    dff = dftrain[[col,trgt]]\r\n",
        "    dffm = dftrain.groupby(col).agg({trgt:ag}).reset_index()\r\n",
        "    dd = pd.Series(dffm[trgt].values,index=dffm[col].values).to_dict()\r\n",
        "    dftest[col] = dff1[col].map(dd)\r\n",
        "    dftrain[col] = dff[col].map(dd)\r\n",
        "  return dftrain, dftest\r\n",
        "\r\n",
        "    \r\n"
      ],
      "execution_count": null,
      "outputs": []
    },
    {
      "cell_type": "markdown",
      "metadata": {
        "id": "lDewFwyC4-wS"
      },
      "source": [
        "# Getting data"
      ]
    },
    {
      "cell_type": "code",
      "metadata": {
        "id": "UgQJLrcW4pT0"
      },
      "source": [
        "\r\n",
        "\r\n",
        "zipfiles = ['/content/drive/MyDrive/Test.zip', \r\n",
        "            '/content/drive/MyDrive/Train.zip']\r\n",
        "target_path = '/content/drive/MyDrive'\r\n",
        "\r\n",
        "for files in zipfiles:\r\n",
        "  with zipfile.ZipFile(files,\"r\") as zip_ref:\r\n",
        "      zip_ref.extractall(target_path)"
      ],
      "execution_count": null,
      "outputs": []
    },
    {
      "cell_type": "code",
      "metadata": {
        "id": "Aie9Ips_47Wg"
      },
      "source": [
        "data_dict = pd.read_excel('/content/drive/MyDrive/Train/data_dict.xlsx')"
      ],
      "execution_count": null,
      "outputs": []
    },
    {
      "cell_type": "code",
      "metadata": {
        "id": "Z-HA83v68mL4"
      },
      "source": [
        "#Dicts\r\n",
        "d_dict = data_dict[['Demography Table','Unnamed: 1']].dropna()\r\n",
        "b_dict = data_dict[['Bureau Data','Unnamed: 4' ]].dropna()\r\n",
        "c_dict = data_dict[['CONTRIBUTOR ID', 'Bank Name']].dropna()\r\n",
        "a_dict = data_dict[['Account Type', 'Description']].dropna()"
      ],
      "execution_count": null,
      "outputs": []
    },
    {
      "cell_type": "code",
      "metadata": {
        "colab": {
          "base_uri": "https://localhost:8080/"
        },
        "id": "YJRadluU8n2t",
        "outputId": "10da3d05-2600-4749-f347-dc90cec8e20b"
      },
      "source": [
        "a_dict.shape, b_dict.shape, c_dict.shape, d_dict.shape"
      ],
      "execution_count": null,
      "outputs": [
        {
          "output_type": "execute_result",
          "data": {
            "text/plain": [
              "((47, 2), (25, 2), (18, 2), (27, 2))"
            ]
          },
          "metadata": {
            "tags": []
          },
          "execution_count": 10
        }
      ]
    },
    {
      "cell_type": "code",
      "metadata": {
        "id": "xOaObe4y-9LU"
      },
      "source": [
        "%timeit\r\n",
        "\r\n",
        "d_train = pd.read_excel('/content/drive/MyDrive/Train/train_Data.xlsx')\r\n",
        "b_train = pd.read_excel('/content/drive/MyDrive/Train/train_bureau.xlsx')\r\n",
        "\r\n",
        "d_test = pd.read_excel('/content/drive/MyDrive/test_Data.xlsx')\r\n",
        "b_test = pd.read_excel('/content/drive/MyDrive/test_bureau.xlsx')"
      ],
      "execution_count": null,
      "outputs": []
    },
    {
      "cell_type": "markdown",
      "metadata": {
        "id": "iSTCSvLDCEqh"
      },
      "source": [
        "# Looking at data"
      ]
    },
    {
      "cell_type": "code",
      "metadata": {
        "colab": {
          "base_uri": "https://localhost:8080/"
        },
        "id": "gVyCbmUBAWI9",
        "outputId": "d92b769a-53aa-4c7f-a974-c525540127ae"
      },
      "source": [
        "d_train.columns, b_train.columns"
      ],
      "execution_count": null,
      "outputs": [
        {
          "output_type": "execute_result",
          "data": {
            "text/plain": [
              "(Index(['ID', 'Frequency', 'InstlmentMode', 'LoanStatus', 'PaymentMode',\n",
              "        'BranchID', 'Area', 'Tenure', 'AssetCost', 'AmountFinance',\n",
              "        'DisbursalAmount', 'EMI', 'DisbursalDate', 'MaturityDAte', 'AuthDate',\n",
              "        'AssetID', 'ManufacturerID', 'SupplierID', 'LTV', 'SEX', 'AGE',\n",
              "        'MonthlyIncome', 'City', 'State', 'ZiPCODE', 'Top-up Month'],\n",
              "       dtype='object'),\n",
              " Index(['ID', 'SELF-INDICATOR', 'MATCH-TYPE', 'ACCT-TYPE', 'CONTRIBUTOR-TYPE',\n",
              "        'DATE-REPORTED', 'OWNERSHIP-IND', 'ACCOUNT-STATUS', 'DISBURSED-DT',\n",
              "        'CLOSE-DT', 'LAST-PAYMENT-DATE', 'CREDIT-LIMIT/SANC AMT',\n",
              "        'DISBURSED-AMT/HIGH CREDIT', 'INSTALLMENT-AMT', 'CURRENT-BAL',\n",
              "        'INSTALLMENT-FREQUENCY', 'OVERDUE-AMT', 'WRITE-OFF-AMT', 'ASSET_CLASS',\n",
              "        'REPORTED DATE - HIST', 'DPD - HIST', 'CUR BAL - HIST',\n",
              "        'AMT OVERDUE - HIST', 'AMT PAID - HIST', 'TENURE'],\n",
              "       dtype='object'))"
            ]
          },
          "metadata": {
            "tags": []
          },
          "execution_count": 12
        }
      ]
    },
    {
      "cell_type": "code",
      "metadata": {
        "colab": {
          "base_uri": "https://localhost:8080/"
        },
        "id": "0wZ8kJFSBeIB",
        "outputId": "88876287-0817-4791-a6bc-ab384eff4fe4"
      },
      "source": [
        "print(same_ids(d_train, b_train), d_train.shape)\r\n",
        "print(same_ids(d_test, b_test), d_test.shape)\r\n",
        "print(same_ids(d_train, d_test))"
      ],
      "execution_count": null,
      "outputs": [
        {
          "output_type": "stream",
          "text": [
            "128655 (128655, 26)\n",
            "14745 (14745, 25)\n",
            "0\n"
          ],
          "name": "stdout"
        }
      ]
    },
    {
      "cell_type": "code",
      "metadata": {
        "id": "pKEFUMkDBzR7"
      },
      "source": [
        "# loo = lookin(d_train)\r\n",
        "# loos = lookin(d_test)\r\n",
        "\r\n",
        "# loob = lookin(b_train)\r\n",
        "# loobs = lookin(b_test)\r\n",
        "\r\n",
        "# loo.run_this()\r\n",
        "# loos.run_this()\r\n",
        "# loob.run_this()\r\n",
        "# loobs.run_this()"
      ],
      "execution_count": null,
      "outputs": []
    },
    {
      "cell_type": "code",
      "metadata": {
        "id": "XwN2FQDOMH-Y"
      },
      "source": [
        "train_bp = preprocess(b_train)\r\n",
        "test_bp = preprocess(b_test)\r\n",
        "\r\n",
        "hist_cols = ['CUR BAL - HIST','AMT OVERDUE - HIST','AMT PAID - HIST']\r\n",
        "wrap_cols = ['DPD - HIST']\r\n",
        "\r\n",
        "amount_cols = ['CREDIT-LIMIT/SANC AMT','DISBURSED-AMT/HIGH CREDIT',\r\n",
        "              'INSTALLMENT-AMT','CURRENT-BAL','OVERDUE-AMT','WRITE-OFF-AMT']\r\n",
        "              \r\n",
        "date_cols = ['DATE-REPORTED','DISBURSED-DT','CLOSE-DT','DISBURSED-DT']\r\n",
        "list_date = ['REPORTED DATE - HIST']\r\n",
        "\r\n",
        "cat_cols = ['MATCH-TYPE', 'ACCT-TYPE', 'ASSET_CLASS',\r\n",
        "            'CONTRIBUTOR-TYPE', 'OWNERSHIP-IND', 'ACCOUNT-STATUS',\r\n",
        "            ]\r\n"
      ],
      "execution_count": null,
      "outputs": []
    },
    {
      "cell_type": "code",
      "metadata": {
        "colab": {
          "base_uri": "https://localhost:8080/"
        },
        "id": "eqRyzbWugsUS",
        "outputId": "506768b9-ba89-4d8f-ffa9-c673984d95ef"
      },
      "source": [
        "\r\n",
        "train_bp.history_data(hist_cols,wrap_cols)\r\n",
        "train_bp.amount_data(amount_cols)\r\n",
        "train_bp.date_data(date_cols, list_date)\r\n",
        "train_bp.cat_data(test_bp.df,cat_cols)\r\n",
        "\r\n",
        "test_bp.history_data(hist_cols,wrap_cols)\r\n",
        "test_bp.amount_data(amount_cols)\r\n",
        "test_bp.date_data(date_cols, list_date)\r\n"
      ],
      "execution_count": null,
      "outputs": [
        {
          "output_type": "stream",
          "text": [
            "PREPROCESSING HISTORY DATA\n",
            "CUR BAL - HIST\n",
            "AMT OVERDUE - HIST\n",
            "AMT PAID - HIST\n",
            "PREPROCESSING AMOUNT DATA\n",
            "CREDIT-LIMIT/SANC AMT\n",
            "DISBURSED-AMT/HIGH CREDIT\n",
            "INSTALLMENT-AMT\n",
            "CURRENT-BAL\n",
            "OVERDUE-AMT\n",
            "WRITE-OFF-AMT\n",
            "PREPROCESSING DATE DATA\n",
            "DATE-REPORTED\n",
            "DISBURSED-DT\n",
            "CLOSE-DT\n",
            "DISBURSED-DT\n",
            "REPORTED DATE - HIST\n",
            "PREPROCESSING CATEGORICAL DATA\n",
            "MATCH-TYPE\n",
            "ACCT-TYPE\n",
            "ASSET_CLASS\n",
            "CONTRIBUTOR-TYPE\n",
            "OWNERSHIP-IND\n",
            "ACCOUNT-STATUS\n",
            "PREPROCESSING HISTORY DATA\n",
            "CUR BAL - HIST\n",
            "AMT OVERDUE - HIST\n",
            "AMT PAID - HIST\n",
            "PREPROCESSING AMOUNT DATA\n",
            "CREDIT-LIMIT/SANC AMT\n",
            "DISBURSED-AMT/HIGH CREDIT\n",
            "INSTALLMENT-AMT\n",
            "CURRENT-BAL\n",
            "OVERDUE-AMT\n",
            "WRITE-OFF-AMT\n",
            "PREPROCESSING DATE DATA\n",
            "DATE-REPORTED\n",
            "DISBURSED-DT\n",
            "CLOSE-DT\n",
            "DISBURSED-DT\n",
            "REPORTED DATE - HIST\n"
          ],
          "name": "stdout"
        }
      ]
    },
    {
      "cell_type": "code",
      "metadata": {
        "id": "81scKLuXOkVr"
      },
      "source": [
        "train_dp = preprocess(d_train)\r\n",
        "test_dp = preprocess(d_test)\r\n",
        "              \r\n",
        "date_cols = ['DisbursalDate','MaturityDAte','AuthDate']\r\n",
        "list_date = []\r\n",
        "\r\n",
        "cat_cols = ['Frequency','InstlmentMode','LoanStatus',\r\n",
        "            'PaymentMode']\r\n",
        "\r\n"
      ],
      "execution_count": null,
      "outputs": []
    },
    {
      "cell_type": "code",
      "metadata": {
        "colab": {
          "base_uri": "https://localhost:8080/"
        },
        "id": "CZAosaRcUADt",
        "outputId": "05ce3a63-069a-4dcb-e2a0-8ef3247c7ebd"
      },
      "source": [
        "train_dp.date_data(date_cols, list_date)\r\n",
        "train_dp.cat_data(test_dp.df,cat_cols)\r\n",
        "\r\n",
        "test_dp.date_data(date_cols, list_date)"
      ],
      "execution_count": null,
      "outputs": [
        {
          "output_type": "stream",
          "text": [
            "PREPROCESSING DATE DATA\n",
            "DisbursalDate\n",
            "MaturityDAte\n",
            "AuthDate\n",
            "PREPROCESSING CATEGORICAL DATA\n",
            "Frequency\n",
            "InstlmentMode\n",
            "LoanStatus\n",
            "PaymentMode\n",
            "PREPROCESSING DATE DATA\n",
            "DisbursalDate\n",
            "MaturityDAte\n",
            "AuthDate\n"
          ],
          "name": "stdout"
        }
      ]
    },
    {
      "cell_type": "code",
      "metadata": {
        "colab": {
          "base_uri": "https://localhost:8080/"
        },
        "id": "C76fIydWPMWx",
        "outputId": "c4099d3d-a021-47f6-e224-d5931a272d82"
      },
      "source": [
        "train_dp.df.isna().sum()"
      ],
      "execution_count": null,
      "outputs": [
        {
          "output_type": "execute_result",
          "data": {
            "text/plain": [
              "ID                     0\n",
              "Frequency              0\n",
              "InstlmentMode          0\n",
              "LoanStatus             0\n",
              "PaymentMode            0\n",
              "BranchID               0\n",
              "Area               11653\n",
              "Tenure                 0\n",
              "AssetCost              0\n",
              "AmountFinance          0\n",
              "DisbursalAmount        0\n",
              "EMI                    0\n",
              "DisbursalDate          0\n",
              "MaturityDAte           1\n",
              "AuthDate               0\n",
              "AssetID                0\n",
              "ManufacturerID         0\n",
              "SupplierID             0\n",
              "LTV                    0\n",
              "SEX                   59\n",
              "AGE                   59\n",
              "MonthlyIncome        234\n",
              "City               11256\n",
              "State                  0\n",
              "ZiPCODE              372\n",
              "Top-up Month           0\n",
              "dtype: int64"
            ]
          },
          "metadata": {
            "tags": []
          },
          "execution_count": 19
        }
      ]
    },
    {
      "cell_type": "code",
      "metadata": {
        "id": "UYH1mXK7QQ59"
      },
      "source": [
        "# train_dp.df['BranchID'] = train_dp.df['BranchID'].apply(lambda x: str(x)[0:2])\r\n",
        "# train_dp.df['BranchID'] = pd.to_numeric(train_dp.df['BranchID'])\r\n",
        "\r\n",
        "# test_dp.df['BranchID'] = test_dp.df['BranchID'].apply(lambda x: str(x)[0:2])\r\n",
        "# test_dp.df['BranchID'] = pd.to_numeric(test_dp.df['BranchID'])"
      ],
      "execution_count": null,
      "outputs": []
    },
    {
      "cell_type": "code",
      "metadata": {
        "id": "wPOO2z-ZRBxg"
      },
      "source": [
        "# targetencode(train_dp.df,test_dp.df,['BranchID'],'Top-up Month','mean')"
      ],
      "execution_count": null,
      "outputs": []
    },
    {
      "cell_type": "code",
      "metadata": {
        "colab": {
          "base_uri": "https://localhost:8080/"
        },
        "id": "c7SDRk_O6DmQ",
        "outputId": "1eae1d26-0c66-4ae6-e0b5-43816638fcec"
      },
      "source": [
        "train_dp.df['Top-up Month'].unique()"
      ],
      "execution_count": null,
      "outputs": [
        {
          "output_type": "execute_result",
          "data": {
            "text/plain": [
              "array([' > 48 Months', 'No Top-up Service', '12-18 Months',\n",
              "       '36-48 Months', '18-24 Months', '24-30 Months', '30-36 Months'],\n",
              "      dtype=object)"
            ]
          },
          "metadata": {
            "tags": []
          },
          "execution_count": 22
        }
      ]
    },
    {
      "cell_type": "code",
      "metadata": {
        "id": "UatWyDgc6OO9"
      },
      "source": [
        "trgt_maps = {' > 48 Months':6, \r\n",
        "             'No Top-up Service':-1, \r\n",
        "             '12-18 Months':1,\r\n",
        "              '36-48 Months':5, \r\n",
        "              '18-24 Months':2, \r\n",
        "              '24-30 Months':3, \r\n",
        "              '30-36 Months':4}"
      ],
      "execution_count": null,
      "outputs": []
    },
    {
      "cell_type": "code",
      "metadata": {
        "id": "3Jkz7KfK60_D"
      },
      "source": [
        "train_dp.df['Top-up Month'] = train_dp.df['Top-up Month'].map(trgt_maps)\r\n",
        "# test_dp.df['Top-up Month'] = test_dp.df['Top-up Month'].map(trgt_maps)"
      ],
      "execution_count": null,
      "outputs": []
    },
    {
      "cell_type": "code",
      "metadata": {
        "colab": {
          "base_uri": "https://localhost:8080/"
        },
        "id": "ytewf0lC61CA",
        "outputId": "43168429-dbb9-4b7f-9f65-2071f812dfe5"
      },
      "source": [
        "train_dp.df['Top-up Month']"
      ],
      "execution_count": null,
      "outputs": [
        {
          "output_type": "execute_result",
          "data": {
            "text/plain": [
              "0         6\n",
              "1        -1\n",
              "2         1\n",
              "3         6\n",
              "4         5\n",
              "         ..\n",
              "128650    3\n",
              "128651   -1\n",
              "128652   -1\n",
              "128653   -1\n",
              "128654   -1\n",
              "Name: Top-up Month, Length: 128655, dtype: int64"
            ]
          },
          "metadata": {
            "tags": []
          },
          "execution_count": 25
        }
      ]
    },
    {
      "cell_type": "code",
      "metadata": {
        "colab": {
          "base_uri": "https://localhost:8080/"
        },
        "id": "17_uMH1s8trp",
        "outputId": "20688de0-59d6-49be-8dfb-527ab561ffe5"
      },
      "source": [
        "train_dp.df.nunique()"
      ],
      "execution_count": null,
      "outputs": [
        {
          "output_type": "execute_result",
          "data": {
            "text/plain": [
              "ID                 128655\n",
              "Frequency               4\n",
              "InstlmentMode           2\n",
              "LoanStatus              2\n",
              "PaymentMode            11\n",
              "BranchID              189\n",
              "Area                   92\n",
              "Tenure                141\n",
              "AssetCost            7835\n",
              "AmountFinance       20439\n",
              "DisbursalAmount     19412\n",
              "EMI                 24323\n",
              "DisbursalDate        2837\n",
              "MaturityDAte          980\n",
              "AuthDate             2711\n",
              "AssetID            128655\n",
              "ManufacturerID         10\n",
              "SupplierID           4539\n",
              "LTV                  7988\n",
              "SEX                     2\n",
              "AGE                    73\n",
              "MonthlyIncome       11568\n",
              "City                  488\n",
              "State                  22\n",
              "ZiPCODE              9123\n",
              "Top-up Month            7\n",
              "dtype: int64"
            ]
          },
          "metadata": {
            "tags": []
          },
          "execution_count": 26
        }
      ]
    },
    {
      "cell_type": "code",
      "metadata": {
        "colab": {
          "base_uri": "https://localhost:8080/"
        },
        "id": "LkAfLAp69o43",
        "outputId": "06de3204-2a95-4c39-a65e-ea6e5f2d332e"
      },
      "source": [
        "train_dp.df,test_dp.df = targetencode(train_dp.df,test_dp.df,\r\n",
        "             ['PaymentMode','BranchID','ManufacturerID','State'],'Top-up Month','mean')"
      ],
      "execution_count": null,
      "outputs": [
        {
          "output_type": "stream",
          "text": [
            "PaymentMode\n",
            "BranchID\n",
            "ManufacturerID\n",
            "State\n"
          ],
          "name": "stdout"
        }
      ]
    },
    {
      "cell_type": "code",
      "metadata": {
        "colab": {
          "base_uri": "https://localhost:8080/",
          "height": 496
        },
        "id": "pMWAGb4f-I4B",
        "outputId": "cf8e211e-ac13-4b0a-8d8c-9baad31910a9"
      },
      "source": [
        "train_dp.df"
      ],
      "execution_count": null,
      "outputs": [
        {
          "output_type": "execute_result",
          "data": {
            "text/html": [
              "<div>\n",
              "<style scoped>\n",
              "    .dataframe tbody tr th:only-of-type {\n",
              "        vertical-align: middle;\n",
              "    }\n",
              "\n",
              "    .dataframe tbody tr th {\n",
              "        vertical-align: top;\n",
              "    }\n",
              "\n",
              "    .dataframe thead th {\n",
              "        text-align: right;\n",
              "    }\n",
              "</style>\n",
              "<table border=\"1\" class=\"dataframe\">\n",
              "  <thead>\n",
              "    <tr style=\"text-align: right;\">\n",
              "      <th></th>\n",
              "      <th>ID</th>\n",
              "      <th>Frequency</th>\n",
              "      <th>InstlmentMode</th>\n",
              "      <th>LoanStatus</th>\n",
              "      <th>PaymentMode</th>\n",
              "      <th>BranchID</th>\n",
              "      <th>Area</th>\n",
              "      <th>Tenure</th>\n",
              "      <th>AssetCost</th>\n",
              "      <th>AmountFinance</th>\n",
              "      <th>DisbursalAmount</th>\n",
              "      <th>EMI</th>\n",
              "      <th>DisbursalDate</th>\n",
              "      <th>MaturityDAte</th>\n",
              "      <th>AuthDate</th>\n",
              "      <th>AssetID</th>\n",
              "      <th>ManufacturerID</th>\n",
              "      <th>SupplierID</th>\n",
              "      <th>LTV</th>\n",
              "      <th>SEX</th>\n",
              "      <th>AGE</th>\n",
              "      <th>MonthlyIncome</th>\n",
              "      <th>City</th>\n",
              "      <th>State</th>\n",
              "      <th>ZiPCODE</th>\n",
              "      <th>Top-up Month</th>\n",
              "    </tr>\n",
              "  </thead>\n",
              "  <tbody>\n",
              "    <tr>\n",
              "      <th>0</th>\n",
              "      <td>1</td>\n",
              "      <td>2</td>\n",
              "      <td>1</td>\n",
              "      <td>1</td>\n",
              "      <td>-0.213344</td>\n",
              "      <td>-0.159420</td>\n",
              "      <td>NaN</td>\n",
              "      <td>48</td>\n",
              "      <td>450000</td>\n",
              "      <td>275000.0</td>\n",
              "      <td>275000.0</td>\n",
              "      <td>24000.0</td>\n",
              "      <td>2012-02-10</td>\n",
              "      <td>2016-01-15</td>\n",
              "      <td>2012-02-10</td>\n",
              "      <td>4022465</td>\n",
              "      <td>-0.168199</td>\n",
              "      <td>21946</td>\n",
              "      <td>61.11</td>\n",
              "      <td>M</td>\n",
              "      <td>49.0</td>\n",
              "      <td>35833.33</td>\n",
              "      <td>RAISEN</td>\n",
              "      <td>0.059931</td>\n",
              "      <td>464993.0</td>\n",
              "      <td>6</td>\n",
              "    </tr>\n",
              "    <tr>\n",
              "      <th>1</th>\n",
              "      <td>2</td>\n",
              "      <td>2</td>\n",
              "      <td>0</td>\n",
              "      <td>1</td>\n",
              "      <td>-0.058121</td>\n",
              "      <td>0.236842</td>\n",
              "      <td>BHOPAL</td>\n",
              "      <td>47</td>\n",
              "      <td>485000</td>\n",
              "      <td>350000.0</td>\n",
              "      <td>350000.0</td>\n",
              "      <td>10500.0</td>\n",
              "      <td>2012-03-31</td>\n",
              "      <td>2016-02-15</td>\n",
              "      <td>2012-03-31</td>\n",
              "      <td>4681175</td>\n",
              "      <td>-0.044586</td>\n",
              "      <td>34802</td>\n",
              "      <td>70.00</td>\n",
              "      <td>M</td>\n",
              "      <td>23.0</td>\n",
              "      <td>666.67</td>\n",
              "      <td>SEHORE</td>\n",
              "      <td>0.059931</td>\n",
              "      <td>466001.0</td>\n",
              "      <td>-1</td>\n",
              "    </tr>\n",
              "    <tr>\n",
              "      <th>2</th>\n",
              "      <td>3</td>\n",
              "      <td>3</td>\n",
              "      <td>1</td>\n",
              "      <td>0</td>\n",
              "      <td>-0.052446</td>\n",
              "      <td>-0.159420</td>\n",
              "      <td>NaN</td>\n",
              "      <td>68</td>\n",
              "      <td>690000</td>\n",
              "      <td>519728.0</td>\n",
              "      <td>519728.0</td>\n",
              "      <td>38300.0</td>\n",
              "      <td>2017-06-17</td>\n",
              "      <td>2023-02-10</td>\n",
              "      <td>2017-06-17</td>\n",
              "      <td>25328146</td>\n",
              "      <td>-0.107265</td>\n",
              "      <td>127335</td>\n",
              "      <td>69.77</td>\n",
              "      <td>M</td>\n",
              "      <td>39.0</td>\n",
              "      <td>45257.00</td>\n",
              "      <td>BHOPAL</td>\n",
              "      <td>0.059931</td>\n",
              "      <td>462030.0</td>\n",
              "      <td>1</td>\n",
              "    </tr>\n",
              "    <tr>\n",
              "      <th>3</th>\n",
              "      <td>7</td>\n",
              "      <td>2</td>\n",
              "      <td>0</td>\n",
              "      <td>1</td>\n",
              "      <td>-0.180246</td>\n",
              "      <td>0.001541</td>\n",
              "      <td>GUNA</td>\n",
              "      <td>48</td>\n",
              "      <td>480000</td>\n",
              "      <td>400000.0</td>\n",
              "      <td>400000.0</td>\n",
              "      <td>11600.0</td>\n",
              "      <td>2013-11-29</td>\n",
              "      <td>2017-11-10</td>\n",
              "      <td>2013-11-29</td>\n",
              "      <td>13021591</td>\n",
              "      <td>-0.107265</td>\n",
              "      <td>25094</td>\n",
              "      <td>80.92</td>\n",
              "      <td>M</td>\n",
              "      <td>24.0</td>\n",
              "      <td>20833.33</td>\n",
              "      <td>ASHOK NAGAR</td>\n",
              "      <td>0.059931</td>\n",
              "      <td>473335.0</td>\n",
              "      <td>6</td>\n",
              "    </tr>\n",
              "    <tr>\n",
              "      <th>4</th>\n",
              "      <td>8</td>\n",
              "      <td>2</td>\n",
              "      <td>1</td>\n",
              "      <td>1</td>\n",
              "      <td>-0.180246</td>\n",
              "      <td>-0.316129</td>\n",
              "      <td>BILASPUR</td>\n",
              "      <td>44</td>\n",
              "      <td>619265</td>\n",
              "      <td>440000.0</td>\n",
              "      <td>440000.0</td>\n",
              "      <td>15000.0</td>\n",
              "      <td>2011-12-08</td>\n",
              "      <td>2015-07-05</td>\n",
              "      <td>2011-12-08</td>\n",
              "      <td>3291320</td>\n",
              "      <td>-0.117570</td>\n",
              "      <td>21853</td>\n",
              "      <td>71.05</td>\n",
              "      <td>M</td>\n",
              "      <td>56.0</td>\n",
              "      <td>27313.67</td>\n",
              "      <td>BILASPUR</td>\n",
              "      <td>-0.406021</td>\n",
              "      <td>495442.0</td>\n",
              "      <td>5</td>\n",
              "    </tr>\n",
              "    <tr>\n",
              "      <th>...</th>\n",
              "      <td>...</td>\n",
              "      <td>...</td>\n",
              "      <td>...</td>\n",
              "      <td>...</td>\n",
              "      <td>...</td>\n",
              "      <td>...</td>\n",
              "      <td>...</td>\n",
              "      <td>...</td>\n",
              "      <td>...</td>\n",
              "      <td>...</td>\n",
              "      <td>...</td>\n",
              "      <td>...</td>\n",
              "      <td>...</td>\n",
              "      <td>...</td>\n",
              "      <td>...</td>\n",
              "      <td>...</td>\n",
              "      <td>...</td>\n",
              "      <td>...</td>\n",
              "      <td>...</td>\n",
              "      <td>...</td>\n",
              "      <td>...</td>\n",
              "      <td>...</td>\n",
              "      <td>...</td>\n",
              "      <td>...</td>\n",
              "      <td>...</td>\n",
              "      <td>...</td>\n",
              "    </tr>\n",
              "    <tr>\n",
              "      <th>128650</th>\n",
              "      <td>143390</td>\n",
              "      <td>1</td>\n",
              "      <td>1</td>\n",
              "      <td>1</td>\n",
              "      <td>-0.052446</td>\n",
              "      <td>-0.368421</td>\n",
              "      <td>PANIPAT</td>\n",
              "      <td>24</td>\n",
              "      <td>470000</td>\n",
              "      <td>265601.0</td>\n",
              "      <td>265601.0</td>\n",
              "      <td>76800.0</td>\n",
              "      <td>2018-09-21</td>\n",
              "      <td>2020-06-05</td>\n",
              "      <td>2018-09-22</td>\n",
              "      <td>31286914</td>\n",
              "      <td>-0.168199</td>\n",
              "      <td>48879</td>\n",
              "      <td>40.17</td>\n",
              "      <td>M</td>\n",
              "      <td>25.0</td>\n",
              "      <td>65333.33</td>\n",
              "      <td>SONIPAT</td>\n",
              "      <td>-0.090728</td>\n",
              "      <td>131403.0</td>\n",
              "      <td>3</td>\n",
              "    </tr>\n",
              "    <tr>\n",
              "      <th>128651</th>\n",
              "      <td>143391</td>\n",
              "      <td>1</td>\n",
              "      <td>1</td>\n",
              "      <td>1</td>\n",
              "      <td>-0.052446</td>\n",
              "      <td>-0.368421</td>\n",
              "      <td>PANIPAT</td>\n",
              "      <td>24</td>\n",
              "      <td>460000</td>\n",
              "      <td>275630.0</td>\n",
              "      <td>275630.0</td>\n",
              "      <td>80100.0</td>\n",
              "      <td>2018-09-22</td>\n",
              "      <td>2020-06-05</td>\n",
              "      <td>2018-09-22</td>\n",
              "      <td>31295422</td>\n",
              "      <td>-0.168199</td>\n",
              "      <td>48879</td>\n",
              "      <td>59.92</td>\n",
              "      <td>M</td>\n",
              "      <td>25.0</td>\n",
              "      <td>83333.33</td>\n",
              "      <td>SONIPAT</td>\n",
              "      <td>-0.090728</td>\n",
              "      <td>131403.0</td>\n",
              "      <td>-1</td>\n",
              "    </tr>\n",
              "    <tr>\n",
              "      <th>128652</th>\n",
              "      <td>143393</td>\n",
              "      <td>2</td>\n",
              "      <td>1</td>\n",
              "      <td>0</td>\n",
              "      <td>-0.052446</td>\n",
              "      <td>-0.368421</td>\n",
              "      <td>PANIPAT</td>\n",
              "      <td>23</td>\n",
              "      <td>545000</td>\n",
              "      <td>300733.0</td>\n",
              "      <td>300733.0</td>\n",
              "      <td>15277.0</td>\n",
              "      <td>2018-11-23</td>\n",
              "      <td>2020-11-05</td>\n",
              "      <td>2018-11-23</td>\n",
              "      <td>32145629</td>\n",
              "      <td>-0.168199</td>\n",
              "      <td>44118</td>\n",
              "      <td>52.38</td>\n",
              "      <td>M</td>\n",
              "      <td>36.0</td>\n",
              "      <td>248500.00</td>\n",
              "      <td>SONIPAT</td>\n",
              "      <td>-0.090728</td>\n",
              "      <td>131024.0</td>\n",
              "      <td>-1</td>\n",
              "    </tr>\n",
              "    <tr>\n",
              "      <th>128653</th>\n",
              "      <td>143394</td>\n",
              "      <td>1</td>\n",
              "      <td>1</td>\n",
              "      <td>0</td>\n",
              "      <td>-0.052446</td>\n",
              "      <td>-0.368421</td>\n",
              "      <td>PANIPAT</td>\n",
              "      <td>35</td>\n",
              "      <td>350000</td>\n",
              "      <td>250962.0</td>\n",
              "      <td>250962.0</td>\n",
              "      <td>74341.0</td>\n",
              "      <td>2018-12-20</td>\n",
              "      <td>2021-06-05</td>\n",
              "      <td>2018-12-20</td>\n",
              "      <td>32509866</td>\n",
              "      <td>-0.168199</td>\n",
              "      <td>48879</td>\n",
              "      <td>50.37</td>\n",
              "      <td>M</td>\n",
              "      <td>37.0</td>\n",
              "      <td>84500.00</td>\n",
              "      <td>SONIPAT</td>\n",
              "      <td>-0.090728</td>\n",
              "      <td>131103.0</td>\n",
              "      <td>-1</td>\n",
              "    </tr>\n",
              "    <tr>\n",
              "      <th>128654</th>\n",
              "      <td>143395</td>\n",
              "      <td>1</td>\n",
              "      <td>1</td>\n",
              "      <td>0</td>\n",
              "      <td>-0.052446</td>\n",
              "      <td>-0.368421</td>\n",
              "      <td>PANIPAT</td>\n",
              "      <td>24</td>\n",
              "      <td>370000</td>\n",
              "      <td>200428.0</td>\n",
              "      <td>200428.0</td>\n",
              "      <td>59200.0</td>\n",
              "      <td>2018-12-31</td>\n",
              "      <td>2020-11-05</td>\n",
              "      <td>2018-12-31</td>\n",
              "      <td>32663754</td>\n",
              "      <td>-0.168199</td>\n",
              "      <td>48879</td>\n",
              "      <td>54.17</td>\n",
              "      <td>M</td>\n",
              "      <td>33.0</td>\n",
              "      <td>178166.67</td>\n",
              "      <td>SONIPAT</td>\n",
              "      <td>-0.090728</td>\n",
              "      <td>131402.0</td>\n",
              "      <td>-1</td>\n",
              "    </tr>\n",
              "  </tbody>\n",
              "</table>\n",
              "<p>128655 rows × 26 columns</p>\n",
              "</div>"
            ],
            "text/plain": [
              "            ID  Frequency  InstlmentMode  ...     State   ZiPCODE  Top-up Month\n",
              "0            1          2              1  ...  0.059931  464993.0             6\n",
              "1            2          2              0  ...  0.059931  466001.0            -1\n",
              "2            3          3              1  ...  0.059931  462030.0             1\n",
              "3            7          2              0  ...  0.059931  473335.0             6\n",
              "4            8          2              1  ... -0.406021  495442.0             5\n",
              "...        ...        ...            ...  ...       ...       ...           ...\n",
              "128650  143390          1              1  ... -0.090728  131403.0             3\n",
              "128651  143391          1              1  ... -0.090728  131403.0            -1\n",
              "128652  143393          2              1  ... -0.090728  131024.0            -1\n",
              "128653  143394          1              1  ... -0.090728  131103.0            -1\n",
              "128654  143395          1              1  ... -0.090728  131402.0            -1\n",
              "\n",
              "[128655 rows x 26 columns]"
            ]
          },
          "metadata": {
            "tags": []
          },
          "execution_count": 28
        }
      ]
    },
    {
      "cell_type": "code",
      "metadata": {
        "id": "MlK_gJV9AhMs"
      },
      "source": [
        "train_dp.df = train_dp.df.drop(columns = ['City','Area','ZiPCODE','SupplierID','AssetID'])\r\n",
        "test_dp.df = test_dp.df.drop(columns = ['City','Area','ZiPCODE','SupplierID','AssetID'])"
      ],
      "execution_count": null,
      "outputs": []
    },
    {
      "cell_type": "code",
      "metadata": {
        "colab": {
          "base_uri": "https://localhost:8080/",
          "height": 1000
        },
        "id": "vnEhF_OnBXVO",
        "outputId": "03eedfe3-6e8c-4511-93ea-525f56995a0d"
      },
      "source": [
        "train_bp.df"
      ],
      "execution_count": null,
      "outputs": [
        {
          "output_type": "execute_result",
          "data": {
            "text/html": [
              "<div>\n",
              "<style scoped>\n",
              "    .dataframe tbody tr th:only-of-type {\n",
              "        vertical-align: middle;\n",
              "    }\n",
              "\n",
              "    .dataframe tbody tr th {\n",
              "        vertical-align: top;\n",
              "    }\n",
              "\n",
              "    .dataframe thead th {\n",
              "        text-align: right;\n",
              "    }\n",
              "</style>\n",
              "<table border=\"1\" class=\"dataframe\">\n",
              "  <thead>\n",
              "    <tr style=\"text-align: right;\">\n",
              "      <th></th>\n",
              "      <th>ID</th>\n",
              "      <th>SELF-INDICATOR</th>\n",
              "      <th>MATCH-TYPE</th>\n",
              "      <th>ACCT-TYPE</th>\n",
              "      <th>CONTRIBUTOR-TYPE</th>\n",
              "      <th>DATE-REPORTED</th>\n",
              "      <th>OWNERSHIP-IND</th>\n",
              "      <th>ACCOUNT-STATUS</th>\n",
              "      <th>DISBURSED-DT</th>\n",
              "      <th>CLOSE-DT</th>\n",
              "      <th>LAST-PAYMENT-DATE</th>\n",
              "      <th>CREDIT-LIMIT/SANC AMT</th>\n",
              "      <th>DISBURSED-AMT/HIGH CREDIT</th>\n",
              "      <th>INSTALLMENT-AMT</th>\n",
              "      <th>CURRENT-BAL</th>\n",
              "      <th>INSTALLMENT-FREQUENCY</th>\n",
              "      <th>OVERDUE-AMT</th>\n",
              "      <th>WRITE-OFF-AMT</th>\n",
              "      <th>ASSET_CLASS</th>\n",
              "      <th>REPORTED DATE - HIST</th>\n",
              "      <th>DPD - HIST</th>\n",
              "      <th>CUR BAL - HIST</th>\n",
              "      <th>AMT OVERDUE - HIST</th>\n",
              "      <th>AMT PAID - HIST</th>\n",
              "      <th>TENURE</th>\n",
              "    </tr>\n",
              "  </thead>\n",
              "  <tbody>\n",
              "    <tr>\n",
              "      <th>0</th>\n",
              "      <td>1</td>\n",
              "      <td>False</td>\n",
              "      <td>0</td>\n",
              "      <td>38</td>\n",
              "      <td>6</td>\n",
              "      <td>2018-04-30</td>\n",
              "      <td>1</td>\n",
              "      <td>3</td>\n",
              "      <td>2015-10-05</td>\n",
              "      <td>NaT</td>\n",
              "      <td>2018-02-27</td>\n",
              "      <td>NaN</td>\n",
              "      <td>37352.0</td>\n",
              "      <td>NaN</td>\n",
              "      <td>37873.0</td>\n",
              "      <td>NaN</td>\n",
              "      <td>37873.0</td>\n",
              "      <td>0.0</td>\n",
              "      <td>6</td>\n",
              "      <td>[2018-04-30 00:00:00, 2018-03-31 00:00:00]</td>\n",
              "      <td>[030, 000]</td>\n",
              "      <td>[37873.0, 12820.0]</td>\n",
              "      <td>[37873.0, 0]</td>\n",
              "      <td>[0, 0]</td>\n",
              "      <td>NaN</td>\n",
              "    </tr>\n",
              "    <tr>\n",
              "      <th>1</th>\n",
              "      <td>1</td>\n",
              "      <td>False</td>\n",
              "      <td>0</td>\n",
              "      <td>0</td>\n",
              "      <td>6</td>\n",
              "      <td>2019-12-31</td>\n",
              "      <td>1</td>\n",
              "      <td>0</td>\n",
              "      <td>2018-03-19</td>\n",
              "      <td>NaT</td>\n",
              "      <td>2019-12-19</td>\n",
              "      <td>NaN</td>\n",
              "      <td>44000.0</td>\n",
              "      <td>1405.0</td>\n",
              "      <td>20797.0</td>\n",
              "      <td>F03</td>\n",
              "      <td>NaN</td>\n",
              "      <td>0.0</td>\n",
              "      <td>6</td>\n",
              "      <td>[2019-12-31 00:00:00, 2019-11-30 00:00:00, 201...</td>\n",
              "      <td>[000, 000, 000, 000, 000, 000, 000, 000, 000, ...</td>\n",
              "      <td>[20797.0, 21988.0, 23174.0, 24341.0, 25504.0, ...</td>\n",
              "      <td>[0, 0, 0, 0, 0, 0, 0, 0, 0, 0, 0, 0, 0, 0, 0, ...</td>\n",
              "      <td>[0, 0, 0, 0, 0, 0, 0, 0, 0, 0, 0, 0, 0, 0, 0, ...</td>\n",
              "      <td>36.0</td>\n",
              "    </tr>\n",
              "    <tr>\n",
              "      <th>2</th>\n",
              "      <td>1</td>\n",
              "      <td>True</td>\n",
              "      <td>0</td>\n",
              "      <td>48</td>\n",
              "      <td>7</td>\n",
              "      <td>2020-01-31</td>\n",
              "      <td>1</td>\n",
              "      <td>0</td>\n",
              "      <td>2019-08-30</td>\n",
              "      <td>NaT</td>\n",
              "      <td>NaT</td>\n",
              "      <td>NaN</td>\n",
              "      <td>145000.0</td>\n",
              "      <td>NaN</td>\n",
              "      <td>116087.0</td>\n",
              "      <td>NaN</td>\n",
              "      <td>0.0</td>\n",
              "      <td>0.0</td>\n",
              "      <td>8</td>\n",
              "      <td>[2020-01-31 00:00:00, 2019-12-31 00:00:00, 201...</td>\n",
              "      <td>[000, 000, 000, 000, 000, 000]</td>\n",
              "      <td>[116087.0, 116087.0, 145000.0, 145000.0, 14500...</td>\n",
              "      <td>[0.0, 0.0, 0.0, 0.0, 0.0, 0.0]</td>\n",
              "      <td>[0, 0, 0, 0, 0, 0]</td>\n",
              "      <td>NaN</td>\n",
              "    </tr>\n",
              "    <tr>\n",
              "      <th>3</th>\n",
              "      <td>1</td>\n",
              "      <td>True</td>\n",
              "      <td>0</td>\n",
              "      <td>0</td>\n",
              "      <td>7</td>\n",
              "      <td>2017-09-30</td>\n",
              "      <td>1</td>\n",
              "      <td>2</td>\n",
              "      <td>2013-09-27</td>\n",
              "      <td>2017-09-21</td>\n",
              "      <td>NaT</td>\n",
              "      <td>NaN</td>\n",
              "      <td>300000.0</td>\n",
              "      <td>NaN</td>\n",
              "      <td>0.0</td>\n",
              "      <td>NaN</td>\n",
              "      <td>0.0</td>\n",
              "      <td>0.0</td>\n",
              "      <td>8</td>\n",
              "      <td>[2017-09-30 00:00:00, 2017-08-01 00:00:00, 201...</td>\n",
              "      <td>[000, DDD, 027, 026, 027, 026, 027, 024, 027, ...</td>\n",
              "      <td>[0.0, 0, 15925.0, 23754.0, 31494.0, 39147.0, 4...</td>\n",
              "      <td>[0.0, 0, 1014.0, 1014.0, 1014.0, 1014.0, 1014....</td>\n",
              "      <td>[0, 0, 0, 0, 0, 0, 0, 0, 0, 0, 0, 0, 0, 0, 0, ...</td>\n",
              "      <td>NaN</td>\n",
              "    </tr>\n",
              "    <tr>\n",
              "      <th>4</th>\n",
              "      <td>1</td>\n",
              "      <td>True</td>\n",
              "      <td>0</td>\n",
              "      <td>48</td>\n",
              "      <td>7</td>\n",
              "      <td>2016-02-29</td>\n",
              "      <td>1</td>\n",
              "      <td>2</td>\n",
              "      <td>2012-02-10</td>\n",
              "      <td>2016-02-01</td>\n",
              "      <td>NaT</td>\n",
              "      <td>NaN</td>\n",
              "      <td>275000.0</td>\n",
              "      <td>NaN</td>\n",
              "      <td>0.0</td>\n",
              "      <td>NaN</td>\n",
              "      <td>0.0</td>\n",
              "      <td>0.0</td>\n",
              "      <td>8</td>\n",
              "      <td>[2016-02-29 00:00:00, 2016-01-31 00:00:00, 201...</td>\n",
              "      <td>[000, 000, 000, 000, 000, 000, 000, 000, 000, ...</td>\n",
              "      <td>[0.0, 0.0, 23658.0, 23321.0, 22989.0, 46321.0,...</td>\n",
              "      <td>[0.0, 0.0, 0.0, 0.0, 0.0, 0.0, 0.0, 0.0, 0.0, ...</td>\n",
              "      <td>[0, 0, 0, 0, 0, 0, 0, 0, 0, 0, 0, 0, 0, 0, 0, ...</td>\n",
              "      <td>NaN</td>\n",
              "    </tr>\n",
              "    <tr>\n",
              "      <th>...</th>\n",
              "      <td>...</td>\n",
              "      <td>...</td>\n",
              "      <td>...</td>\n",
              "      <td>...</td>\n",
              "      <td>...</td>\n",
              "      <td>...</td>\n",
              "      <td>...</td>\n",
              "      <td>...</td>\n",
              "      <td>...</td>\n",
              "      <td>...</td>\n",
              "      <td>...</td>\n",
              "      <td>...</td>\n",
              "      <td>...</td>\n",
              "      <td>...</td>\n",
              "      <td>...</td>\n",
              "      <td>...</td>\n",
              "      <td>...</td>\n",
              "      <td>...</td>\n",
              "      <td>...</td>\n",
              "      <td>...</td>\n",
              "      <td>...</td>\n",
              "      <td>...</td>\n",
              "      <td>...</td>\n",
              "      <td>...</td>\n",
              "      <td>...</td>\n",
              "    </tr>\n",
              "    <tr>\n",
              "      <th>560839</th>\n",
              "      <td>143393</td>\n",
              "      <td>False</td>\n",
              "      <td>0</td>\n",
              "      <td>48</td>\n",
              "      <td>7</td>\n",
              "      <td>2019-12-31</td>\n",
              "      <td>1</td>\n",
              "      <td>2</td>\n",
              "      <td>NaT</td>\n",
              "      <td>NaT</td>\n",
              "      <td>NaT</td>\n",
              "      <td>NaN</td>\n",
              "      <td>250000.0</td>\n",
              "      <td>NaN</td>\n",
              "      <td>0.0</td>\n",
              "      <td>NaN</td>\n",
              "      <td>0.0</td>\n",
              "      <td>0.0</td>\n",
              "      <td>6</td>\n",
              "      <td>[2017-12-31 00:00:00, 2017-11-30 00:00:00, 201...</td>\n",
              "      <td>[000, 000, DDD, 054, 024, 024, 000, 000, 000, ...</td>\n",
              "      <td>[0.0, 0.0, 0, 67747.0, 89638.0, 111197.0, 1095...</td>\n",
              "      <td>[0.0, 0.0, 0, 22920.0, 22920.0, 22920.0, 0.0, ...</td>\n",
              "      <td>[0, 0, 0, 0, 0, 0, 0, 0, 0, 0, 0, 0, 0]</td>\n",
              "      <td>12.0</td>\n",
              "    </tr>\n",
              "    <tr>\n",
              "      <th>560840</th>\n",
              "      <td>143393</td>\n",
              "      <td>False</td>\n",
              "      <td>0</td>\n",
              "      <td>48</td>\n",
              "      <td>7</td>\n",
              "      <td>2019-12-31</td>\n",
              "      <td>1</td>\n",
              "      <td>0</td>\n",
              "      <td>2017-10-31</td>\n",
              "      <td>NaT</td>\n",
              "      <td>NaT</td>\n",
              "      <td>NaN</td>\n",
              "      <td>30000.0</td>\n",
              "      <td>NaN</td>\n",
              "      <td>0.0</td>\n",
              "      <td>NaN</td>\n",
              "      <td>0.0</td>\n",
              "      <td>0.0</td>\n",
              "      <td>6</td>\n",
              "      <td>[2019-12-31 00:00:00, 2019-11-30 00:00:00, 201...</td>\n",
              "      <td>[000, 000, 000, 000, 000, 000, 027, 028, 028, ...</td>\n",
              "      <td>[0.0, 0.0, 14208.0, 28265.0, 42149.0, 55874.0,...</td>\n",
              "      <td>[0.0, 0.0, 0.0, 0.0, 0.0, 0.0, 125.0, 125.0, 1...</td>\n",
              "      <td>[0, 0, 0, 0, 0, 0, 0, 0, 0, 0, 0, 0, 0, 0, 0, ...</td>\n",
              "      <td>24.0</td>\n",
              "    </tr>\n",
              "    <tr>\n",
              "      <th>560841</th>\n",
              "      <td>143393</td>\n",
              "      <td>False</td>\n",
              "      <td>0</td>\n",
              "      <td>0</td>\n",
              "      <td>7</td>\n",
              "      <td>2020-01-31</td>\n",
              "      <td>0</td>\n",
              "      <td>0</td>\n",
              "      <td>2016-11-28</td>\n",
              "      <td>NaT</td>\n",
              "      <td>2020-01-16</td>\n",
              "      <td>NaN</td>\n",
              "      <td>393819.0</td>\n",
              "      <td>NaN</td>\n",
              "      <td>11687.0</td>\n",
              "      <td>NaN</td>\n",
              "      <td>NaN</td>\n",
              "      <td>0.0</td>\n",
              "      <td>6</td>\n",
              "      <td>[2020-01-31 00:00:00, 2019-12-31 00:00:00, 201...</td>\n",
              "      <td>[XXX, XXX, XXX, XXX, XXX, XXX, XXX, XXX, XXX, ...</td>\n",
              "      <td>[101687.0, 111161.0, 120514.0, 129749.0, 13886...</td>\n",
              "      <td>[0, 0, 0, 0, 0, 0, 0, 0, 0, 0, 0, 0, 10897.0, ...</td>\n",
              "      <td>[0, 0, 0, 0, 0, 0, 0, 0, 0, 0, 0, 0, 0, 0, 0, ...</td>\n",
              "      <td>48.0</td>\n",
              "    </tr>\n",
              "    <tr>\n",
              "      <th>560842</th>\n",
              "      <td>143394</td>\n",
              "      <td>True</td>\n",
              "      <td>0</td>\n",
              "      <td>48</td>\n",
              "      <td>7</td>\n",
              "      <td>2020-01-31</td>\n",
              "      <td>1</td>\n",
              "      <td>0</td>\n",
              "      <td>2018-12-20</td>\n",
              "      <td>NaT</td>\n",
              "      <td>NaT</td>\n",
              "      <td>NaN</td>\n",
              "      <td>250643.0</td>\n",
              "      <td>NaN</td>\n",
              "      <td>132487.0</td>\n",
              "      <td>NaN</td>\n",
              "      <td>0.0</td>\n",
              "      <td>0.0</td>\n",
              "      <td>8</td>\n",
              "      <td>[2020-01-31 00:00:00, 2019-12-31 00:00:00, 201...</td>\n",
              "      <td>[0]</td>\n",
              "      <td>[132487.0, 132487.0, 132487.0, 191426.0, 19142...</td>\n",
              "      <td>[0.0, 0.0, 0.0, 0.0, 0.0, 0.0, 0.0, 0.0, 0.0, ...</td>\n",
              "      <td>[0, 0, 0, 0, 0, 0, 0, 0, 0, 0, 0, 0, 0, 0]</td>\n",
              "      <td>NaN</td>\n",
              "    </tr>\n",
              "    <tr>\n",
              "      <th>560843</th>\n",
              "      <td>143395</td>\n",
              "      <td>True</td>\n",
              "      <td>0</td>\n",
              "      <td>48</td>\n",
              "      <td>7</td>\n",
              "      <td>2020-01-31</td>\n",
              "      <td>1</td>\n",
              "      <td>0</td>\n",
              "      <td>2018-12-31</td>\n",
              "      <td>NaT</td>\n",
              "      <td>NaT</td>\n",
              "      <td>NaN</td>\n",
              "      <td>20428.0</td>\n",
              "      <td>NaN</td>\n",
              "      <td>15499.0</td>\n",
              "      <td>NaN</td>\n",
              "      <td>0.0</td>\n",
              "      <td>0.0</td>\n",
              "      <td>8</td>\n",
              "      <td>[2020-01-31 00:00:00, 2019-12-31 00:00:00, 201...</td>\n",
              "      <td>[0]</td>\n",
              "      <td>[105499.0, 105499.0, 105499.0, 152431.0, 15243...</td>\n",
              "      <td>[0.0, 0.0, 0.0, 0.0, 0.0, 0.0, 0.0, 0.0, 0.0, ...</td>\n",
              "      <td>[0, 0, 0, 0, 0, 0, 0, 0, 0, 0, 0, 0, 0, 0]</td>\n",
              "      <td>NaN</td>\n",
              "    </tr>\n",
              "  </tbody>\n",
              "</table>\n",
              "<p>560844 rows × 25 columns</p>\n",
              "</div>"
            ],
            "text/plain": [
              "            ID  ...  TENURE\n",
              "0            1  ...     NaN\n",
              "1            1  ...    36.0\n",
              "2            1  ...     NaN\n",
              "3            1  ...     NaN\n",
              "4            1  ...     NaN\n",
              "...        ...  ...     ...\n",
              "560839  143393  ...    12.0\n",
              "560840  143393  ...    24.0\n",
              "560841  143393  ...    48.0\n",
              "560842  143394  ...     NaN\n",
              "560843  143395  ...     NaN\n",
              "\n",
              "[560844 rows x 25 columns]"
            ]
          },
          "metadata": {
            "tags": []
          },
          "execution_count": 30
        }
      ]
    },
    {
      "cell_type": "code",
      "metadata": {
        "id": "XGiVGV9sSh2x"
      },
      "source": [
        "train_bp.df = train_bp.df.drop(columns  = ['INSTALLMENT-AMT',\r\n",
        "                                           'CREDIT-LIMIT/SANC AMT',\r\n",
        "                                           'INSTALLMENT-AMT',\r\n",
        "                                           'INSTALLMENT-FREQUENCY'])\r\n",
        "test_bp.df = test_bp.df.drop(columns  = ['INSTALLMENT-AMT',\r\n",
        "                                           'CREDIT-LIMIT/SANC AMT',\r\n",
        "                                           'INSTALLMENT-AMT',\r\n",
        "                                           'INSTALLMENT-FREQUENCY'])"
      ],
      "execution_count": null,
      "outputs": []
    },
    {
      "cell_type": "code",
      "metadata": {
        "id": "GtTNtrONlzst"
      },
      "source": [
        "train_bp.df['SELF-INDICATOR'] = train_bp.df['SELF-INDICATOR'].astype('int64')"
      ],
      "execution_count": null,
      "outputs": []
    },
    {
      "cell_type": "code",
      "metadata": {
        "colab": {
          "base_uri": "https://localhost:8080/"
        },
        "id": "9nGJeuVZoCYB",
        "outputId": "09f7c84e-578c-46af-b7f8-d6ac8b5caf8e"
      },
      "source": [
        "train_dp.df['SEX'].value_counts()"
      ],
      "execution_count": null,
      "outputs": [
        {
          "output_type": "execute_result",
          "data": {
            "text/plain": [
              "M    122144\n",
              "F      6452\n",
              "Name: SEX, dtype: int64"
            ]
          },
          "metadata": {
            "tags": []
          },
          "execution_count": 33
        }
      ]
    },
    {
      "cell_type": "code",
      "metadata": {
        "id": "TgdvT_6MnRTK"
      },
      "source": [
        "encoder = LabelEncoder()\r\n",
        "train_dp.df['SEX'] = encoder.fit_transform(train_dp.df['SEX'].fillna('M'))\r\n",
        "test_dp.df['SEX'] = encoder.fit_transform(test_dp.df['SEX'].fillna('M'))"
      ],
      "execution_count": null,
      "outputs": []
    },
    {
      "cell_type": "code",
      "metadata": {
        "id": "MTZWzUxksdR_"
      },
      "source": [
        "# # Finding out active and LTFS\r\n",
        "# ltfs_trb = train_bp.df[train_bp.df['SELF-INDICATOR']==1]\r\n",
        "# ltfs_tsb = train_bp.df[train_bp.df['SELF-INDICATOR']==1]"
      ],
      "execution_count": null,
      "outputs": []
    },
    {
      "cell_type": "code",
      "metadata": {
        "id": "xawYKZEV06FH"
      },
      "source": [
        "# ltfs_trb.shape, train_dp.df.shape[0] + test_dp.df.shape[0]"
      ],
      "execution_count": null,
      "outputs": []
    },
    {
      "cell_type": "code",
      "metadata": {
        "id": "55q56--UvztH"
      },
      "source": [
        "# ltfs_trm = ltfs_trb.merge(train_dp.df,\r\n",
        "#                left_on = ['ID','DISBURSED-AMT/HIGH CREDIT'],\r\n",
        "#                right_on = ['ID','DisbursalAmount'],\r\n",
        "#                how = 'inner')"
      ],
      "execution_count": null,
      "outputs": []
    },
    {
      "cell_type": "code",
      "metadata": {
        "id": "-9YqD53sIZZO"
      },
      "source": [
        "train_bp.df = train_bp.df.merge(train_dp.df[['ID','Top-up Month']],on='ID',how='left')"
      ],
      "execution_count": null,
      "outputs": []
    },
    {
      "cell_type": "code",
      "metadata": {
        "colab": {
          "base_uri": "https://localhost:8080/"
        },
        "id": "O1bLikBvGFt2",
        "outputId": "fb9da65c-c4e9-4b75-b848-b768dcd86216"
      },
      "source": [
        "train_bp.df,test_bp.df = targetencode(train_bp.df,test_bp.df,\r\n",
        "             ['ACCT-TYPE','CONTRIBUTOR-TYPE','OWNERSHIP-IND','ACCOUNT-STATUS','ASSET_CLASS'],'Top-up Month','mean')"
      ],
      "execution_count": null,
      "outputs": [
        {
          "output_type": "stream",
          "text": [
            "ACCT-TYPE\n",
            "CONTRIBUTOR-TYPE\n",
            "OWNERSHIP-IND\n",
            "ACCOUNT-STATUS\n",
            "ASSET_CLASS\n"
          ],
          "name": "stdout"
        }
      ]
    },
    {
      "cell_type": "code",
      "metadata": {
        "colab": {
          "base_uri": "https://localhost:8080/",
          "height": 1000
        },
        "id": "TANrQnzOJbTU",
        "outputId": "f537f12a-84bf-4dd4-c8aa-5e8c0904fd16"
      },
      "source": [
        "train_bp.df"
      ],
      "execution_count": null,
      "outputs": [
        {
          "output_type": "execute_result",
          "data": {
            "text/html": [
              "<div>\n",
              "<style scoped>\n",
              "    .dataframe tbody tr th:only-of-type {\n",
              "        vertical-align: middle;\n",
              "    }\n",
              "\n",
              "    .dataframe tbody tr th {\n",
              "        vertical-align: top;\n",
              "    }\n",
              "\n",
              "    .dataframe thead th {\n",
              "        text-align: right;\n",
              "    }\n",
              "</style>\n",
              "<table border=\"1\" class=\"dataframe\">\n",
              "  <thead>\n",
              "    <tr style=\"text-align: right;\">\n",
              "      <th></th>\n",
              "      <th>ID</th>\n",
              "      <th>SELF-INDICATOR</th>\n",
              "      <th>MATCH-TYPE</th>\n",
              "      <th>ACCT-TYPE</th>\n",
              "      <th>CONTRIBUTOR-TYPE</th>\n",
              "      <th>DATE-REPORTED</th>\n",
              "      <th>OWNERSHIP-IND</th>\n",
              "      <th>ACCOUNT-STATUS</th>\n",
              "      <th>DISBURSED-DT</th>\n",
              "      <th>CLOSE-DT</th>\n",
              "      <th>LAST-PAYMENT-DATE</th>\n",
              "      <th>DISBURSED-AMT/HIGH CREDIT</th>\n",
              "      <th>CURRENT-BAL</th>\n",
              "      <th>OVERDUE-AMT</th>\n",
              "      <th>WRITE-OFF-AMT</th>\n",
              "      <th>ASSET_CLASS</th>\n",
              "      <th>REPORTED DATE - HIST</th>\n",
              "      <th>DPD - HIST</th>\n",
              "      <th>CUR BAL - HIST</th>\n",
              "      <th>AMT OVERDUE - HIST</th>\n",
              "      <th>AMT PAID - HIST</th>\n",
              "      <th>TENURE</th>\n",
              "      <th>Top-up Month</th>\n",
              "    </tr>\n",
              "  </thead>\n",
              "  <tbody>\n",
              "    <tr>\n",
              "      <th>0</th>\n",
              "      <td>1</td>\n",
              "      <td>0</td>\n",
              "      <td>0</td>\n",
              "      <td>2.239859</td>\n",
              "      <td>1.856057</td>\n",
              "      <td>2018-04-30</td>\n",
              "      <td>1.458272</td>\n",
              "      <td>1.148350</td>\n",
              "      <td>2015-10-05</td>\n",
              "      <td>NaT</td>\n",
              "      <td>2018-02-27</td>\n",
              "      <td>37352.0</td>\n",
              "      <td>37873.0</td>\n",
              "      <td>37873.0</td>\n",
              "      <td>0.0</td>\n",
              "      <td>1.792203</td>\n",
              "      <td>[2018-04-30 00:00:00, 2018-03-31 00:00:00]</td>\n",
              "      <td>[030, 000]</td>\n",
              "      <td>[37873.0, 12820.0]</td>\n",
              "      <td>[37873.0, 0]</td>\n",
              "      <td>[0, 0]</td>\n",
              "      <td>NaN</td>\n",
              "      <td>6</td>\n",
              "    </tr>\n",
              "    <tr>\n",
              "      <th>1</th>\n",
              "      <td>1</td>\n",
              "      <td>0</td>\n",
              "      <td>0</td>\n",
              "      <td>1.194759</td>\n",
              "      <td>1.856057</td>\n",
              "      <td>2019-12-31</td>\n",
              "      <td>1.458272</td>\n",
              "      <td>1.384176</td>\n",
              "      <td>2018-03-19</td>\n",
              "      <td>NaT</td>\n",
              "      <td>2019-12-19</td>\n",
              "      <td>44000.0</td>\n",
              "      <td>20797.0</td>\n",
              "      <td>NaN</td>\n",
              "      <td>0.0</td>\n",
              "      <td>1.792203</td>\n",
              "      <td>[2019-12-31 00:00:00, 2019-11-30 00:00:00, 201...</td>\n",
              "      <td>[000, 000, 000, 000, 000, 000, 000, 000, 000, ...</td>\n",
              "      <td>[20797.0, 21988.0, 23174.0, 24341.0, 25504.0, ...</td>\n",
              "      <td>[0, 0, 0, 0, 0, 0, 0, 0, 0, 0, 0, 0, 0, 0, 0, ...</td>\n",
              "      <td>[0, 0, 0, 0, 0, 0, 0, 0, 0, 0, 0, 0, 0, 0, 0, ...</td>\n",
              "      <td>36.0</td>\n",
              "      <td>6</td>\n",
              "    </tr>\n",
              "    <tr>\n",
              "      <th>2</th>\n",
              "      <td>1</td>\n",
              "      <td>1</td>\n",
              "      <td>0</td>\n",
              "      <td>0.963488</td>\n",
              "      <td>1.071563</td>\n",
              "      <td>2020-01-31</td>\n",
              "      <td>1.458272</td>\n",
              "      <td>1.384176</td>\n",
              "      <td>2019-08-30</td>\n",
              "      <td>NaT</td>\n",
              "      <td>NaT</td>\n",
              "      <td>145000.0</td>\n",
              "      <td>116087.0</td>\n",
              "      <td>0.0</td>\n",
              "      <td>0.0</td>\n",
              "      <td>1.135800</td>\n",
              "      <td>[2020-01-31 00:00:00, 2019-12-31 00:00:00, 201...</td>\n",
              "      <td>[000, 000, 000, 000, 000, 000]</td>\n",
              "      <td>[116087.0, 116087.0, 145000.0, 145000.0, 14500...</td>\n",
              "      <td>[0.0, 0.0, 0.0, 0.0, 0.0, 0.0]</td>\n",
              "      <td>[0, 0, 0, 0, 0, 0]</td>\n",
              "      <td>NaN</td>\n",
              "      <td>6</td>\n",
              "    </tr>\n",
              "    <tr>\n",
              "      <th>3</th>\n",
              "      <td>1</td>\n",
              "      <td>1</td>\n",
              "      <td>0</td>\n",
              "      <td>1.194759</td>\n",
              "      <td>1.071563</td>\n",
              "      <td>2017-09-30</td>\n",
              "      <td>1.458272</td>\n",
              "      <td>1.491686</td>\n",
              "      <td>2013-09-27</td>\n",
              "      <td>2017-09-21</td>\n",
              "      <td>NaT</td>\n",
              "      <td>300000.0</td>\n",
              "      <td>0.0</td>\n",
              "      <td>0.0</td>\n",
              "      <td>0.0</td>\n",
              "      <td>1.135800</td>\n",
              "      <td>[2017-09-30 00:00:00, 2017-08-01 00:00:00, 201...</td>\n",
              "      <td>[000, DDD, 027, 026, 027, 026, 027, 024, 027, ...</td>\n",
              "      <td>[0.0, 0, 15925.0, 23754.0, 31494.0, 39147.0, 4...</td>\n",
              "      <td>[0.0, 0, 1014.0, 1014.0, 1014.0, 1014.0, 1014....</td>\n",
              "      <td>[0, 0, 0, 0, 0, 0, 0, 0, 0, 0, 0, 0, 0, 0, 0, ...</td>\n",
              "      <td>NaN</td>\n",
              "      <td>6</td>\n",
              "    </tr>\n",
              "    <tr>\n",
              "      <th>4</th>\n",
              "      <td>1</td>\n",
              "      <td>1</td>\n",
              "      <td>0</td>\n",
              "      <td>0.963488</td>\n",
              "      <td>1.071563</td>\n",
              "      <td>2016-02-29</td>\n",
              "      <td>1.458272</td>\n",
              "      <td>1.491686</td>\n",
              "      <td>2012-02-10</td>\n",
              "      <td>2016-02-01</td>\n",
              "      <td>NaT</td>\n",
              "      <td>275000.0</td>\n",
              "      <td>0.0</td>\n",
              "      <td>0.0</td>\n",
              "      <td>0.0</td>\n",
              "      <td>1.135800</td>\n",
              "      <td>[2016-02-29 00:00:00, 2016-01-31 00:00:00, 201...</td>\n",
              "      <td>[000, 000, 000, 000, 000, 000, 000, 000, 000, ...</td>\n",
              "      <td>[0.0, 0.0, 23658.0, 23321.0, 22989.0, 46321.0,...</td>\n",
              "      <td>[0.0, 0.0, 0.0, 0.0, 0.0, 0.0, 0.0, 0.0, 0.0, ...</td>\n",
              "      <td>[0, 0, 0, 0, 0, 0, 0, 0, 0, 0, 0, 0, 0, 0, 0, ...</td>\n",
              "      <td>NaN</td>\n",
              "      <td>6</td>\n",
              "    </tr>\n",
              "    <tr>\n",
              "      <th>...</th>\n",
              "      <td>...</td>\n",
              "      <td>...</td>\n",
              "      <td>...</td>\n",
              "      <td>...</td>\n",
              "      <td>...</td>\n",
              "      <td>...</td>\n",
              "      <td>...</td>\n",
              "      <td>...</td>\n",
              "      <td>...</td>\n",
              "      <td>...</td>\n",
              "      <td>...</td>\n",
              "      <td>...</td>\n",
              "      <td>...</td>\n",
              "      <td>...</td>\n",
              "      <td>...</td>\n",
              "      <td>...</td>\n",
              "      <td>...</td>\n",
              "      <td>...</td>\n",
              "      <td>...</td>\n",
              "      <td>...</td>\n",
              "      <td>...</td>\n",
              "      <td>...</td>\n",
              "      <td>...</td>\n",
              "    </tr>\n",
              "    <tr>\n",
              "      <th>560839</th>\n",
              "      <td>143393</td>\n",
              "      <td>0</td>\n",
              "      <td>0</td>\n",
              "      <td>0.963488</td>\n",
              "      <td>1.071563</td>\n",
              "      <td>2019-12-31</td>\n",
              "      <td>1.458272</td>\n",
              "      <td>1.491686</td>\n",
              "      <td>NaT</td>\n",
              "      <td>NaT</td>\n",
              "      <td>NaT</td>\n",
              "      <td>250000.0</td>\n",
              "      <td>0.0</td>\n",
              "      <td>0.0</td>\n",
              "      <td>0.0</td>\n",
              "      <td>1.792203</td>\n",
              "      <td>[2017-12-31 00:00:00, 2017-11-30 00:00:00, 201...</td>\n",
              "      <td>[000, 000, DDD, 054, 024, 024, 000, 000, 000, ...</td>\n",
              "      <td>[0.0, 0.0, 0, 67747.0, 89638.0, 111197.0, 1095...</td>\n",
              "      <td>[0.0, 0.0, 0, 22920.0, 22920.0, 22920.0, 0.0, ...</td>\n",
              "      <td>[0, 0, 0, 0, 0, 0, 0, 0, 0, 0, 0, 0, 0]</td>\n",
              "      <td>12.0</td>\n",
              "      <td>0</td>\n",
              "    </tr>\n",
              "    <tr>\n",
              "      <th>560840</th>\n",
              "      <td>143393</td>\n",
              "      <td>0</td>\n",
              "      <td>0</td>\n",
              "      <td>0.963488</td>\n",
              "      <td>1.071563</td>\n",
              "      <td>2019-12-31</td>\n",
              "      <td>1.458272</td>\n",
              "      <td>1.384176</td>\n",
              "      <td>2017-10-31</td>\n",
              "      <td>NaT</td>\n",
              "      <td>NaT</td>\n",
              "      <td>30000.0</td>\n",
              "      <td>0.0</td>\n",
              "      <td>0.0</td>\n",
              "      <td>0.0</td>\n",
              "      <td>1.792203</td>\n",
              "      <td>[2019-12-31 00:00:00, 2019-11-30 00:00:00, 201...</td>\n",
              "      <td>[000, 000, 000, 000, 000, 000, 027, 028, 028, ...</td>\n",
              "      <td>[0.0, 0.0, 14208.0, 28265.0, 42149.0, 55874.0,...</td>\n",
              "      <td>[0.0, 0.0, 0.0, 0.0, 0.0, 0.0, 125.0, 125.0, 1...</td>\n",
              "      <td>[0, 0, 0, 0, 0, 0, 0, 0, 0, 0, 0, 0, 0, 0, 0, ...</td>\n",
              "      <td>24.0</td>\n",
              "      <td>0</td>\n",
              "    </tr>\n",
              "    <tr>\n",
              "      <th>560841</th>\n",
              "      <td>143393</td>\n",
              "      <td>0</td>\n",
              "      <td>0</td>\n",
              "      <td>1.194759</td>\n",
              "      <td>1.071563</td>\n",
              "      <td>2020-01-31</td>\n",
              "      <td>1.240538</td>\n",
              "      <td>1.384176</td>\n",
              "      <td>2016-11-28</td>\n",
              "      <td>NaT</td>\n",
              "      <td>2020-01-16</td>\n",
              "      <td>393819.0</td>\n",
              "      <td>11687.0</td>\n",
              "      <td>NaN</td>\n",
              "      <td>0.0</td>\n",
              "      <td>1.792203</td>\n",
              "      <td>[2020-01-31 00:00:00, 2019-12-31 00:00:00, 201...</td>\n",
              "      <td>[XXX, XXX, XXX, XXX, XXX, XXX, XXX, XXX, XXX, ...</td>\n",
              "      <td>[101687.0, 111161.0, 120514.0, 129749.0, 13886...</td>\n",
              "      <td>[0, 0, 0, 0, 0, 0, 0, 0, 0, 0, 0, 0, 10897.0, ...</td>\n",
              "      <td>[0, 0, 0, 0, 0, 0, 0, 0, 0, 0, 0, 0, 0, 0, 0, ...</td>\n",
              "      <td>48.0</td>\n",
              "      <td>0</td>\n",
              "    </tr>\n",
              "    <tr>\n",
              "      <th>560842</th>\n",
              "      <td>143394</td>\n",
              "      <td>1</td>\n",
              "      <td>0</td>\n",
              "      <td>0.963488</td>\n",
              "      <td>1.071563</td>\n",
              "      <td>2020-01-31</td>\n",
              "      <td>1.458272</td>\n",
              "      <td>1.384176</td>\n",
              "      <td>2018-12-20</td>\n",
              "      <td>NaT</td>\n",
              "      <td>NaT</td>\n",
              "      <td>250643.0</td>\n",
              "      <td>132487.0</td>\n",
              "      <td>0.0</td>\n",
              "      <td>0.0</td>\n",
              "      <td>1.135800</td>\n",
              "      <td>[2020-01-31 00:00:00, 2019-12-31 00:00:00, 201...</td>\n",
              "      <td>[0]</td>\n",
              "      <td>[132487.0, 132487.0, 132487.0, 191426.0, 19142...</td>\n",
              "      <td>[0.0, 0.0, 0.0, 0.0, 0.0, 0.0, 0.0, 0.0, 0.0, ...</td>\n",
              "      <td>[0, 0, 0, 0, 0, 0, 0, 0, 0, 0, 0, 0, 0, 0]</td>\n",
              "      <td>NaN</td>\n",
              "      <td>0</td>\n",
              "    </tr>\n",
              "    <tr>\n",
              "      <th>560843</th>\n",
              "      <td>143395</td>\n",
              "      <td>1</td>\n",
              "      <td>0</td>\n",
              "      <td>0.963488</td>\n",
              "      <td>1.071563</td>\n",
              "      <td>2020-01-31</td>\n",
              "      <td>1.458272</td>\n",
              "      <td>1.384176</td>\n",
              "      <td>2018-12-31</td>\n",
              "      <td>NaT</td>\n",
              "      <td>NaT</td>\n",
              "      <td>20428.0</td>\n",
              "      <td>15499.0</td>\n",
              "      <td>0.0</td>\n",
              "      <td>0.0</td>\n",
              "      <td>1.135800</td>\n",
              "      <td>[2020-01-31 00:00:00, 2019-12-31 00:00:00, 201...</td>\n",
              "      <td>[0]</td>\n",
              "      <td>[105499.0, 105499.0, 105499.0, 152431.0, 15243...</td>\n",
              "      <td>[0.0, 0.0, 0.0, 0.0, 0.0, 0.0, 0.0, 0.0, 0.0, ...</td>\n",
              "      <td>[0, 0, 0, 0, 0, 0, 0, 0, 0, 0, 0, 0, 0, 0]</td>\n",
              "      <td>NaN</td>\n",
              "      <td>0</td>\n",
              "    </tr>\n",
              "  </tbody>\n",
              "</table>\n",
              "<p>560844 rows × 23 columns</p>\n",
              "</div>"
            ],
            "text/plain": [
              "            ID  SELF-INDICATOR  ...  TENURE  Top-up Month\n",
              "0            1               0  ...     NaN             6\n",
              "1            1               0  ...    36.0             6\n",
              "2            1               1  ...     NaN             6\n",
              "3            1               1  ...     NaN             6\n",
              "4            1               1  ...     NaN             6\n",
              "...        ...             ...  ...     ...           ...\n",
              "560839  143393               0  ...    12.0             0\n",
              "560840  143393               0  ...    24.0             0\n",
              "560841  143393               0  ...    48.0             0\n",
              "560842  143394               1  ...     NaN             0\n",
              "560843  143395               1  ...     NaN             0\n",
              "\n",
              "[560844 rows x 23 columns]"
            ]
          },
          "metadata": {
            "tags": []
          },
          "execution_count": 40
        }
      ]
    },
    {
      "cell_type": "code",
      "metadata": {
        "id": "JCCPLPiaxosc"
      },
      "source": [
        "bp_tgg = train_bp.df.groupby('ID').aggregate({\r\n",
        "    'ACCT-TYPE':'mean',\r\n",
        "    'CONTRIBUTOR-TYPE':'mean',\r\n",
        "    'OWNERSHIP-IND':'mean',\r\n",
        "    'ACCOUNT-STATUS':'mean',\r\n",
        "    'ASSET_CLASS':'mean',\r\n",
        "    \r\n",
        "    'SELF-INDICATOR': 'sum',\r\n",
        "    'REPORTED DATE - HIST': 'sum',\r\n",
        "    'DPD - HIST': 'sum',\r\n",
        "    'CUR BAL - HIST': 'sum',\r\n",
        "    'AMT OVERDUE - HIST': 'sum',\r\n",
        "    'AMT PAID - HIST':'sum',\r\n",
        "    'TENURE':'mean'\r\n",
        "\r\n",
        "}).reset_index()"
      ],
      "execution_count": null,
      "outputs": []
    },
    {
      "cell_type": "code",
      "metadata": {
        "id": "IDG4SZjH36FO"
      },
      "source": [
        "bp_tsgg = test_bp.df.groupby('ID').aggregate({\r\n",
        "    \r\n",
        "     'ACCT-TYPE':'mean',\r\n",
        "    'CONTRIBUTOR-TYPE':'mean',\r\n",
        "    'OWNERSHIP-IND':'mean',\r\n",
        "    'ACCOUNT-STATUS':'mean',\r\n",
        "    'ASSET_CLASS':'mean',\r\n",
        "    'SELF-INDICATOR': 'sum',\r\n",
        "    'REPORTED DATE - HIST': 'sum',\r\n",
        "    'DPD - HIST': 'sum',\r\n",
        "    'CUR BAL - HIST': 'sum',\r\n",
        "    'AMT OVERDUE - HIST': 'sum',\r\n",
        "    'AMT PAID - HIST':'sum',\r\n",
        "    'TENURE':'mean'\r\n",
        "\r\n",
        "}).reset_index()\r\n",
        "\r\n",
        "bp_tgg = bp_tgg.merge(train_dp.df,on='ID')\r\n",
        "bp_tsgg = bp_tsgg.merge(test_dp.df,on='ID')\r\n",
        "\r\n",
        "bp_tgg['DURATION'] = bp_tgg['MaturityDAte']- bp_tgg['DisbursalDate']\r\n",
        "bp_tsgg['DURATION'] = bp_tsgg['MaturityDAte']- bp_tsgg['DisbursalDate']"
      ],
      "execution_count": null,
      "outputs": []
    },
    {
      "cell_type": "code",
      "metadata": {
        "id": "qlA5HiKO-Ix5"
      },
      "source": [
        "# train_dp.df['Duration'] = train_dp.df['DisbursalDate'] - train_dp.df['MaturityDAte']\r\n",
        "# test_dp.df['Duration'] = test_dp.df['DisbursalDate'] - test_dp.df['MaturityDAte']\r\n",
        "\r\n",
        "# train_dp.df['Duration'] = train_dp.df['Duration'].apply(lambda x: x.days)\r\n",
        "# test_dp.df['Duration'] = test_dp.df['Duration'].apply(lambda x: x.days)\r\n",
        "\r\n",
        "# train_dp.df = train_dp.df.drop(columns = ['ID','DisbursalDate','MaturityDAte','AuthDate','AssetID','ManufacturerID','SupplierID',\r\n",
        "#                                           'BranchID','State'])\r\n",
        "# test_dp.df = test_dp.df.drop(columns = ['ID','DisbursalDate','MaturityDAte','AuthDate','AssetID','ManufacturerID','SupplierID',\r\n",
        "#                                         'BranchID','State'])\r\n"
      ],
      "execution_count": null,
      "outputs": []
    },
    {
      "cell_type": "code",
      "metadata": {
        "id": "MCeH26A0QOo0"
      },
      "source": [
        "bp_tgg['lens'] = bp_tgg[['REPORTED DATE - HIST',\r\n",
        "        'CUR BAL - HIST']].apply(lambda x: min(len(x['REPORTED DATE - HIST']),\r\n",
        "                                                   len(x['CUR BAL - HIST'])),axis=1)\r\n",
        "        \r\n",
        "bp_tgg['REPORTED DATE - HIST'] = bp_tgg.apply(lambda x: x['REPORTED DATE - HIST'][:x['lens']],axis=1)\r\n",
        "bp_tgg['CUR BAL - HIST'] = bp_tgg.apply(lambda x: x['CUR BAL - HIST'][:x['lens']],axis=1)\r\n",
        "bp_tgg['CUR BAL - HIST'] = bp_tgg.apply(lambda x: x['CUR BAL - HIST'][:x['lens']],axis=1)"
      ],
      "execution_count": null,
      "outputs": []
    },
    {
      "cell_type": "code",
      "metadata": {
        "id": "tJ7RzUtKDAcj"
      },
      "source": [
        "# en = LabelEncoder()\r\n",
        "# en.fit(train_dp.df['Top-up Month'])\r\n",
        "# train_dp.df['Top-up Month'] = en.transform(train_dp.df['Top-up Month'])"
      ],
      "execution_count": null,
      "outputs": []
    },
    {
      "cell_type": "code",
      "metadata": {
        "id": "0qz4lfXzYexk"
      },
      "source": [
        "bp_tsgg['lens'] = bp_tsgg[['REPORTED DATE - HIST',\r\n",
        "        'CUR BAL - HIST']].apply(lambda x: min(len(x['REPORTED DATE - HIST']),\r\n",
        "                                                   len(x['CUR BAL - HIST'])),axis=1)\r\n",
        "        \r\n",
        "bp_tsgg['REPORTED DATE - HIST'] = bp_tsgg.apply(lambda x: x['REPORTED DATE - HIST'][:x['lens']],axis=1)\r\n",
        "bp_tsgg['CUR BAL - HIST'] = bp_tsgg.apply(lambda x: x['CUR BAL - HIST'][:x['lens']],axis=1)\r\n",
        "bp_tsgg['CUR BAL - HIST'] = bp_tsgg.apply(lambda x: x['CUR BAL - HIST'][:x['lens']],axis=1)"
      ],
      "execution_count": null,
      "outputs": []
    },
    {
      "cell_type": "code",
      "metadata": {
        "colab": {
          "base_uri": "https://localhost:8080/"
        },
        "id": "v2OCvUodM0A8",
        "outputId": "91d44b62-7eaf-4d8a-f209-399b75f8f98e"
      },
      "source": [
        "bp_tgg.columns"
      ],
      "execution_count": null,
      "outputs": [
        {
          "output_type": "execute_result",
          "data": {
            "text/plain": [
              "Index(['ID', 'ACCT-TYPE', 'CONTRIBUTOR-TYPE', 'OWNERSHIP-IND',\n",
              "       'ACCOUNT-STATUS', 'ASSET_CLASS', 'SELF-INDICATOR',\n",
              "       'REPORTED DATE - HIST', 'DPD - HIST', 'CUR BAL - HIST',\n",
              "       'AMT OVERDUE - HIST', 'AMT PAID - HIST', 'TENURE', 'Frequency',\n",
              "       'InstlmentMode', 'LoanStatus', 'PaymentMode', 'BranchID', 'Tenure',\n",
              "       'AssetCost', 'AmountFinance', 'DisbursalAmount', 'EMI', 'DisbursalDate',\n",
              "       'MaturityDAte', 'AuthDate', 'ManufacturerID', 'LTV', 'SEX', 'AGE',\n",
              "       'MonthlyIncome', 'State', 'Top-up Month', 'DURATION', 'lens'],\n",
              "      dtype='object')"
            ]
          },
          "metadata": {
            "tags": []
          },
          "execution_count": 48
        }
      ]
    },
    {
      "cell_type": "code",
      "metadata": {
        "id": "r2fN746IDz6X"
      },
      "source": [
        "bp_tgg1= bp_tgg[['ID','EMI','REPORTED DATE - HIST','CUR BAL - HIST']].set_index(['ID']).apply(pd.Series.explode).reset_index()\r\n",
        "bp_tsgg1= bp_tsgg[['ID','EMI','REPORTED DATE - HIST','CUR BAL - HIST']].set_index(['ID']).apply(pd.Series.explode).reset_index()"
      ],
      "execution_count": null,
      "outputs": []
    },
    {
      "cell_type": "code",
      "metadata": {
        "id": "ROPSe60Ha5st"
      },
      "source": [
        "bp_tgg1 = bp_tgg1.merge(bp_tgg[['ID', 'ACCT-TYPE', 'CONTRIBUTOR-TYPE', 'OWNERSHIP-IND',\r\n",
        "       'ACCOUNT-STATUS', 'ASSET_CLASS', 'SELF-INDICATOR',\r\n",
        "       'TENURE', 'Frequency',\r\n",
        "       'InstlmentMode', 'LoanStatus', 'PaymentMode', 'BranchID', 'Tenure',\r\n",
        "       'AssetCost', 'AmountFinance', 'DisbursalAmount', 'DisbursalDate',\r\n",
        "       'MaturityDAte', 'AuthDate', 'ManufacturerID', 'LTV', 'SEX', 'AGE',\r\n",
        "       'MonthlyIncome', 'State', 'Top-up Month', 'DURATION', 'lens']],on='ID')\r\n",
        "\r\n",
        "bp_tsgg1 = bp_tsgg1.merge(bp_tsgg[['ID', 'ACCT-TYPE', 'CONTRIBUTOR-TYPE', 'OWNERSHIP-IND',\r\n",
        "       'ACCOUNT-STATUS', 'ASSET_CLASS', 'SELF-INDICATOR',\r\n",
        "       'TENURE', 'Frequency',\r\n",
        "       'InstlmentMode', 'LoanStatus', 'PaymentMode', 'BranchID', 'Tenure',\r\n",
        "       'AssetCost', 'AmountFinance', 'DisbursalAmount', 'DisbursalDate',\r\n",
        "       'MaturityDAte', 'AuthDate', 'ManufacturerID', 'LTV', 'SEX', 'AGE',\r\n",
        "       'MonthlyIncome', 'State', 'DURATION', 'lens']],on='ID')"
      ],
      "execution_count": null,
      "outputs": []
    },
    {
      "cell_type": "code",
      "metadata": {
        "id": "8EK7c_Zqa5vo"
      },
      "source": [
        "bp_tgg1.to_csv('/content/drive/MyDrive/pro_train_ltfs1.csv',index = None)\r\n",
        "bp_tsgg1.to_csv('/content/drive/MyDrive/pro_test_ltfs1.csv',index = None)"
      ],
      "execution_count": null,
      "outputs": []
    },
    {
      "cell_type": "code",
      "metadata": {
        "id": "HBcPR4To5Cc3"
      },
      "source": [
        ""
      ],
      "execution_count": null,
      "outputs": []
    }
  ]
}