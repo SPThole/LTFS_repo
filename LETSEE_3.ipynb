{
  "nbformat": 4,
  "nbformat_minor": 0,
  "metadata": {
    "colab": {
      "name": "LETSEE@3.ipynb",
      "provenance": [],
      "collapsed_sections": [],
      "toc_visible": true,
      "mount_file_id": "1TRRW0SZH9NIVJn8M-bz4JLAeh0QEhWHV",
      "authorship_tag": "ABX9TyNIXrVm3cdhcaEPRpCDmShj",
      "include_colab_link": true
    },
    "kernelspec": {
      "display_name": "Python 3",
      "name": "python3"
    }
  },
  "cells": [
    {
      "cell_type": "markdown",
      "metadata": {
        "id": "view-in-github",
        "colab_type": "text"
      },
      "source": [
        "<a href=\"https://colab.research.google.com/github/SPThole/LTFS_repo/blob/main/LETSEE_3.ipynb\" target=\"_parent\"><img src=\"https://colab.research.google.com/assets/colab-badge.svg\" alt=\"Open In Colab\"/></a>"
      ]
    },
    {
      "cell_type": "code",
      "metadata": {
        "id": "uqbxMV-GMrvo"
      },
      "source": [
        "# !pip install xgboost==1.3.3\r\n",
        "# !python -m pip install dask[dataframe] --upgrade\r\n",
        "# !pip install dask-xgboost\r\n",
        "\r\n",
        "\r\n",
        "# !pip install dask_ml\r\n",
        "# !pip install shap"
      ],
      "execution_count": null,
      "outputs": []
    },
    {
      "cell_type": "code",
      "metadata": {
        "colab": {
          "base_uri": "https://localhost:8080/"
        },
        "id": "D44SLBKDFpvx",
        "outputId": "414e58a1-0cae-4356-b5f3-115134907380"
      },
      "source": [
        "!pip install catboost"
      ],
      "execution_count": null,
      "outputs": [
        {
          "output_type": "stream",
          "text": [
            "Requirement already satisfied: catboost in /usr/local/lib/python3.6/dist-packages (0.24.4)\n",
            "Requirement already satisfied: six in /usr/local/lib/python3.6/dist-packages (from catboost) (1.15.0)\n",
            "Requirement already satisfied: scipy in /usr/local/lib/python3.6/dist-packages (from catboost) (1.4.1)\n",
            "Requirement already satisfied: graphviz in /usr/local/lib/python3.6/dist-packages (from catboost) (0.10.1)\n",
            "Requirement already satisfied: matplotlib in /usr/local/lib/python3.6/dist-packages (from catboost) (3.2.2)\n",
            "Requirement already satisfied: pandas>=0.24.0 in /usr/local/lib/python3.6/dist-packages (from catboost) (1.1.5)\n",
            "Requirement already satisfied: numpy>=1.16.0 in /usr/local/lib/python3.6/dist-packages (from catboost) (1.19.5)\n",
            "Requirement already satisfied: plotly in /usr/local/lib/python3.6/dist-packages (from catboost) (4.4.1)\n",
            "Requirement already satisfied: cycler>=0.10 in /usr/local/lib/python3.6/dist-packages (from matplotlib->catboost) (0.10.0)\n",
            "Requirement already satisfied: python-dateutil>=2.1 in /usr/local/lib/python3.6/dist-packages (from matplotlib->catboost) (2.8.1)\n",
            "Requirement already satisfied: kiwisolver>=1.0.1 in /usr/local/lib/python3.6/dist-packages (from matplotlib->catboost) (1.3.1)\n",
            "Requirement already satisfied: pyparsing!=2.0.4,!=2.1.2,!=2.1.6,>=2.0.1 in /usr/local/lib/python3.6/dist-packages (from matplotlib->catboost) (2.4.7)\n",
            "Requirement already satisfied: pytz>=2017.2 in /usr/local/lib/python3.6/dist-packages (from pandas>=0.24.0->catboost) (2018.9)\n",
            "Requirement already satisfied: retrying>=1.3.3 in /usr/local/lib/python3.6/dist-packages (from plotly->catboost) (1.3.3)\n"
          ],
          "name": "stdout"
        }
      ]
    },
    {
      "cell_type": "code",
      "metadata": {
        "id": "GT682BKBM5-n"
      },
      "source": [
        "# from dask.distributed import Client\r\n",
        "\r\n",
        "# client = Client(n_workers=4, threads_per_worker=1)\r\n",
        "# client"
      ],
      "execution_count": null,
      "outputs": []
    },
    {
      "cell_type": "code",
      "metadata": {
        "id": "ren2W4B0fgAW"
      },
      "source": [
        "import pandas as pd\r\n",
        "import numpy as np\r\n",
        "import datetime\r\n",
        "import seaborn as sns\r\n",
        "import xgboost as xgb\r\n",
        "import matplotlib.pyplot as plt\r\n",
        "from sklearn.preprocessing import LabelEncoder\r\n",
        "from sklearn.model_selection import train_test_split\r\n",
        "from sklearn.metrics import f1_score,classification_report,confusion_matrix\r\n",
        "import lightgbm\r\n",
        "import catboost as catb\r\n",
        "from sklearn.model_selection import GridSearchCV, StratifiedKFold\r\n",
        "%matplotlib inline"
      ],
      "execution_count": null,
      "outputs": []
    },
    {
      "cell_type": "code",
      "metadata": {
        "id": "QiEEnsymfvzx"
      },
      "source": [
        "train = pd.read_csv('/content/drive/MyDrive/trainer_csv6.csv')\r\n",
        "test = pd.read_csv('/content/drive/MyDrive/tester_csv6.csv')"
      ],
      "execution_count": null,
      "outputs": []
    },
    {
      "cell_type": "code",
      "metadata": {
        "id": "PPVoSDmeGnmV"
      },
      "source": [
        "# train['Top-up Month'] = train['Top-up Month'].map({0:0,\r\n",
        "#                                                    1:1,\r\n",
        "#                                                    2:1,3:1,4:1,5:1,6:1})"
      ],
      "execution_count": null,
      "outputs": []
    },
    {
      "cell_type": "code",
      "metadata": {
        "id": "Kx00UmZYAosf"
      },
      "source": [
        "# train = train[train['Top-up Month']!=0]"
      ],
      "execution_count": null,
      "outputs": []
    },
    {
      "cell_type": "code",
      "metadata": {
        "id": "i1DM8fmkOf90"
      },
      "source": [
        "# trainer1 = train[[ 'ID','1.0', '2.0', '3.0', '4.0', '5.0',\r\n",
        "#        '6.0', '7.0', '8.0', '9.0', '10.0', '11.0', '12.0','Top-up Month']]\r\n",
        "# tester1 = test[['ID', '1.0', '2.0', '3.0', '4.0', '5.0',\r\n",
        "#        '6.0', '7.0', '8.0', '9.0', '10.0', '11.0', '12.0']]"
      ],
      "execution_count": null,
      "outputs": []
    },
    {
      "cell_type": "code",
      "metadata": {
        "id": "Cos3KzkXQyV1"
      },
      "source": [
        "train = train.drop(columns=['13.0','14.0','15.0','16.0','17.0','18.0','19.0'])"
      ],
      "execution_count": null,
      "outputs": []
    },
    {
      "cell_type": "code",
      "metadata": {
        "id": "S76r16KB8Q2s"
      },
      "source": [
        "test = test.drop(columns=[ '13.0', '14.0','15.0'])"
      ],
      "execution_count": null,
      "outputs": []
    },
    {
      "cell_type": "code",
      "metadata": {
        "id": "COHGeuzkHmSs"
      },
      "source": [
        "\r\n",
        "# train01 = train.copy()\r\n",
        "# train01['Top-up Month'] = train01['Top-up Month'].map({0:0,\r\n",
        "#                                                    1:1,\r\n",
        "#                                                    2:1,3:1,4:1,5:1,6:1})\r\n"
      ],
      "execution_count": null,
      "outputs": []
    },
    {
      "cell_type": "code",
      "metadata": {
        "id": "BpAG4Ql1leMr"
      },
      "source": [
        "# train['Top-up Month'].value_counts(normalize=True), train_y6.value_counts(normalize=True)"
      ],
      "execution_count": null,
      "outputs": []
    },
    {
      "cell_type": "code",
      "metadata": {
        "colab": {
          "base_uri": "https://localhost:8080/"
        },
        "id": "_yGd5c5c1ac9",
        "outputId": "f569a113-de06-4b51-dee7-f32a165f4ec1"
      },
      "source": [
        "train.columns"
      ],
      "execution_count": null,
      "outputs": [
        {
          "output_type": "execute_result",
          "data": {
            "text/plain": [
              "Index(['ID', 'EMI', 'ACCT-TYPE', 'CONTRIBUTOR-TYPE', 'OWNERSHIP-IND',\n",
              "       'ACCOUNT-STATUS', 'ASSET_CLASS', 'SELF-INDICATOR', 'TENURE',\n",
              "       'Frequency', 'InstlmentMode', 'LoanStatus', 'PaymentMode', 'BranchID',\n",
              "       'Tenure', 'AssetCost', 'AmountFinance', 'DisbursalAmount',\n",
              "       'ManufacturerID', 'LTV', 'SEX', 'AGE', 'MonthlyIncome', 'State',\n",
              "       'Top-up Month', 'DURATION', 'lens', 'how_many_6',\n",
              "       'REPORTED DATE - HISTm', 'REPORTED DATE - HISTy', 'DisbursalDatem',\n",
              "       'DisbursalDatey', 'MaturityDAtem', 'MaturityDAtey', '1.0', '2.0', '3.0',\n",
              "       '4.0', '5.0', '6.0', '7.0', '8.0', '9.0', '10.0', '11.0', '12.0'],\n",
              "      dtype='object')"
            ]
          },
          "metadata": {
            "tags": []
          },
          "execution_count": 194
        }
      ]
    },
    {
      "cell_type": "code",
      "metadata": {
        "colab": {
          "base_uri": "https://localhost:8080/",
          "height": 261
        },
        "id": "hTiOPpfGoskb",
        "outputId": "34d2a10c-2a4b-422f-ae40-4dba64d7bbf7"
      },
      "source": [
        "test.head()"
      ],
      "execution_count": null,
      "outputs": [
        {
          "output_type": "execute_result",
          "data": {
            "text/html": [
              "<div>\n",
              "<style scoped>\n",
              "    .dataframe tbody tr th:only-of-type {\n",
              "        vertical-align: middle;\n",
              "    }\n",
              "\n",
              "    .dataframe tbody tr th {\n",
              "        vertical-align: top;\n",
              "    }\n",
              "\n",
              "    .dataframe thead th {\n",
              "        text-align: right;\n",
              "    }\n",
              "</style>\n",
              "<table border=\"1\" class=\"dataframe\">\n",
              "  <thead>\n",
              "    <tr style=\"text-align: right;\">\n",
              "      <th></th>\n",
              "      <th>ID</th>\n",
              "      <th>EMI</th>\n",
              "      <th>ACCT-TYPE</th>\n",
              "      <th>CONTRIBUTOR-TYPE</th>\n",
              "      <th>OWNERSHIP-IND</th>\n",
              "      <th>ACCOUNT-STATUS</th>\n",
              "      <th>ASSET_CLASS</th>\n",
              "      <th>SELF-INDICATOR</th>\n",
              "      <th>TENURE</th>\n",
              "      <th>Frequency</th>\n",
              "      <th>InstlmentMode</th>\n",
              "      <th>LoanStatus</th>\n",
              "      <th>PaymentMode</th>\n",
              "      <th>BranchID</th>\n",
              "      <th>Tenure</th>\n",
              "      <th>AssetCost</th>\n",
              "      <th>AmountFinance</th>\n",
              "      <th>DisbursalAmount</th>\n",
              "      <th>ManufacturerID</th>\n",
              "      <th>LTV</th>\n",
              "      <th>SEX</th>\n",
              "      <th>AGE</th>\n",
              "      <th>MonthlyIncome</th>\n",
              "      <th>State</th>\n",
              "      <th>DURATION</th>\n",
              "      <th>lens</th>\n",
              "      <th>how_many_6</th>\n",
              "      <th>REPORTED DATE - HISTm</th>\n",
              "      <th>REPORTED DATE - HISTy</th>\n",
              "      <th>DisbursalDatem</th>\n",
              "      <th>DisbursalDatey</th>\n",
              "      <th>MaturityDAtem</th>\n",
              "      <th>MaturityDAtey</th>\n",
              "      <th>1.0</th>\n",
              "      <th>2.0</th>\n",
              "      <th>3.0</th>\n",
              "      <th>4.0</th>\n",
              "      <th>5.0</th>\n",
              "      <th>6.0</th>\n",
              "      <th>7.0</th>\n",
              "      <th>8.0</th>\n",
              "      <th>9.0</th>\n",
              "      <th>10.0</th>\n",
              "      <th>11.0</th>\n",
              "      <th>12.0</th>\n",
              "    </tr>\n",
              "  </thead>\n",
              "  <tbody>\n",
              "    <tr>\n",
              "      <th>0</th>\n",
              "      <td>4</td>\n",
              "      <td>1000.0</td>\n",
              "      <td>1.314483</td>\n",
              "      <td>1.273236</td>\n",
              "      <td>1.377486</td>\n",
              "      <td>1.411054</td>\n",
              "      <td>1.135800</td>\n",
              "      <td>1</td>\n",
              "      <td>120.000000</td>\n",
              "      <td>2</td>\n",
              "      <td>0</td>\n",
              "      <td>95</td>\n",
              "      <td>0.664989</td>\n",
              "      <td>NaN</td>\n",
              "      <td>46</td>\n",
              "      <td>480000</td>\n",
              "      <td>365000.0</td>\n",
              "      <td>365000.0</td>\n",
              "      <td>0.708584</td>\n",
              "      <td>75.83</td>\n",
              "      <td>1</td>\n",
              "      <td>50.0</td>\n",
              "      <td>32069.00</td>\n",
              "      <td>0.874595</td>\n",
              "      <td>1376.0</td>\n",
              "      <td>95</td>\n",
              "      <td>9.694737</td>\n",
              "      <td>6.705263</td>\n",
              "      <td>2016.4948</td>\n",
              "      <td>12.0</td>\n",
              "      <td>2011.0</td>\n",
              "      <td>10.0</td>\n",
              "      <td>2015.0</td>\n",
              "      <td>302456.0</td>\n",
              "      <td>278273.166667</td>\n",
              "      <td>234217.500000</td>\n",
              "      <td>186313.500000</td>\n",
              "      <td>134224.333333</td>\n",
              "      <td>77585.833333</td>\n",
              "      <td>19229.000000</td>\n",
              "      <td>NaN</td>\n",
              "      <td>NaN</td>\n",
              "      <td>NaN</td>\n",
              "      <td>1.287466e+06</td>\n",
              "      <td>1.238752e+06</td>\n",
              "    </tr>\n",
              "    <tr>\n",
              "      <th>1</th>\n",
              "      <td>5</td>\n",
              "      <td>9300.0</td>\n",
              "      <td>1.980461</td>\n",
              "      <td>1.348862</td>\n",
              "      <td>1.417879</td>\n",
              "      <td>1.464809</td>\n",
              "      <td>1.135800</td>\n",
              "      <td>1</td>\n",
              "      <td>180.000000</td>\n",
              "      <td>2</td>\n",
              "      <td>0</td>\n",
              "      <td>168</td>\n",
              "      <td>0.792426</td>\n",
              "      <td>NaN</td>\n",
              "      <td>45</td>\n",
              "      <td>480000</td>\n",
              "      <td>285000.0</td>\n",
              "      <td>285000.0</td>\n",
              "      <td>0.708584</td>\n",
              "      <td>57.44</td>\n",
              "      <td>1</td>\n",
              "      <td>35.0</td>\n",
              "      <td>25000.00</td>\n",
              "      <td>0.874595</td>\n",
              "      <td>1343.0</td>\n",
              "      <td>168</td>\n",
              "      <td>8.821429</td>\n",
              "      <td>6.577381</td>\n",
              "      <td>2016.4166</td>\n",
              "      <td>4.0</td>\n",
              "      <td>2012.0</td>\n",
              "      <td>1.0</td>\n",
              "      <td>2016.0</td>\n",
              "      <td>235870.5</td>\n",
              "      <td>200376.833333</td>\n",
              "      <td>162215.000000</td>\n",
              "      <td>122002.166667</td>\n",
              "      <td>39934.500000</td>\n",
              "      <td>20672.000000</td>\n",
              "      <td>266548.500000</td>\n",
              "      <td>235988.769231</td>\n",
              "      <td>150678.047619</td>\n",
              "      <td>248177.550000</td>\n",
              "      <td>3.272286e+05</td>\n",
              "      <td>4.288888e+05</td>\n",
              "    </tr>\n",
              "    <tr>\n",
              "      <th>2</th>\n",
              "      <td>6</td>\n",
              "      <td>35800.0</td>\n",
              "      <td>1.374217</td>\n",
              "      <td>1.122616</td>\n",
              "      <td>1.354085</td>\n",
              "      <td>1.482727</td>\n",
              "      <td>1.190500</td>\n",
              "      <td>2</td>\n",
              "      <td>24.142857</td>\n",
              "      <td>3</td>\n",
              "      <td>1</td>\n",
              "      <td>161</td>\n",
              "      <td>0.792426</td>\n",
              "      <td>NaN</td>\n",
              "      <td>48</td>\n",
              "      <td>580000</td>\n",
              "      <td>400000.0</td>\n",
              "      <td>400000.0</td>\n",
              "      <td>0.715542</td>\n",
              "      <td>68.97</td>\n",
              "      <td>1</td>\n",
              "      <td>37.0</td>\n",
              "      <td>23333.33</td>\n",
              "      <td>0.874595</td>\n",
              "      <td>1419.0</td>\n",
              "      <td>161</td>\n",
              "      <td>5.006211</td>\n",
              "      <td>6.515528</td>\n",
              "      <td>2016.0000</td>\n",
              "      <td>10.0</td>\n",
              "      <td>2013.0</td>\n",
              "      <td>9.0</td>\n",
              "      <td>2017.0</td>\n",
              "      <td>0.0</td>\n",
              "      <td>299047.800000</td>\n",
              "      <td>259344.166667</td>\n",
              "      <td>211928.666667</td>\n",
              "      <td>125858.444444</td>\n",
              "      <td>224473.444444</td>\n",
              "      <td>252072.888889</td>\n",
              "      <td>192682.000000</td>\n",
              "      <td>129346.705882</td>\n",
              "      <td>125562.500000</td>\n",
              "      <td>8.031250e+04</td>\n",
              "      <td>1.092250e+05</td>\n",
              "    </tr>\n",
              "    <tr>\n",
              "      <th>3</th>\n",
              "      <td>25</td>\n",
              "      <td>52000.0</td>\n",
              "      <td>1.138935</td>\n",
              "      <td>1.463810</td>\n",
              "      <td>1.458272</td>\n",
              "      <td>1.437931</td>\n",
              "      <td>1.464001</td>\n",
              "      <td>1</td>\n",
              "      <td>NaN</td>\n",
              "      <td>1</td>\n",
              "      <td>1</td>\n",
              "      <td>70</td>\n",
              "      <td>0.696255</td>\n",
              "      <td>0.467202</td>\n",
              "      <td>36</td>\n",
              "      <td>725000</td>\n",
              "      <td>500000.0</td>\n",
              "      <td>500000.0</td>\n",
              "      <td>NaN</td>\n",
              "      <td>61.79</td>\n",
              "      <td>1</td>\n",
              "      <td>55.0</td>\n",
              "      <td>91666.67</td>\n",
              "      <td>0.486417</td>\n",
              "      <td>995.0</td>\n",
              "      <td>70</td>\n",
              "      <td>6.000000</td>\n",
              "      <td>6.585714</td>\n",
              "      <td>2016.0857</td>\n",
              "      <td>5.0</td>\n",
              "      <td>2013.0</td>\n",
              "      <td>2.0</td>\n",
              "      <td>2016.0</td>\n",
              "      <td>415095.0</td>\n",
              "      <td>303062.000000</td>\n",
              "      <td>180512.000000</td>\n",
              "      <td>71957.500000</td>\n",
              "      <td>20568.750000</td>\n",
              "      <td>NaN</td>\n",
              "      <td>114070.500000</td>\n",
              "      <td>25495.833333</td>\n",
              "      <td>16361.500000</td>\n",
              "      <td>56385.428571</td>\n",
              "      <td>5.017383e+04</td>\n",
              "      <td>8.587660e+04</td>\n",
              "    </tr>\n",
              "    <tr>\n",
              "      <th>4</th>\n",
              "      <td>119</td>\n",
              "      <td>35400.0</td>\n",
              "      <td>1.079124</td>\n",
              "      <td>1.071563</td>\n",
              "      <td>1.349405</td>\n",
              "      <td>1.437931</td>\n",
              "      <td>1.135800</td>\n",
              "      <td>1</td>\n",
              "      <td>46.000000</td>\n",
              "      <td>3</td>\n",
              "      <td>1</td>\n",
              "      <td>72</td>\n",
              "      <td>0.792426</td>\n",
              "      <td>0.529412</td>\n",
              "      <td>48</td>\n",
              "      <td>617000</td>\n",
              "      <td>400000.0</td>\n",
              "      <td>400000.0</td>\n",
              "      <td>NaN</td>\n",
              "      <td>59.09</td>\n",
              "      <td>1</td>\n",
              "      <td>48.0</td>\n",
              "      <td>12500.00</td>\n",
              "      <td>0.861263</td>\n",
              "      <td>1466.0</td>\n",
              "      <td>72</td>\n",
              "      <td>7.930556</td>\n",
              "      <td>6.500000</td>\n",
              "      <td>2016.6250</td>\n",
              "      <td>11.0</td>\n",
              "      <td>2012.0</td>\n",
              "      <td>12.0</td>\n",
              "      <td>2016.0</td>\n",
              "      <td>NaN</td>\n",
              "      <td>303733.000000</td>\n",
              "      <td>270139.500000</td>\n",
              "      <td>222013.500000</td>\n",
              "      <td>169571.500000</td>\n",
              "      <td>107238.833333</td>\n",
              "      <td>46906.800000</td>\n",
              "      <td>291266.666667</td>\n",
              "      <td>489366.666667</td>\n",
              "      <td>397700.000000</td>\n",
              "      <td>3.080333e+05</td>\n",
              "      <td>2.267000e+05</td>\n",
              "    </tr>\n",
              "  </tbody>\n",
              "</table>\n",
              "</div>"
            ],
            "text/plain": [
              "    ID      EMI  ACCT-TYPE  ...           10.0          11.0          12.0\n",
              "0    4   1000.0   1.314483  ...            NaN  1.287466e+06  1.238752e+06\n",
              "1    5   9300.0   1.980461  ...  248177.550000  3.272286e+05  4.288888e+05\n",
              "2    6  35800.0   1.374217  ...  125562.500000  8.031250e+04  1.092250e+05\n",
              "3   25  52000.0   1.138935  ...   56385.428571  5.017383e+04  8.587660e+04\n",
              "4  119  35400.0   1.079124  ...  397700.000000  3.080333e+05  2.267000e+05\n",
              "\n",
              "[5 rows x 45 columns]"
            ]
          },
          "metadata": {
            "tags": []
          },
          "execution_count": 195
        }
      ]
    },
    {
      "cell_type": "code",
      "metadata": {
        "colab": {
          "base_uri": "https://localhost:8080/",
          "height": 424
        },
        "id": "XMxDa1Maq5j2",
        "outputId": "b820241e-8ffb-4121-c961-554d21372924"
      },
      "source": [
        "pd.get_dummies(train['Top-up Month'])"
      ],
      "execution_count": null,
      "outputs": [
        {
          "output_type": "execute_result",
          "data": {
            "text/html": [
              "<div>\n",
              "<style scoped>\n",
              "    .dataframe tbody tr th:only-of-type {\n",
              "        vertical-align: middle;\n",
              "    }\n",
              "\n",
              "    .dataframe tbody tr th {\n",
              "        vertical-align: top;\n",
              "    }\n",
              "\n",
              "    .dataframe thead th {\n",
              "        text-align: right;\n",
              "    }\n",
              "</style>\n",
              "<table border=\"1\" class=\"dataframe\">\n",
              "  <thead>\n",
              "    <tr style=\"text-align: right;\">\n",
              "      <th></th>\n",
              "      <th>0</th>\n",
              "      <th>1</th>\n",
              "      <th>2</th>\n",
              "      <th>3</th>\n",
              "      <th>4</th>\n",
              "      <th>5</th>\n",
              "      <th>6</th>\n",
              "    </tr>\n",
              "  </thead>\n",
              "  <tbody>\n",
              "    <tr>\n",
              "      <th>0</th>\n",
              "      <td>0</td>\n",
              "      <td>0</td>\n",
              "      <td>0</td>\n",
              "      <td>0</td>\n",
              "      <td>0</td>\n",
              "      <td>0</td>\n",
              "      <td>1</td>\n",
              "    </tr>\n",
              "    <tr>\n",
              "      <th>1</th>\n",
              "      <td>1</td>\n",
              "      <td>0</td>\n",
              "      <td>0</td>\n",
              "      <td>0</td>\n",
              "      <td>0</td>\n",
              "      <td>0</td>\n",
              "      <td>0</td>\n",
              "    </tr>\n",
              "    <tr>\n",
              "      <th>2</th>\n",
              "      <td>0</td>\n",
              "      <td>1</td>\n",
              "      <td>0</td>\n",
              "      <td>0</td>\n",
              "      <td>0</td>\n",
              "      <td>0</td>\n",
              "      <td>0</td>\n",
              "    </tr>\n",
              "    <tr>\n",
              "      <th>3</th>\n",
              "      <td>0</td>\n",
              "      <td>0</td>\n",
              "      <td>0</td>\n",
              "      <td>0</td>\n",
              "      <td>0</td>\n",
              "      <td>0</td>\n",
              "      <td>1</td>\n",
              "    </tr>\n",
              "    <tr>\n",
              "      <th>4</th>\n",
              "      <td>0</td>\n",
              "      <td>0</td>\n",
              "      <td>0</td>\n",
              "      <td>0</td>\n",
              "      <td>0</td>\n",
              "      <td>1</td>\n",
              "      <td>0</td>\n",
              "    </tr>\n",
              "    <tr>\n",
              "      <th>...</th>\n",
              "      <td>...</td>\n",
              "      <td>...</td>\n",
              "      <td>...</td>\n",
              "      <td>...</td>\n",
              "      <td>...</td>\n",
              "      <td>...</td>\n",
              "      <td>...</td>\n",
              "    </tr>\n",
              "    <tr>\n",
              "      <th>128650</th>\n",
              "      <td>0</td>\n",
              "      <td>0</td>\n",
              "      <td>0</td>\n",
              "      <td>1</td>\n",
              "      <td>0</td>\n",
              "      <td>0</td>\n",
              "      <td>0</td>\n",
              "    </tr>\n",
              "    <tr>\n",
              "      <th>128651</th>\n",
              "      <td>1</td>\n",
              "      <td>0</td>\n",
              "      <td>0</td>\n",
              "      <td>0</td>\n",
              "      <td>0</td>\n",
              "      <td>0</td>\n",
              "      <td>0</td>\n",
              "    </tr>\n",
              "    <tr>\n",
              "      <th>128652</th>\n",
              "      <td>1</td>\n",
              "      <td>0</td>\n",
              "      <td>0</td>\n",
              "      <td>0</td>\n",
              "      <td>0</td>\n",
              "      <td>0</td>\n",
              "      <td>0</td>\n",
              "    </tr>\n",
              "    <tr>\n",
              "      <th>128653</th>\n",
              "      <td>1</td>\n",
              "      <td>0</td>\n",
              "      <td>0</td>\n",
              "      <td>0</td>\n",
              "      <td>0</td>\n",
              "      <td>0</td>\n",
              "      <td>0</td>\n",
              "    </tr>\n",
              "    <tr>\n",
              "      <th>128654</th>\n",
              "      <td>1</td>\n",
              "      <td>0</td>\n",
              "      <td>0</td>\n",
              "      <td>0</td>\n",
              "      <td>0</td>\n",
              "      <td>0</td>\n",
              "      <td>0</td>\n",
              "    </tr>\n",
              "  </tbody>\n",
              "</table>\n",
              "<p>128655 rows × 7 columns</p>\n",
              "</div>"
            ],
            "text/plain": [
              "        0  1  2  3  4  5  6\n",
              "0       0  0  0  0  0  0  1\n",
              "1       1  0  0  0  0  0  0\n",
              "2       0  1  0  0  0  0  0\n",
              "3       0  0  0  0  0  0  1\n",
              "4       0  0  0  0  0  1  0\n",
              "...    .. .. .. .. .. .. ..\n",
              "128650  0  0  0  1  0  0  0\n",
              "128651  1  0  0  0  0  0  0\n",
              "128652  1  0  0  0  0  0  0\n",
              "128653  1  0  0  0  0  0  0\n",
              "128654  1  0  0  0  0  0  0\n",
              "\n",
              "[128655 rows x 7 columns]"
            ]
          },
          "metadata": {
            "tags": []
          },
          "execution_count": 196
        }
      ]
    },
    {
      "cell_type": "code",
      "metadata": {
        "id": "kxPHvDh1U2vG"
      },
      "source": [
        "X, y = train.drop(columns=['ID','Top-up Month']), train['Top-up Month']\r\n",
        "Xt = train.drop(columns = 'ID')"
      ],
      "execution_count": null,
      "outputs": []
    },
    {
      "cell_type": "code",
      "metadata": {
        "id": "M0BBoYt_IBEQ"
      },
      "source": [
        "# X01, y01 = train01.drop(columns=['ID','Top-up Month']), train01['Top-up Month']\r\n",
        "# Xt01 = train01.drop(columns = 'ID')"
      ],
      "execution_count": null,
      "outputs": []
    },
    {
      "cell_type": "code",
      "metadata": {
        "id": "wXmX-VIqIVv5"
      },
      "source": [
        ""
      ],
      "execution_count": null,
      "outputs": []
    },
    {
      "cell_type": "markdown",
      "metadata": {
        "id": "MD86eWWnIV-6"
      },
      "source": [
        "# model 0/1"
      ]
    },
    {
      "cell_type": "code",
      "metadata": {
        "id": "KuWmV-6tIV--"
      },
      "source": [
        "# X01, y01 = X01.drop(columns=[\r\n",
        "#        '2.0','3.0','4.0', '5.0', '6.0', '7.0', '8.0', '9.0', '10.0', '11.0', '12.0']),train01['Top-up Month']\r\n",
        "# train_x01, test_x01, train_y01, test_y01 = train_test_split(X01, y01,stratify = y01,test_size=0.2,random_state=42)\r\n",
        "\r\n",
        "# lgb_train = lightgbm.Dataset(train_x01, train_y01)\r\n",
        "# lgb_test = lightgbm.Dataset(test_x01, test_y01)\r\n",
        "\r\n",
        "# params = {'boosting_type': 'gbdt',\r\n",
        "# 'objective': 'multiclass',\r\n",
        "# 'num_class':7,\r\n",
        "# 'eval_meric':'mlogerror',\r\n",
        "# # 'min_child_weight':5,\r\n",
        "# 'n_estimators':250\r\n",
        "\r\n",
        "# # 'class_weight':{0:1/0.829171,\r\n",
        "# #                 6:1/0.065027,\r\n",
        "# #                 5:1/0.028417,\r\n",
        "# #                 3:1/0.027142,\r\n",
        "# #                 4:1/0.023800,\r\n",
        "# #                 2:1/0.018406,\r\n",
        "# #                 1:1/0.008037}\r\n",
        "# }\r\n",
        "\r\n",
        "# model1 = lightgbm.train(\r\n",
        "# params,\r\n",
        "# lgb_train,\r\n",
        "# num_boost_round=500,\r\n",
        "# valid_sets=[lgb_train, lgb_test],\r\n",
        "# early_stopping_rounds=20\r\n",
        "# )\r\n",
        "# # model1 = lightgbm.LGBMClassifier(**params)\r\n",
        "# # model1.fit(train_x1, train_y1)\r\n",
        "\r\n",
        "# print(f1_score(test_y01,\r\n",
        "#                model1.predict(test_x01).argmax(axis=1),\r\n",
        "#                average='macro'))\r\n",
        "# # predss1 = model1.predict(test_x1)\r\n",
        "# # # f1 = f1_score(test_y1,predss1,average='macro')\r\n",
        "# # print(f1)\r\n",
        "# preds1 = model1.predict(test.drop(columns=['ID',\r\n",
        "#        '2.0','3.0','4.0', '5.0', '6.0', '7.0', '8.0', '9.0', '10.0', '11.0', '12.0'])).argmax(axis=1)\r\n",
        "\r\n",
        "# X01[['p01','p11','p21','p31','p41','p51','p61']] = model1.predict(X01)\r\n",
        "# test[['p01','p11','p21','p31','p41','p51','p61']]= model1.predict(test.drop(columns=['ID',\r\n",
        "#        '2.0','3.0','4.0', '5.0', '6.0', '7.0', '8.0', '9.0', '10.0', '11.0', '12.0']))\r\n",
        "\r\n",
        "\r\n",
        "\r\n",
        "# # X['p1'] = model1.predict(X1)[:,1]\r\n",
        "# # test['p1'] = model1.predict(test.drop(columns=['ID',\r\n",
        "# #        '2.0','3.0','4.0', '5.0', '6.0', '7.0', '8.0', '9.0', '10.0', '11.0', '12.0']))[:,1]\r\n",
        "\r\n"
      ],
      "execution_count": null,
      "outputs": []
    },
    {
      "cell_type": "code",
      "metadata": {
        "id": "EBsrsOdoIV_H"
      },
      "source": [
        "# print(f1_score(train_y01,\r\n",
        "#                model1.predict(train_x01).argmax(axis=1),\r\n",
        "#                average='macro'))"
      ],
      "execution_count": null,
      "outputs": []
    },
    {
      "cell_type": "code",
      "metadata": {
        "id": "BSpct9ckIV_K"
      },
      "source": [
        "# print(confusion_matrix(test_y01,\r\n",
        "#                model1.predict(test_x01).argmax(axis=1),\r\n",
        "#                ))"
      ],
      "execution_count": null,
      "outputs": []
    },
    {
      "cell_type": "code",
      "metadata": {
        "id": "MhTSWfm3IV_N"
      },
      "source": [
        "# pd.Series(y01).value_counts()"
      ],
      "execution_count": null,
      "outputs": []
    },
    {
      "cell_type": "code",
      "metadata": {
        "id": "2nQh4S9AJRkW"
      },
      "source": [
        "# train = train[train['Top-up Month']!=0]\r\n",
        "# X = train.drop(columns = ['ID','Top-up Month'])"
      ],
      "execution_count": null,
      "outputs": []
    },
    {
      "cell_type": "code",
      "metadata": {
        "id": "WORUN_uhJRnh"
      },
      "source": [
        ""
      ],
      "execution_count": null,
      "outputs": []
    },
    {
      "cell_type": "markdown",
      "metadata": {
        "id": "gMMWSEtMt0UB"
      },
      "source": [
        "# model 1"
      ]
    },
    {
      "cell_type": "code",
      "metadata": {
        "colab": {
          "base_uri": "https://localhost:8080/"
        },
        "id": "8AsrOBoutwaj",
        "outputId": "28ba5a58-358d-45c7-94ec-8a861cbb3fbf"
      },
      "source": [
        "X1, y1 = X.drop(columns=[\r\n",
        "       '2.0','3.0','4.0', '5.0', '6.0', '7.0', '8.0', '9.0', '10.0', '11.0', '12.0']),train['Top-up Month']\r\n",
        "train_x1, test_x1, train_y1, test_y1 = train_test_split(X1, y1,stratify = y1,test_size=0.2,random_state=42)\r\n",
        "\r\n",
        "lgb_train = lightgbm.Dataset(train_x1, train_y1)\r\n",
        "lgb_test = lightgbm.Dataset(test_x1, test_y1)\r\n",
        "\r\n",
        "params = {'boosting_type': 'gbdt',\r\n",
        "'objective': 'multiclass',\r\n",
        "'num_class':7,\r\n",
        "'eval_meric':'mlogerror',\r\n",
        "# 'min_child_weight':5,\r\n",
        "\r\n",
        "\r\n",
        "}\r\n",
        "\r\n",
        "model1 = lightgbm.train(\r\n",
        "params,\r\n",
        "lgb_train,\r\n",
        "num_boost_round=500,\r\n",
        "valid_sets=[lgb_train, lgb_test],\r\n",
        "early_stopping_rounds=10,\r\n",
        "\r\n",
        ")\r\n",
        "# model1 = lightgbm.LGBMClassifier(**params)\r\n",
        "# model1.fit(train_x1, train_y1)\r\n",
        "\r\n",
        "print(f1_score(test_y1,\r\n",
        "               model1.predict(test_x1).argmax(axis=1),\r\n",
        "               average='macro'))\r\n",
        "# predss1 = model1.predict(test_x1)\r\n",
        "# # f1 = f1_score(test_y1,predss1,average='macro')\r\n",
        "# print(f1)\r\n",
        "preds1 = model1.predict(test.drop(columns=['ID',\r\n",
        "       '2.0','3.0','4.0', '5.0', '6.0', '7.0', '8.0', '9.0', '10.0', '11.0', '12.0'])).argmax(axis=1)\r\n",
        "\r\n",
        "X[['p01','p11','p21','p31','p41','p51','p61']] = model1.predict(X1)\r\n",
        "test[['p01','p11','p21','p31','p41','p51','p61']]= model1.predict(test.drop(columns=['ID',\r\n",
        "       '2.0','3.0','4.0', '5.0', '6.0', '7.0', '8.0', '9.0', '10.0', '11.0', '12.0']))\r\n",
        "\r\n",
        "\r\n",
        "\r\n",
        "# X['p1'] = model1.predict(X1)[:,1]\r\n",
        "# test['p1'] = model1.predict(test.drop(columns=['ID',\r\n",
        "#        '2.0','3.0','4.0', '5.0', '6.0', '7.0', '8.0', '9.0', '10.0', '11.0', '12.0']))[:,1]\r\n",
        "\r\n"
      ],
      "execution_count": null,
      "outputs": [
        {
          "output_type": "stream",
          "text": [
            "[1]\ttraining's multi_logloss: 0.656405\tvalid_1's multi_logloss: 0.662699\n",
            "Training until validation scores don't improve for 10 rounds.\n",
            "[2]\ttraining's multi_logloss: 0.621532\tvalid_1's multi_logloss: 0.629875\n",
            "[3]\ttraining's multi_logloss: 0.59552\tvalid_1's multi_logloss: 0.605495\n",
            "[4]\ttraining's multi_logloss: 0.574157\tvalid_1's multi_logloss: 0.585377\n",
            "[5]\ttraining's multi_logloss: 0.556518\tvalid_1's multi_logloss: 0.56907\n",
            "[6]\ttraining's multi_logloss: 0.541632\tvalid_1's multi_logloss: 0.555183\n",
            "[7]\ttraining's multi_logloss: 0.528685\tvalid_1's multi_logloss: 0.543341\n",
            "[8]\ttraining's multi_logloss: 0.517478\tvalid_1's multi_logloss: 0.533274\n",
            "[9]\ttraining's multi_logloss: 0.507596\tvalid_1's multi_logloss: 0.524384\n",
            "[10]\ttraining's multi_logloss: 0.49885\tvalid_1's multi_logloss: 0.516728\n",
            "[11]\ttraining's multi_logloss: 0.490989\tvalid_1's multi_logloss: 0.50985\n",
            "[12]\ttraining's multi_logloss: 0.483889\tvalid_1's multi_logloss: 0.50376\n",
            "[13]\ttraining's multi_logloss: 0.477466\tvalid_1's multi_logloss: 0.498349\n",
            "[14]\ttraining's multi_logloss: 0.471546\tvalid_1's multi_logloss: 0.493359\n",
            "[15]\ttraining's multi_logloss: 0.4662\tvalid_1's multi_logloss: 0.488917\n",
            "[16]\ttraining's multi_logloss: 0.461307\tvalid_1's multi_logloss: 0.48488\n",
            "[17]\ttraining's multi_logloss: 0.456684\tvalid_1's multi_logloss: 0.481134\n",
            "[18]\ttraining's multi_logloss: 0.452427\tvalid_1's multi_logloss: 0.477636\n",
            "[19]\ttraining's multi_logloss: 0.448476\tvalid_1's multi_logloss: 0.474627\n",
            "[20]\ttraining's multi_logloss: 0.444674\tvalid_1's multi_logloss: 0.471817\n",
            "[21]\ttraining's multi_logloss: 0.441143\tvalid_1's multi_logloss: 0.46939\n",
            "[22]\ttraining's multi_logloss: 0.437916\tvalid_1's multi_logloss: 0.467089\n",
            "[23]\ttraining's multi_logloss: 0.434885\tvalid_1's multi_logloss: 0.464972\n",
            "[24]\ttraining's multi_logloss: 0.431983\tvalid_1's multi_logloss: 0.46316\n",
            "[25]\ttraining's multi_logloss: 0.429377\tvalid_1's multi_logloss: 0.461344\n",
            "[26]\ttraining's multi_logloss: 0.426812\tvalid_1's multi_logloss: 0.459693\n",
            "[27]\ttraining's multi_logloss: 0.424425\tvalid_1's multi_logloss: 0.458246\n",
            "[28]\ttraining's multi_logloss: 0.422173\tvalid_1's multi_logloss: 0.456905\n",
            "[29]\ttraining's multi_logloss: 0.419874\tvalid_1's multi_logloss: 0.455539\n",
            "[30]\ttraining's multi_logloss: 0.417764\tvalid_1's multi_logloss: 0.454368\n",
            "[31]\ttraining's multi_logloss: 0.415607\tvalid_1's multi_logloss: 0.453183\n",
            "[32]\ttraining's multi_logloss: 0.413553\tvalid_1's multi_logloss: 0.451986\n",
            "[33]\ttraining's multi_logloss: 0.411654\tvalid_1's multi_logloss: 0.45099\n",
            "[34]\ttraining's multi_logloss: 0.409639\tvalid_1's multi_logloss: 0.45009\n",
            "[35]\ttraining's multi_logloss: 0.407828\tvalid_1's multi_logloss: 0.449145\n",
            "[36]\ttraining's multi_logloss: 0.406106\tvalid_1's multi_logloss: 0.4483\n",
            "[37]\ttraining's multi_logloss: 0.404499\tvalid_1's multi_logloss: 0.447486\n",
            "[38]\ttraining's multi_logloss: 0.402708\tvalid_1's multi_logloss: 0.446736\n",
            "[39]\ttraining's multi_logloss: 0.401076\tvalid_1's multi_logloss: 0.446067\n",
            "[40]\ttraining's multi_logloss: 0.39945\tvalid_1's multi_logloss: 0.445365\n",
            "[41]\ttraining's multi_logloss: 0.397879\tvalid_1's multi_logloss: 0.444718\n",
            "[42]\ttraining's multi_logloss: 0.396404\tvalid_1's multi_logloss: 0.44419\n",
            "[43]\ttraining's multi_logloss: 0.394974\tvalid_1's multi_logloss: 0.443711\n",
            "[44]\ttraining's multi_logloss: 0.39343\tvalid_1's multi_logloss: 0.443194\n",
            "[45]\ttraining's multi_logloss: 0.392031\tvalid_1's multi_logloss: 0.442754\n",
            "[46]\ttraining's multi_logloss: 0.390676\tvalid_1's multi_logloss: 0.442318\n",
            "[47]\ttraining's multi_logloss: 0.389306\tvalid_1's multi_logloss: 0.441923\n",
            "[48]\ttraining's multi_logloss: 0.387986\tvalid_1's multi_logloss: 0.441543\n",
            "[49]\ttraining's multi_logloss: 0.386759\tvalid_1's multi_logloss: 0.441172\n",
            "[50]\ttraining's multi_logloss: 0.385443\tvalid_1's multi_logloss: 0.440726\n",
            "[51]\ttraining's multi_logloss: 0.384106\tvalid_1's multi_logloss: 0.44042\n",
            "[52]\ttraining's multi_logloss: 0.382889\tvalid_1's multi_logloss: 0.440042\n",
            "[53]\ttraining's multi_logloss: 0.38172\tvalid_1's multi_logloss: 0.439757\n",
            "[54]\ttraining's multi_logloss: 0.380575\tvalid_1's multi_logloss: 0.439508\n",
            "[55]\ttraining's multi_logloss: 0.379376\tvalid_1's multi_logloss: 0.439247\n",
            "[56]\ttraining's multi_logloss: 0.378308\tvalid_1's multi_logloss: 0.439032\n",
            "[57]\ttraining's multi_logloss: 0.377262\tvalid_1's multi_logloss: 0.438854\n",
            "[58]\ttraining's multi_logloss: 0.376121\tvalid_1's multi_logloss: 0.438631\n",
            "[59]\ttraining's multi_logloss: 0.374954\tvalid_1's multi_logloss: 0.438414\n",
            "[60]\ttraining's multi_logloss: 0.373867\tvalid_1's multi_logloss: 0.438269\n",
            "[61]\ttraining's multi_logloss: 0.372805\tvalid_1's multi_logloss: 0.438161\n",
            "[62]\ttraining's multi_logloss: 0.371708\tvalid_1's multi_logloss: 0.438036\n",
            "[63]\ttraining's multi_logloss: 0.370701\tvalid_1's multi_logloss: 0.437862\n",
            "[64]\ttraining's multi_logloss: 0.369721\tvalid_1's multi_logloss: 0.437658\n",
            "[65]\ttraining's multi_logloss: 0.36873\tvalid_1's multi_logloss: 0.43755\n",
            "[66]\ttraining's multi_logloss: 0.367709\tvalid_1's multi_logloss: 0.437408\n",
            "[67]\ttraining's multi_logloss: 0.366738\tvalid_1's multi_logloss: 0.437327\n",
            "[68]\ttraining's multi_logloss: 0.365854\tvalid_1's multi_logloss: 0.437207\n",
            "[69]\ttraining's multi_logloss: 0.364863\tvalid_1's multi_logloss: 0.437045\n",
            "[70]\ttraining's multi_logloss: 0.363959\tvalid_1's multi_logloss: 0.436884\n",
            "[71]\ttraining's multi_logloss: 0.363064\tvalid_1's multi_logloss: 0.436779\n",
            "[72]\ttraining's multi_logloss: 0.362198\tvalid_1's multi_logloss: 0.436648\n",
            "[73]\ttraining's multi_logloss: 0.361337\tvalid_1's multi_logloss: 0.436553\n",
            "[74]\ttraining's multi_logloss: 0.360444\tvalid_1's multi_logloss: 0.436516\n",
            "[75]\ttraining's multi_logloss: 0.359536\tvalid_1's multi_logloss: 0.436354\n",
            "[76]\ttraining's multi_logloss: 0.358719\tvalid_1's multi_logloss: 0.436315\n",
            "[77]\ttraining's multi_logloss: 0.357887\tvalid_1's multi_logloss: 0.43616\n",
            "[78]\ttraining's multi_logloss: 0.357103\tvalid_1's multi_logloss: 0.436089\n",
            "[79]\ttraining's multi_logloss: 0.356274\tvalid_1's multi_logloss: 0.436072\n",
            "[80]\ttraining's multi_logloss: 0.355458\tvalid_1's multi_logloss: 0.435956\n",
            "[81]\ttraining's multi_logloss: 0.354635\tvalid_1's multi_logloss: 0.435884\n",
            "[82]\ttraining's multi_logloss: 0.353829\tvalid_1's multi_logloss: 0.435849\n",
            "[83]\ttraining's multi_logloss: 0.353047\tvalid_1's multi_logloss: 0.4358\n",
            "[84]\ttraining's multi_logloss: 0.352277\tvalid_1's multi_logloss: 0.435695\n",
            "[85]\ttraining's multi_logloss: 0.351483\tvalid_1's multi_logloss: 0.43562\n",
            "[86]\ttraining's multi_logloss: 0.350698\tvalid_1's multi_logloss: 0.435519\n",
            "[87]\ttraining's multi_logloss: 0.349967\tvalid_1's multi_logloss: 0.435434\n",
            "[88]\ttraining's multi_logloss: 0.349203\tvalid_1's multi_logloss: 0.435369\n",
            "[89]\ttraining's multi_logloss: 0.348497\tvalid_1's multi_logloss: 0.435366\n",
            "[90]\ttraining's multi_logloss: 0.347794\tvalid_1's multi_logloss: 0.435313\n",
            "[91]\ttraining's multi_logloss: 0.347082\tvalid_1's multi_logloss: 0.435357\n",
            "[92]\ttraining's multi_logloss: 0.346365\tvalid_1's multi_logloss: 0.435252\n",
            "[93]\ttraining's multi_logloss: 0.34568\tvalid_1's multi_logloss: 0.435208\n",
            "[94]\ttraining's multi_logloss: 0.344973\tvalid_1's multi_logloss: 0.435183\n",
            "[95]\ttraining's multi_logloss: 0.344348\tvalid_1's multi_logloss: 0.435159\n",
            "[96]\ttraining's multi_logloss: 0.343682\tvalid_1's multi_logloss: 0.435125\n",
            "[97]\ttraining's multi_logloss: 0.342986\tvalid_1's multi_logloss: 0.43508\n",
            "[98]\ttraining's multi_logloss: 0.342296\tvalid_1's multi_logloss: 0.43506\n",
            "[99]\ttraining's multi_logloss: 0.341601\tvalid_1's multi_logloss: 0.435053\n",
            "[100]\ttraining's multi_logloss: 0.340958\tvalid_1's multi_logloss: 0.435051\n",
            "[101]\ttraining's multi_logloss: 0.340266\tvalid_1's multi_logloss: 0.435025\n",
            "[102]\ttraining's multi_logloss: 0.339645\tvalid_1's multi_logloss: 0.435019\n",
            "[103]\ttraining's multi_logloss: 0.338984\tvalid_1's multi_logloss: 0.434989\n",
            "[104]\ttraining's multi_logloss: 0.338289\tvalid_1's multi_logloss: 0.434956\n",
            "[105]\ttraining's multi_logloss: 0.337645\tvalid_1's multi_logloss: 0.434944\n",
            "[106]\ttraining's multi_logloss: 0.337022\tvalid_1's multi_logloss: 0.434914\n",
            "[107]\ttraining's multi_logloss: 0.336265\tvalid_1's multi_logloss: 0.434919\n",
            "[108]\ttraining's multi_logloss: 0.33559\tvalid_1's multi_logloss: 0.434878\n",
            "[109]\ttraining's multi_logloss: 0.335013\tvalid_1's multi_logloss: 0.434839\n",
            "[110]\ttraining's multi_logloss: 0.334413\tvalid_1's multi_logloss: 0.434851\n",
            "[111]\ttraining's multi_logloss: 0.333738\tvalid_1's multi_logloss: 0.434821\n",
            "[112]\ttraining's multi_logloss: 0.333075\tvalid_1's multi_logloss: 0.434753\n",
            "[113]\ttraining's multi_logloss: 0.332344\tvalid_1's multi_logloss: 0.43475\n",
            "[114]\ttraining's multi_logloss: 0.331793\tvalid_1's multi_logloss: 0.434761\n",
            "[115]\ttraining's multi_logloss: 0.33115\tvalid_1's multi_logloss: 0.434778\n",
            "[116]\ttraining's multi_logloss: 0.330491\tvalid_1's multi_logloss: 0.434753\n",
            "[117]\ttraining's multi_logloss: 0.329873\tvalid_1's multi_logloss: 0.434771\n",
            "[118]\ttraining's multi_logloss: 0.329258\tvalid_1's multi_logloss: 0.434877\n",
            "[119]\ttraining's multi_logloss: 0.328641\tvalid_1's multi_logloss: 0.434877\n",
            "[120]\ttraining's multi_logloss: 0.327894\tvalid_1's multi_logloss: 0.434763\n",
            "[121]\ttraining's multi_logloss: 0.327336\tvalid_1's multi_logloss: 0.434798\n",
            "[122]\ttraining's multi_logloss: 0.326745\tvalid_1's multi_logloss: 0.434807\n",
            "[123]\ttraining's multi_logloss: 0.326124\tvalid_1's multi_logloss: 0.434854\n",
            "Early stopping, best iteration is:\n",
            "[113]\ttraining's multi_logloss: 0.332344\tvalid_1's multi_logloss: 0.43475\n",
            "0.4460025287614247\n"
          ],
          "name": "stdout"
        }
      ]
    },
    {
      "cell_type": "code",
      "metadata": {
        "colab": {
          "base_uri": "https://localhost:8080/"
        },
        "id": "-8sGiqJqCz7z",
        "outputId": "a752c832-3cd8-4951-9b2f-b0ab47239a67"
      },
      "source": [
        "print(f1_score(train_y1,\r\n",
        "               model1.predict(train_x1).argmax(axis=1),\r\n",
        "               average='macro'))"
      ],
      "execution_count": null,
      "outputs": [
        {
          "output_type": "stream",
          "text": [
            "0.5612257261455059\n"
          ],
          "name": "stdout"
        }
      ]
    },
    {
      "cell_type": "code",
      "metadata": {
        "colab": {
          "base_uri": "https://localhost:8080/"
        },
        "id": "NXcYq-mBfOj4",
        "outputId": "240d4015-49a4-4fbc-e097-d373ce6773df"
      },
      "source": [
        "print(confusion_matrix(test_y1,\r\n",
        "               model1.predict(test_x1).argmax(axis=1),\r\n",
        "               ))"
      ],
      "execution_count": null,
      "outputs": [
        {
          "output_type": "stream",
          "text": [
            "[[20841    21    37    64    49    41   282]\n",
            " [  144    40     7     3     2     1    10]\n",
            " [  288     3   138    23     3     1    18]\n",
            " [  451     0    11   197    21     5    13]\n",
            " [  374     0     1    20   179    18    21]\n",
            " [  536     0     0     1    21   103    70]\n",
            " [ 1027     0     0     0     1    10   635]]\n"
          ],
          "name": "stdout"
        }
      ]
    },
    {
      "cell_type": "code",
      "metadata": {
        "colab": {
          "base_uri": "https://localhost:8080/"
        },
        "id": "d-lbTJ9-tTPQ",
        "outputId": "949cb5cc-ac50-414b-bdf2-e842729a96f9"
      },
      "source": [
        "pd.Series(preds1).value_counts()"
      ],
      "execution_count": null,
      "outputs": [
        {
          "output_type": "execute_result",
          "data": {
            "text/plain": [
              "0    14201\n",
              "6      423\n",
              "3       41\n",
              "4       28\n",
              "5       23\n",
              "2       22\n",
              "1        7\n",
              "dtype: int64"
            ]
          },
          "metadata": {
            "tags": []
          },
          "execution_count": 208
        }
      ]
    },
    {
      "cell_type": "code",
      "metadata": {
        "colab": {
          "base_uri": "https://localhost:8080/"
        },
        "id": "IiMO47XsdjFm",
        "outputId": "bbb352cc-68d7-4108-8597-a9b0eab36161"
      },
      "source": [
        "pd.Series(y1).value_counts()"
      ],
      "execution_count": null,
      "outputs": [
        {
          "output_type": "execute_result",
          "data": {
            "text/plain": [
              "0    106677\n",
              "6      8366\n",
              "5      3656\n",
              "3      3492\n",
              "4      3062\n",
              "2      2368\n",
              "1      1034\n",
              "Name: Top-up Month, dtype: int64"
            ]
          },
          "metadata": {
            "tags": []
          },
          "execution_count": 145
        }
      ]
    },
    {
      "cell_type": "markdown",
      "metadata": {
        "id": "qH5bXqCrvPTZ"
      },
      "source": [
        "# model 2"
      ]
    },
    {
      "cell_type": "code",
      "metadata": {
        "colab": {
          "base_uri": "https://localhost:8080/"
        },
        "id": "MfYHyyGHUqaY",
        "outputId": "04d67670-a02f-495d-a4d6-14a424b06b66"
      },
      "source": [
        "X2, y2 = X.drop(columns=[\r\n",
        "       '3.0','4.0', '5.0', '6.0', '7.0', '8.0', '9.0', '10.0', '11.0', '12.0']),train['Top-up Month']\r\n",
        "train_x2, test_x2, train_y2, test_y2 = train_test_split(X2, y2,stratify = y2,test_size=0.2,random_state=42)\r\n",
        "\r\n",
        "lgb_train = lightgbm.Dataset(train_x2, train_y2)\r\n",
        "lgb_test = lightgbm.Dataset(test_x2, test_y2)\r\n",
        "\r\n",
        "params = {'boosting_type': 'gbdt',\r\n",
        "'objective': 'multiclass',\r\n",
        "'num_class':7,\r\n",
        "'eval_meric':'mlogerror',\r\n",
        "\r\n",
        "}\r\n",
        "\r\n",
        "model2 = lightgbm.train(\r\n",
        "params,\r\n",
        "lgb_train,\r\n",
        "num_boost_round=500,\r\n",
        "valid_sets=[lgb_train, lgb_test],\r\n",
        "early_stopping_rounds=10\r\n",
        ")\r\n",
        "\r\n",
        "print(f1_score(test_y2,\r\n",
        "               model2.predict(test_x2).argmax(axis=1),\r\n",
        "               average='macro'))\r\n",
        "# predss1 = model1.predict(test_x1)\r\n",
        "# # f1 = f1_score(test_y1,predss1,average='macro')\r\n",
        "# print(f1)\r\n",
        "preds2 = model2.predict(test.drop(columns=['ID',\r\n",
        "       '3.0','4.0', '5.0', '6.0', '7.0', '8.0', '9.0', '10.0', '11.0', '12.0'])).argmax(axis=1)\r\n",
        "\r\n",
        "X[['p02','p12','p22','p32','p42','p52','p62']] = model1.predict(X1)\r\n",
        "test[['p02','p12','p22','p32','p42','p52','p62']]= model1.predict(test.drop(columns=['ID',\r\n",
        "       '3.0','4.0', '5.0', '6.0', '7.0', '8.0', '9.0', '10.0', '11.0', '12.0']))\r\n",
        "\r\n",
        "\r\n",
        "# X['p2'] = model2.predict(X2)[:,2]\r\n",
        "# test['p2'] = model2.predict(test.drop(columns=['ID',\r\n",
        "#        '3.0','4.0', '5.0', '6.0', '7.0', '8.0', '9.0', '10.0', '11.0', '12.0']))[:,2]"
      ],
      "execution_count": null,
      "outputs": [
        {
          "output_type": "stream",
          "text": [
            "[1]\ttraining's multi_logloss: 0.554451\tvalid_1's multi_logloss: 0.64058\n",
            "Training until validation scores don't improve for 10 rounds.\n",
            "[2]\ttraining's multi_logloss: 0.504892\tvalid_1's multi_logloss: 0.607967\n",
            "[3]\ttraining's multi_logloss: 0.468599\tvalid_1's multi_logloss: 0.584172\n",
            "[4]\ttraining's multi_logloss: 0.439849\tvalid_1's multi_logloss: 0.565694\n",
            "[5]\ttraining's multi_logloss: 0.416188\tvalid_1's multi_logloss: 0.550972\n",
            "[6]\ttraining's multi_logloss: 0.396143\tvalid_1's multi_logloss: 0.539005\n",
            "[7]\ttraining's multi_logloss: 0.379042\tvalid_1's multi_logloss: 0.529168\n",
            "[8]\ttraining's multi_logloss: 0.364193\tvalid_1's multi_logloss: 0.520952\n",
            "[9]\ttraining's multi_logloss: 0.351084\tvalid_1's multi_logloss: 0.514042\n",
            "[10]\ttraining's multi_logloss: 0.33961\tvalid_1's multi_logloss: 0.508169\n",
            "[11]\ttraining's multi_logloss: 0.329399\tvalid_1's multi_logloss: 0.503405\n",
            "[12]\ttraining's multi_logloss: 0.320267\tvalid_1's multi_logloss: 0.499349\n",
            "[13]\ttraining's multi_logloss: 0.312037\tvalid_1's multi_logloss: 0.496105\n",
            "[14]\ttraining's multi_logloss: 0.304677\tvalid_1's multi_logloss: 0.493437\n",
            "[15]\ttraining's multi_logloss: 0.298034\tvalid_1's multi_logloss: 0.491299\n",
            "[16]\ttraining's multi_logloss: 0.292052\tvalid_1's multi_logloss: 0.489465\n",
            "[17]\ttraining's multi_logloss: 0.286457\tvalid_1's multi_logloss: 0.488128\n",
            "[18]\ttraining's multi_logloss: 0.281381\tvalid_1's multi_logloss: 0.486991\n",
            "[19]\ttraining's multi_logloss: 0.276782\tvalid_1's multi_logloss: 0.486067\n",
            "[20]\ttraining's multi_logloss: 0.272516\tvalid_1's multi_logloss: 0.485313\n",
            "[21]\ttraining's multi_logloss: 0.26855\tvalid_1's multi_logloss: 0.484776\n",
            "[22]\ttraining's multi_logloss: 0.264922\tvalid_1's multi_logloss: 0.484424\n",
            "[23]\ttraining's multi_logloss: 0.261524\tvalid_1's multi_logloss: 0.484238\n",
            "[24]\ttraining's multi_logloss: 0.258277\tvalid_1's multi_logloss: 0.484221\n",
            "[25]\ttraining's multi_logloss: 0.255373\tvalid_1's multi_logloss: 0.48423\n",
            "[26]\ttraining's multi_logloss: 0.25263\tvalid_1's multi_logloss: 0.484294\n",
            "[27]\ttraining's multi_logloss: 0.250011\tvalid_1's multi_logloss: 0.484557\n",
            "[28]\ttraining's multi_logloss: 0.247577\tvalid_1's multi_logloss: 0.48496\n",
            "[29]\ttraining's multi_logloss: 0.245241\tvalid_1's multi_logloss: 0.485156\n",
            "[30]\ttraining's multi_logloss: 0.243069\tvalid_1's multi_logloss: 0.4856\n",
            "[31]\ttraining's multi_logloss: 0.240939\tvalid_1's multi_logloss: 0.485981\n",
            "[32]\ttraining's multi_logloss: 0.238934\tvalid_1's multi_logloss: 0.486526\n",
            "[33]\ttraining's multi_logloss: 0.236973\tvalid_1's multi_logloss: 0.486947\n",
            "[34]\ttraining's multi_logloss: 0.235145\tvalid_1's multi_logloss: 0.487526\n",
            "Early stopping, best iteration is:\n",
            "[24]\ttraining's multi_logloss: 0.258277\tvalid_1's multi_logloss: 0.484221\n",
            "0.44261557858159567\n"
          ],
          "name": "stdout"
        }
      ]
    },
    {
      "cell_type": "code",
      "metadata": {
        "id": "pZGv7Mohehmy"
      },
      "source": [
        "from sklearn.metrics import confusion_matrix,classification_report"
      ],
      "execution_count": null,
      "outputs": []
    },
    {
      "cell_type": "code",
      "metadata": {
        "colab": {
          "base_uri": "https://localhost:8080/"
        },
        "id": "6xEQ56JUeoAK",
        "outputId": "9acd9e7e-f2ad-400c-cd68-9331bfbb8242"
      },
      "source": [
        "confusion_matrix(test_y2,\r\n",
        "               model2.predict(test_x2).argmax(axis=1),\r\n",
        "               )"
      ],
      "execution_count": null,
      "outputs": [
        {
          "output_type": "execute_result",
          "data": {
            "text/plain": [
              "array([[20545,    46,    94,   122,    86,   103,   339],\n",
              "       [  130,    43,     9,     7,     4,     2,    12],\n",
              "       [  259,     5,   150,    37,     4,     2,    17],\n",
              "       [  407,     2,    23,   218,    27,     7,    14],\n",
              "       [  329,     3,     3,    38,   196,    24,    20],\n",
              "       [  485,     2,     5,     5,    43,   127,    64],\n",
              "       [  951,     1,     4,    10,     7,    39,   661]])"
            ]
          },
          "metadata": {
            "tags": []
          },
          "execution_count": 211
        }
      ]
    },
    {
      "cell_type": "code",
      "metadata": {
        "colab": {
          "base_uri": "https://localhost:8080/"
        },
        "id": "im9iT6-xe2JE",
        "outputId": "3286665d-03d4-4488-de94-7e11ecc71056"
      },
      "source": [
        "confusion_matrix(train_y2,\r\n",
        "               model2.predict(train_x2).argmax(axis=1),\r\n",
        "               )"
      ],
      "execution_count": null,
      "outputs": [
        {
          "output_type": "execute_result",
          "data": {
            "text/plain": [
              "array([[83732,    40,   138,   218,   135,   186,   893],\n",
              "       [   47,   771,     5,     1,     2,     1,     0],\n",
              "       [  518,     7,  1311,    37,    12,     5,     4],\n",
              "       [  929,     4,    29,  1784,    35,     6,     7],\n",
              "       [  846,     0,     5,    60,  1466,    58,    14],\n",
              "       [ 1279,     1,     1,    14,    48,  1492,    90],\n",
              "       [ 3132,     0,     5,     4,     7,    53,  3492]])"
            ]
          },
          "metadata": {
            "tags": []
          },
          "execution_count": 212
        }
      ]
    },
    {
      "cell_type": "code",
      "metadata": {
        "colab": {
          "base_uri": "https://localhost:8080/"
        },
        "id": "1vzAsST0UFCt",
        "outputId": "de5d5456-5284-482e-b5e8-96e9a40fb6c4"
      },
      "source": [
        "print(f1_score(train_y2,\r\n",
        "               model2.predict(train_x2).argmax(axis=1),\r\n",
        "               average='macro'))"
      ],
      "execution_count": null,
      "outputs": [
        {
          "output_type": "stream",
          "text": [
            "0.764067520199144\n"
          ],
          "name": "stdout"
        }
      ]
    },
    {
      "cell_type": "code",
      "metadata": {
        "colab": {
          "base_uri": "https://localhost:8080/"
        },
        "id": "vwLXfFkmeK5u",
        "outputId": "8497380a-142c-42df-dbd2-7271e490a96d"
      },
      "source": [
        "pd.Series(y2).value_counts(),126287/1268"
      ],
      "execution_count": null,
      "outputs": [
        {
          "output_type": "execute_result",
          "data": {
            "text/plain": [
              "(0    106677\n",
              " 6      8366\n",
              " 5      3656\n",
              " 3      3492\n",
              " 4      3062\n",
              " 2      2368\n",
              " 1      1034\n",
              " Name: Top-up Month, dtype: int64, 99.59542586750788)"
            ]
          },
          "metadata": {
            "tags": []
          },
          "execution_count": 214
        }
      ]
    },
    {
      "cell_type": "code",
      "metadata": {
        "colab": {
          "base_uri": "https://localhost:8080/"
        },
        "id": "Ka89_DIctqf1",
        "outputId": "88e2644b-7213-4628-e5bf-3bd77fcc5c65"
      },
      "source": [
        "pd.Series(preds2).value_counts()"
      ],
      "execution_count": null,
      "outputs": [
        {
          "output_type": "execute_result",
          "data": {
            "text/plain": [
              "0    13868\n",
              "6      460\n",
              "5      126\n",
              "3       98\n",
              "2       82\n",
              "4       79\n",
              "1       32\n",
              "dtype: int64"
            ]
          },
          "metadata": {
            "tags": []
          },
          "execution_count": 215
        }
      ]
    },
    {
      "cell_type": "markdown",
      "metadata": {
        "id": "YOAfnWT5vpDe"
      },
      "source": [
        "# model3"
      ]
    },
    {
      "cell_type": "code",
      "metadata": {
        "colab": {
          "base_uri": "https://localhost:8080/"
        },
        "id": "xMJvWwa6VzU_",
        "outputId": "96d55313-529b-44a2-a5cc-52e1ab3ae5ad"
      },
      "source": [
        "X3, y3 = X.drop(columns=[\r\n",
        "       '4.0', '5.0', '6.0', '7.0', '8.0', '9.0', '10.0', '11.0', '12.0']),train['Top-up Month']\r\n",
        "train_x3, test_x3, train_y3, test_y3 = train_test_split(X3, y3,stratify = y3,test_size=0.2,random_state=42)\r\n",
        "\r\n",
        "lgb_train = lightgbm.Dataset(train_x3, train_y3)\r\n",
        "lgb_test = lightgbm.Dataset(test_x3, test_y3)\r\n",
        "\r\n",
        "params = {'boosting_type': 'gbdt',\r\n",
        "'objective': 'multiclass',\r\n",
        "'num_class':7,\r\n",
        "'eval_meric':'mlogerror',\r\n",
        "'min_child_weight':50}\r\n",
        "\r\n",
        "model3 = lightgbm.train(\r\n",
        "params,\r\n",
        "lgb_train,\r\n",
        "num_boost_round=500,\r\n",
        "valid_sets=[lgb_train, lgb_test],\r\n",
        "early_stopping_rounds=10\r\n",
        ")\r\n",
        "\r\n",
        "# model3 = lightgbm.LGBMClassifier(n_estimators=250)\r\n",
        "# model3.fit(train_x3, train_y3)\r\n",
        "\r\n",
        "print(f1_score(test_y3,\r\n",
        "               model3.predict(test_x3).argmax(axis=1),\r\n",
        "               average='macro'))\r\n",
        "# predss1 = model1.predict(test_x1)\r\n",
        "# # f1 = f1_score(test_y1,predss1,average='macro')\r\n",
        "# print(f1)\r\n",
        "preds3 = model3.predict(test.drop(columns=['ID',\r\n",
        "       '4.0', '5.0', '6.0', '7.0', '8.0', '9.0', '10.0', '11.0', '12.0'])).argmax(axis=1)\r\n",
        "\r\n",
        "X[['p03','p13','p23','p33','p43','p53','p63']] = model1.predict(X1)\r\n",
        "test[['p03','p13','p23','p33','p43','p53','p63']]= model1.predict(test.drop(columns=['ID',\r\n",
        "       '4.0', '5.0', '6.0', '7.0', '8.0', '9.0', '10.0', '11.0', '12.0']))\r\n",
        "\r\n",
        "\r\n",
        "# X['p3'] = model3.predict(X3)[:,3]\r\n",
        "# test['p3'] = model3.predict(test.drop(columns=['ID',\r\n",
        "#       '4.0', '5.0', '6.0', '7.0', '8.0', '9.0', '10.0', '11.0', '12.0']))[:,3]"
      ],
      "execution_count": null,
      "outputs": [
        {
          "output_type": "stream",
          "text": [
            "[1]\ttraining's multi_logloss: 0.596025\tvalid_1's multi_logloss: 0.63997\n",
            "Training until validation scores don't improve for 10 rounds.\n",
            "[2]\ttraining's multi_logloss: 0.536436\tvalid_1's multi_logloss: 0.603429\n",
            "[3]\ttraining's multi_logloss: 0.49554\tvalid_1's multi_logloss: 0.578483\n",
            "[4]\ttraining's multi_logloss: 0.463836\tvalid_1's multi_logloss: 0.559519\n",
            "[5]\ttraining's multi_logloss: 0.438297\tvalid_1's multi_logloss: 0.544471\n",
            "[6]\ttraining's multi_logloss: 0.417112\tvalid_1's multi_logloss: 0.532252\n",
            "[7]\ttraining's multi_logloss: 0.399105\tvalid_1's multi_logloss: 0.522206\n",
            "[8]\ttraining's multi_logloss: 0.383506\tvalid_1's multi_logloss: 0.513837\n",
            "[9]\ttraining's multi_logloss: 0.369922\tvalid_1's multi_logloss: 0.506719\n",
            "[10]\ttraining's multi_logloss: 0.357955\tvalid_1's multi_logloss: 0.500885\n",
            "[11]\ttraining's multi_logloss: 0.347331\tvalid_1's multi_logloss: 0.496019\n",
            "[12]\ttraining's multi_logloss: 0.337825\tvalid_1's multi_logloss: 0.491909\n",
            "[13]\ttraining's multi_logloss: 0.329442\tvalid_1's multi_logloss: 0.488496\n",
            "[14]\ttraining's multi_logloss: 0.321859\tvalid_1's multi_logloss: 0.485759\n",
            "[15]\ttraining's multi_logloss: 0.315087\tvalid_1's multi_logloss: 0.483487\n",
            "[16]\ttraining's multi_logloss: 0.308917\tvalid_1's multi_logloss: 0.481686\n",
            "[17]\ttraining's multi_logloss: 0.303304\tvalid_1's multi_logloss: 0.480161\n",
            "[18]\ttraining's multi_logloss: 0.298194\tvalid_1's multi_logloss: 0.478944\n",
            "[19]\ttraining's multi_logloss: 0.293464\tvalid_1's multi_logloss: 0.478063\n",
            "[20]\ttraining's multi_logloss: 0.289179\tvalid_1's multi_logloss: 0.477445\n",
            "[21]\ttraining's multi_logloss: 0.285228\tvalid_1's multi_logloss: 0.476937\n",
            "[22]\ttraining's multi_logloss: 0.281557\tvalid_1's multi_logloss: 0.476534\n",
            "[23]\ttraining's multi_logloss: 0.278193\tvalid_1's multi_logloss: 0.476362\n",
            "[24]\ttraining's multi_logloss: 0.275088\tvalid_1's multi_logloss: 0.476335\n",
            "[25]\ttraining's multi_logloss: 0.272193\tvalid_1's multi_logloss: 0.476332\n",
            "[26]\ttraining's multi_logloss: 0.269516\tvalid_1's multi_logloss: 0.476459\n",
            "[27]\ttraining's multi_logloss: 0.26698\tvalid_1's multi_logloss: 0.476626\n",
            "[28]\ttraining's multi_logloss: 0.264641\tvalid_1's multi_logloss: 0.476963\n",
            "[29]\ttraining's multi_logloss: 0.262386\tvalid_1's multi_logloss: 0.477373\n",
            "[30]\ttraining's multi_logloss: 0.260329\tvalid_1's multi_logloss: 0.477856\n",
            "[31]\ttraining's multi_logloss: 0.258377\tvalid_1's multi_logloss: 0.478157\n",
            "[32]\ttraining's multi_logloss: 0.256569\tvalid_1's multi_logloss: 0.478618\n",
            "[33]\ttraining's multi_logloss: 0.254838\tvalid_1's multi_logloss: 0.479052\n",
            "[34]\ttraining's multi_logloss: 0.253145\tvalid_1's multi_logloss: 0.479622\n",
            "[35]\ttraining's multi_logloss: 0.251516\tvalid_1's multi_logloss: 0.480229\n",
            "Early stopping, best iteration is:\n",
            "[25]\ttraining's multi_logloss: 0.272193\tvalid_1's multi_logloss: 0.476332\n",
            "0.44487727899660184\n"
          ],
          "name": "stdout"
        }
      ]
    },
    {
      "cell_type": "code",
      "metadata": {
        "colab": {
          "base_uri": "https://localhost:8080/"
        },
        "id": "i9C3wufnfnIb",
        "outputId": "48f70514-1803-4115-840f-e8b7b2a215f2"
      },
      "source": [
        "confusion_matrix(test_y3,\r\n",
        "               model3.predict(test_x3).argmax(axis=1),\r\n",
        "               )"
      ],
      "execution_count": null,
      "outputs": [
        {
          "output_type": "execute_result",
          "data": {
            "text/plain": [
              "array([[20555,    46,    94,   116,    85,    96,   343],\n",
              "       [  132,    41,    10,     6,     4,     4,    10],\n",
              "       [  259,     7,   153,    28,     5,     4,    18],\n",
              "       [  402,     4,    26,   220,    26,     9,    11],\n",
              "       [  318,     4,     2,    38,   201,    31,    19],\n",
              "       [  482,     2,     1,     5,    40,   132,    69],\n",
              "       [  961,     1,     1,     7,     7,    40,   656]])"
            ]
          },
          "metadata": {
            "tags": []
          },
          "execution_count": 217
        }
      ]
    },
    {
      "cell_type": "code",
      "metadata": {
        "colab": {
          "base_uri": "https://localhost:8080/"
        },
        "id": "c87OP5rGULw1",
        "outputId": "aea96004-a6e0-4866-dbcc-c47ff779b7c6"
      },
      "source": [
        "print(f1_score(train_y3,\r\n",
        "               model3.predict(train_x3).argmax(axis=1),\r\n",
        "               average='macro'))"
      ],
      "execution_count": null,
      "outputs": [
        {
          "output_type": "stream",
          "text": [
            "0.7459621873034074\n"
          ],
          "name": "stdout"
        }
      ]
    },
    {
      "cell_type": "code",
      "metadata": {
        "colab": {
          "base_uri": "https://localhost:8080/"
        },
        "id": "W5-ZTgjJfXf3",
        "outputId": "ced61051-499f-47f3-8b82-dcb691bdf2ea"
      },
      "source": [
        "pd.Series(y3).value_counts(),125163/3492"
      ],
      "execution_count": null,
      "outputs": [
        {
          "output_type": "execute_result",
          "data": {
            "text/plain": [
              "(0    106677\n",
              " 6      8366\n",
              " 5      3656\n",
              " 3      3492\n",
              " 4      3062\n",
              " 2      2368\n",
              " 1      1034\n",
              " Name: Top-up Month, dtype: int64, 35.84278350515464)"
            ]
          },
          "metadata": {
            "tags": []
          },
          "execution_count": 219
        }
      ]
    },
    {
      "cell_type": "code",
      "metadata": {
        "colab": {
          "base_uri": "https://localhost:8080/"
        },
        "id": "LeZL5_9mt0ca",
        "outputId": "6a016e8c-2a68-4c89-8dfd-493228388349"
      },
      "source": [
        "pd.Series(preds3).value_counts()"
      ],
      "execution_count": null,
      "outputs": [
        {
          "output_type": "execute_result",
          "data": {
            "text/plain": [
              "0    13868\n",
              "6      469\n",
              "5      136\n",
              "3      101\n",
              "4       74\n",
              "2       69\n",
              "1       28\n",
              "dtype: int64"
            ]
          },
          "metadata": {
            "tags": []
          },
          "execution_count": 220
        }
      ]
    },
    {
      "cell_type": "markdown",
      "metadata": {
        "id": "HX7YzNpUwV-J"
      },
      "source": [
        "# model4"
      ]
    },
    {
      "cell_type": "code",
      "metadata": {
        "colab": {
          "base_uri": "https://localhost:8080/"
        },
        "id": "cGJd60pzWTRd",
        "outputId": "6ca79138-eb7c-49d0-bba7-1c1ce8ce92e3"
      },
      "source": [
        "X4, y4 = X.drop(columns=[\r\n",
        "       '5.0', '6.0', '7.0', '8.0', '9.0', '10.0', '11.0', '12.0']),train['Top-up Month']\r\n",
        "train_x4, test_x4, train_y4, test_y4 = train_test_split(X4, y4,stratify = y4,test_size=0.2,random_state=42)\r\n",
        "\r\n",
        "lgb_train = lightgbm.Dataset(train_x4, train_y4)\r\n",
        "lgb_test = lightgbm.Dataset(test_x4, test_y4)\r\n",
        "\r\n",
        "params = {'boosting_type': 'gbdt',\r\n",
        "'objective': 'multiclass',\r\n",
        "'num_class':7,\r\n",
        "'eval_meric':'mlogerror',\r\n",
        "'min_child_weight':50}\r\n",
        "\r\n",
        "model4 = lightgbm.train(\r\n",
        "params,\r\n",
        "lgb_train,\r\n",
        "num_boost_round=500,\r\n",
        "valid_sets=[lgb_train, lgb_test],\r\n",
        "early_stopping_rounds=10\r\n",
        ")\r\n",
        "\r\n",
        "# model4 = lightgbm.LGBMClassifier(n_estimators=250)\r\n",
        "# model4.fit(train_x4, train_y4)\r\n",
        "\r\n",
        "print(f1_score(test_y4,\r\n",
        "               model4.predict(test_x4).argmax(axis=1),\r\n",
        "               average='macro'))\r\n",
        "# predss1 = model1.predict(test_x1)\r\n",
        "# # f1 = f1_score(test_y1,predss1,average='macro')\r\n",
        "# print(f1)\r\n",
        "preds4 = model4.predict(test.drop(columns=['ID',\r\n",
        "       '5.0', '6.0', '7.0', '8.0', '9.0', '10.0', '11.0', '12.0'])).argmax(axis=1)\r\n",
        "\r\n",
        "X[['p04','p14','p24','p34','p44','p54','p64']] = model1.predict(X1)\r\n",
        "test[['p04','p14','p24','p34','p44','p54','p64']]= model1.predict(test.drop(columns=['ID',\r\n",
        "        '5.0', '6.0', '7.0', '8.0', '9.0', '10.0', '11.0', '12.0']))\r\n",
        "\r\n",
        "\r\n",
        "# X['p4'] = model4.predict(X4)[:,4]\r\n",
        "# test['p4'] = model4.predict(test.drop(columns=['ID',\r\n",
        "#        '5.0', '6.0', '7.0', '8.0', '9.0', '10.0', '11.0', '12.0']))[:,4]"
      ],
      "execution_count": null,
      "outputs": [
        {
          "output_type": "stream",
          "text": [
            "[1]\ttraining's multi_logloss: 0.596021\tvalid_1's multi_logloss: 0.639928\n",
            "Training until validation scores don't improve for 10 rounds.\n",
            "[2]\ttraining's multi_logloss: 0.536424\tvalid_1's multi_logloss: 0.603393\n",
            "[3]\ttraining's multi_logloss: 0.495514\tvalid_1's multi_logloss: 0.578474\n",
            "[4]\ttraining's multi_logloss: 0.46379\tvalid_1's multi_logloss: 0.55945\n",
            "[5]\ttraining's multi_logloss: 0.438233\tvalid_1's multi_logloss: 0.544314\n",
            "[6]\ttraining's multi_logloss: 0.416912\tvalid_1's multi_logloss: 0.532068\n",
            "[7]\ttraining's multi_logloss: 0.398945\tvalid_1's multi_logloss: 0.522062\n",
            "[8]\ttraining's multi_logloss: 0.383303\tvalid_1's multi_logloss: 0.513744\n",
            "[9]\ttraining's multi_logloss: 0.369735\tvalid_1's multi_logloss: 0.506644\n",
            "[10]\ttraining's multi_logloss: 0.357788\tvalid_1's multi_logloss: 0.50088\n",
            "[11]\ttraining's multi_logloss: 0.347192\tvalid_1's multi_logloss: 0.496025\n",
            "[12]\ttraining's multi_logloss: 0.337762\tvalid_1's multi_logloss: 0.49192\n",
            "[13]\ttraining's multi_logloss: 0.329276\tvalid_1's multi_logloss: 0.48853\n",
            "[14]\ttraining's multi_logloss: 0.321706\tvalid_1's multi_logloss: 0.485804\n",
            "[15]\ttraining's multi_logloss: 0.314843\tvalid_1's multi_logloss: 0.483524\n",
            "[16]\ttraining's multi_logloss: 0.308716\tvalid_1's multi_logloss: 0.481647\n",
            "[17]\ttraining's multi_logloss: 0.303175\tvalid_1's multi_logloss: 0.480046\n",
            "[18]\ttraining's multi_logloss: 0.29796\tvalid_1's multi_logloss: 0.478931\n",
            "[19]\ttraining's multi_logloss: 0.293284\tvalid_1's multi_logloss: 0.47812\n",
            "[20]\ttraining's multi_logloss: 0.288935\tvalid_1's multi_logloss: 0.477401\n",
            "[21]\ttraining's multi_logloss: 0.284943\tvalid_1's multi_logloss: 0.476843\n",
            "[22]\ttraining's multi_logloss: 0.281321\tvalid_1's multi_logloss: 0.47664\n",
            "[23]\ttraining's multi_logloss: 0.277934\tvalid_1's multi_logloss: 0.476483\n",
            "[24]\ttraining's multi_logloss: 0.274762\tvalid_1's multi_logloss: 0.476314\n",
            "[25]\ttraining's multi_logloss: 0.271872\tvalid_1's multi_logloss: 0.476225\n",
            "[26]\ttraining's multi_logloss: 0.269188\tvalid_1's multi_logloss: 0.476235\n",
            "[27]\ttraining's multi_logloss: 0.26666\tvalid_1's multi_logloss: 0.476499\n",
            "[28]\ttraining's multi_logloss: 0.264341\tvalid_1's multi_logloss: 0.476758\n",
            "[29]\ttraining's multi_logloss: 0.26215\tvalid_1's multi_logloss: 0.477104\n",
            "[30]\ttraining's multi_logloss: 0.260004\tvalid_1's multi_logloss: 0.477558\n",
            "[31]\ttraining's multi_logloss: 0.258087\tvalid_1's multi_logloss: 0.477949\n",
            "[32]\ttraining's multi_logloss: 0.256243\tvalid_1's multi_logloss: 0.478401\n",
            "[33]\ttraining's multi_logloss: 0.254451\tvalid_1's multi_logloss: 0.478827\n",
            "[34]\ttraining's multi_logloss: 0.252728\tvalid_1's multi_logloss: 0.479408\n",
            "[35]\ttraining's multi_logloss: 0.251118\tvalid_1's multi_logloss: 0.479944\n",
            "Early stopping, best iteration is:\n",
            "[25]\ttraining's multi_logloss: 0.271872\tvalid_1's multi_logloss: 0.476225\n",
            "0.4460671261810324\n"
          ],
          "name": "stdout"
        }
      ]
    },
    {
      "cell_type": "code",
      "metadata": {
        "colab": {
          "base_uri": "https://localhost:8080/"
        },
        "id": "pW1hIrk8VK7C",
        "outputId": "acf5d00f-e3ae-42b3-9f3e-b3c8a15b26f7"
      },
      "source": [
        "print(f1_score(train_y4,\r\n",
        "               model4.predict(train_x4).argmax(axis=1),\r\n",
        "               average='macro'))"
      ],
      "execution_count": null,
      "outputs": [
        {
          "output_type": "stream",
          "text": [
            "0.747183796649273\n"
          ],
          "name": "stdout"
        }
      ]
    },
    {
      "cell_type": "code",
      "metadata": {
        "colab": {
          "base_uri": "https://localhost:8080/"
        },
        "id": "6KQ3ydfUf9GX",
        "outputId": "aad9de5a-c4ca-4f40-f6b7-a61c31315055"
      },
      "source": [
        "confusion_matrix(test_y4,\r\n",
        "               model4.predict(test_x4).argmax(axis=1),\r\n",
        "               )"
      ],
      "execution_count": null,
      "outputs": [
        {
          "output_type": "execute_result",
          "data": {
            "text/plain": [
              "array([[20546,    46,    91,   116,    87,   104,   345],\n",
              "       [  133,    41,    10,     5,     5,     3,    10],\n",
              "       [  260,     7,   150,    30,     5,     4,    18],\n",
              "       [  398,     3,    26,   224,    27,     8,    12],\n",
              "       [  319,     3,     3,    38,   200,    31,    19],\n",
              "       [  480,     2,     1,     6,    40,   135,    67],\n",
              "       [  946,     1,     1,     8,     6,    42,   669]])"
            ]
          },
          "metadata": {
            "tags": []
          },
          "execution_count": 223
        }
      ]
    },
    {
      "cell_type": "code",
      "metadata": {
        "colab": {
          "base_uri": "https://localhost:8080/"
        },
        "id": "4Mnr66fBfudD",
        "outputId": "645ffc12-a345-430c-c9cc-d157acf22591"
      },
      "source": [
        "pd.Series(y4).value_counts(),125593/3062"
      ],
      "execution_count": null,
      "outputs": [
        {
          "output_type": "execute_result",
          "data": {
            "text/plain": [
              "(0    106677\n",
              " 6      8366\n",
              " 5      3656\n",
              " 3      3492\n",
              " 4      3062\n",
              " 2      2368\n",
              " 1      1034\n",
              " Name: Top-up Month, dtype: int64, 41.0166557805356)"
            ]
          },
          "metadata": {
            "tags": []
          },
          "execution_count": 224
        }
      ]
    },
    {
      "cell_type": "code",
      "metadata": {
        "colab": {
          "base_uri": "https://localhost:8080/"
        },
        "id": "cgHNIzpGt9D-",
        "outputId": "5394268a-1255-47f3-b2ee-d89d3d3e1364"
      },
      "source": [
        "pd.Series(preds1).value_counts()"
      ],
      "execution_count": null,
      "outputs": [
        {
          "output_type": "execute_result",
          "data": {
            "text/plain": [
              "0    14201\n",
              "6      423\n",
              "3       41\n",
              "4       28\n",
              "5       23\n",
              "2       22\n",
              "1        7\n",
              "dtype: int64"
            ]
          },
          "metadata": {
            "tags": []
          },
          "execution_count": 225
        }
      ]
    },
    {
      "cell_type": "markdown",
      "metadata": {
        "id": "qPjomgWtWy1Z"
      },
      "source": [
        "# model5"
      ]
    },
    {
      "cell_type": "code",
      "metadata": {
        "colab": {
          "base_uri": "https://localhost:8080/"
        },
        "id": "PbtKMNXXWTb9",
        "outputId": "b1f8557d-e4f2-44f6-8d94-b4783b0dc92a"
      },
      "source": [
        "X5, y5 = X.drop(columns=[\r\n",
        "       '6.0', '7.0', '8.0', '9.0', '10.0', '11.0', '12.0']),train['Top-up Month']\r\n",
        "train_x5, test_x5, train_y5, test_y5 = train_test_split(X5, y5,stratify = y5,test_size=0.2,random_state=42)\r\n",
        "\r\n",
        "lgb_train = lightgbm.Dataset(train_x5, train_y5)\r\n",
        "lgb_test = lightgbm.Dataset(test_x5, test_y5)\r\n",
        "\r\n",
        "params = {'boosting_type': 'gbdt',\r\n",
        "'objective': 'multiclass',\r\n",
        "'num_class':7,\r\n",
        "'eval_meric':'mlogerror',\r\n",
        "'min_child_weight':50}\r\n",
        "\r\n",
        "model5 = lightgbm.train(\r\n",
        "params,\r\n",
        "lgb_train,\r\n",
        "num_boost_round=500,\r\n",
        "valid_sets=[lgb_train, lgb_test],\r\n",
        "early_stopping_rounds=10\r\n",
        ")\r\n",
        "\r\n",
        "# model5 = lightgbm.LGBMClassifier(n_estimators=250)\r\n",
        "# model5.fit(train_x5, train_y5)\r\n",
        "\r\n",
        "print(f1_score(test_y5,\r\n",
        "               model5.predict(test_x5).argmax(axis=1),\r\n",
        "               average='macro'))\r\n",
        "# predss1 = model1.predict(test_x1)\r\n",
        "# # f1 = f1_score(test_y1,predss1,average='macro')\r\n",
        "# print(f1)\r\n",
        "preds5 = model5.predict(test.drop(columns=['ID',\r\n",
        "       '6.0', '7.0', '8.0', '9.0', '10.0', '11.0', '12.0'])).argmax(axis=1)\r\n",
        "\r\n",
        "X[['p05','p15','p25','p35','p45','p55','p65']] = model1.predict(X1)\r\n",
        "test[['p05','p15','p25','p35','p45','p55','p65']]= model1.predict(test.drop(columns=['ID',\r\n",
        "      '6.0', '7.0', '8.0', '9.0', '10.0', '11.0', '12.0']))\r\n",
        "# X['p5'] = model5.predict(X5)[:,5]\r\n",
        "# test['p5'] = model5.predict(test.drop(columns=['ID',\r\n",
        "#        '6.0', '7.0', '8.0', '9.0', '10.0', '11.0', '12.0']))[:,5]"
      ],
      "execution_count": null,
      "outputs": [
        {
          "output_type": "stream",
          "text": [
            "[1]\ttraining's multi_logloss: 0.596005\tvalid_1's multi_logloss: 0.639907\n",
            "Training until validation scores don't improve for 10 rounds.\n",
            "[2]\ttraining's multi_logloss: 0.536305\tvalid_1's multi_logloss: 0.603465\n",
            "[3]\ttraining's multi_logloss: 0.495284\tvalid_1's multi_logloss: 0.578455\n",
            "[4]\ttraining's multi_logloss: 0.463505\tvalid_1's multi_logloss: 0.559493\n",
            "[5]\ttraining's multi_logloss: 0.437963\tvalid_1's multi_logloss: 0.544316\n",
            "[6]\ttraining's multi_logloss: 0.416751\tvalid_1's multi_logloss: 0.532032\n",
            "[7]\ttraining's multi_logloss: 0.398648\tvalid_1's multi_logloss: 0.5218\n",
            "[8]\ttraining's multi_logloss: 0.383059\tvalid_1's multi_logloss: 0.513538\n",
            "[9]\ttraining's multi_logloss: 0.369462\tvalid_1's multi_logloss: 0.506492\n",
            "[10]\ttraining's multi_logloss: 0.357577\tvalid_1's multi_logloss: 0.500574\n",
            "[11]\ttraining's multi_logloss: 0.346868\tvalid_1's multi_logloss: 0.495643\n",
            "[12]\ttraining's multi_logloss: 0.337396\tvalid_1's multi_logloss: 0.491621\n",
            "[13]\ttraining's multi_logloss: 0.329027\tvalid_1's multi_logloss: 0.488136\n",
            "[14]\ttraining's multi_logloss: 0.321388\tvalid_1's multi_logloss: 0.485282\n",
            "[15]\ttraining's multi_logloss: 0.314574\tvalid_1's multi_logloss: 0.483037\n",
            "[16]\ttraining's multi_logloss: 0.308385\tvalid_1's multi_logloss: 0.481171\n",
            "[17]\ttraining's multi_logloss: 0.302844\tvalid_1's multi_logloss: 0.479543\n",
            "[18]\ttraining's multi_logloss: 0.297713\tvalid_1's multi_logloss: 0.478401\n",
            "[19]\ttraining's multi_logloss: 0.293009\tvalid_1's multi_logloss: 0.477435\n",
            "[20]\ttraining's multi_logloss: 0.288676\tvalid_1's multi_logloss: 0.476612\n",
            "[21]\ttraining's multi_logloss: 0.284757\tvalid_1's multi_logloss: 0.476052\n",
            "[22]\ttraining's multi_logloss: 0.281098\tvalid_1's multi_logloss: 0.475759\n",
            "[23]\ttraining's multi_logloss: 0.277713\tvalid_1's multi_logloss: 0.475594\n",
            "[24]\ttraining's multi_logloss: 0.274501\tvalid_1's multi_logloss: 0.475413\n",
            "[25]\ttraining's multi_logloss: 0.271515\tvalid_1's multi_logloss: 0.475424\n",
            "[26]\ttraining's multi_logloss: 0.268825\tvalid_1's multi_logloss: 0.475621\n",
            "[27]\ttraining's multi_logloss: 0.266317\tvalid_1's multi_logloss: 0.475902\n",
            "[28]\ttraining's multi_logloss: 0.263927\tvalid_1's multi_logloss: 0.476234\n",
            "[29]\ttraining's multi_logloss: 0.261719\tvalid_1's multi_logloss: 0.476475\n",
            "[30]\ttraining's multi_logloss: 0.259616\tvalid_1's multi_logloss: 0.476877\n",
            "[31]\ttraining's multi_logloss: 0.257632\tvalid_1's multi_logloss: 0.477296\n",
            "[32]\ttraining's multi_logloss: 0.25576\tvalid_1's multi_logloss: 0.477671\n",
            "[33]\ttraining's multi_logloss: 0.253972\tvalid_1's multi_logloss: 0.478146\n",
            "[34]\ttraining's multi_logloss: 0.252311\tvalid_1's multi_logloss: 0.478737\n",
            "Early stopping, best iteration is:\n",
            "[24]\ttraining's multi_logloss: 0.274501\tvalid_1's multi_logloss: 0.475413\n",
            "0.44574695445729945\n"
          ],
          "name": "stdout"
        }
      ]
    },
    {
      "cell_type": "code",
      "metadata": {
        "colab": {
          "base_uri": "https://localhost:8080/"
        },
        "id": "-aip7a_QgWgw",
        "outputId": "5485cd77-ba21-492f-feb8-ee72c956790e"
      },
      "source": [
        "confusion_matrix(test_y5,\r\n",
        "               model5.predict(test_x5).argmax(axis=1),\r\n",
        "               )"
      ],
      "execution_count": null,
      "outputs": [
        {
          "output_type": "execute_result",
          "data": {
            "text/plain": [
              "array([[20579,    45,    89,   114,    83,    96,   329],\n",
              "       [  132,    41,    11,     6,     4,     3,    10],\n",
              "       [  258,     7,   153,    30,     5,     4,    17],\n",
              "       [  397,     4,    25,   224,    27,     8,    13],\n",
              "       [  322,     3,     3,    38,   196,    30,    21],\n",
              "       [  483,     2,     2,     5,    38,   133,    68],\n",
              "       [  966,     1,     1,     8,     5,    39,   653]])"
            ]
          },
          "metadata": {
            "tags": []
          },
          "execution_count": 227
        }
      ]
    },
    {
      "cell_type": "code",
      "metadata": {
        "colab": {
          "base_uri": "https://localhost:8080/"
        },
        "id": "WaWvHbWYV0LR",
        "outputId": "a647fd6c-2a3c-4589-e6a2-2bb1358f7a89"
      },
      "source": [
        "print(f1_score(train_y5,\r\n",
        "               model5.predict(train_x5).argmax(axis=1),\r\n",
        "               average='macro'))"
      ],
      "execution_count": null,
      "outputs": [
        {
          "output_type": "stream",
          "text": [
            "0.7458526394730792\n"
          ],
          "name": "stdout"
        }
      ]
    },
    {
      "cell_type": "code",
      "metadata": {
        "colab": {
          "base_uri": "https://localhost:8080/"
        },
        "id": "40dhWx_OgKum",
        "outputId": "226f95b9-2290-4af6-8b06-6e964d8a5f9e"
      },
      "source": [
        "pd.Series(y5).value_counts(),124999/3656"
      ],
      "execution_count": null,
      "outputs": [
        {
          "output_type": "execute_result",
          "data": {
            "text/plain": [
              "(0    106677\n",
              " 6      8366\n",
              " 5      3656\n",
              " 3      3492\n",
              " 4      3062\n",
              " 2      2368\n",
              " 1      1034\n",
              " Name: Top-up Month, dtype: int64, 34.19009846827134)"
            ]
          },
          "metadata": {
            "tags": []
          },
          "execution_count": 229
        }
      ]
    },
    {
      "cell_type": "code",
      "metadata": {
        "colab": {
          "base_uri": "https://localhost:8080/"
        },
        "id": "5fSfvzELuCel",
        "outputId": "515818da-0635-41fc-8508-836b3f95649a"
      },
      "source": [
        "pd.Series(preds5).value_counts()"
      ],
      "execution_count": null,
      "outputs": [
        {
          "output_type": "execute_result",
          "data": {
            "text/plain": [
              "0    13896\n",
              "6      458\n",
              "5      131\n",
              "3      100\n",
              "4       68\n",
              "2       66\n",
              "1       26\n",
              "dtype: int64"
            ]
          },
          "metadata": {
            "tags": []
          },
          "execution_count": 230
        }
      ]
    },
    {
      "cell_type": "markdown",
      "metadata": {
        "id": "Np4aMLVyxHKp"
      },
      "source": [
        "# model6"
      ]
    },
    {
      "cell_type": "code",
      "metadata": {
        "colab": {
          "base_uri": "https://localhost:8080/"
        },
        "id": "xpejN8901Cwf",
        "outputId": "5c543dfa-b727-48ac-e97b-985a8313b2aa"
      },
      "source": [
        "X6, y6 = X.drop(columns=[\r\n",
        "       '7.0', '8.0', '9.0', '10.0', '11.0', '12.0']),train['Top-up Month']\r\n",
        "train_x6, test_x6, train_y6, test_y6 = train_test_split(X6, y6,stratify = y6,test_size=0.2,random_state=42)\r\n",
        "\r\n",
        "lgb_train = lightgbm.Dataset(train_x6, train_y6)\r\n",
        "lgb_test = lightgbm.Dataset(test_x6, test_y6)\r\n",
        "\r\n",
        "params = {'boosting_type': 'gbdt',\r\n",
        "'objective': 'multiclass',\r\n",
        "'num_class':7,\r\n",
        "'eval_meric':'mlogerror',\r\n",
        "'min_child_weight':50}\r\n",
        "\r\n",
        "model6 = lightgbm.train(\r\n",
        "params,\r\n",
        "lgb_train,\r\n",
        "num_boost_round=500,\r\n",
        "valid_sets=[lgb_train, lgb_test],\r\n",
        "early_stopping_rounds=10\r\n",
        ")\r\n",
        "\r\n",
        "# model6 = lightgbm.LGBMClassifier(n_estimators=250)\r\n",
        "# model6.fit(train_x6, train_y6)\r\n",
        "\r\n",
        "print(f1_score(test_y6,\r\n",
        "               model6.predict(test_x6).argmax(axis=1),\r\n",
        "               average='macro'))\r\n",
        "# predss1 = model1.predict(test_x1)\r\n",
        "# # f1 = f1_score(test_y1,predss1,average='macro')\r\n",
        "# print(f1)\r\n",
        "preds6 = model6.predict(test.drop(columns=['ID',\r\n",
        "       '7.0', '8.0', '9.0', '10.0', '11.0', '12.0'])).argmax(axis=1)\r\n",
        "\r\n",
        "X[['p06','p16','p26','p36','p46','p56','p66']] = model1.predict(X1)\r\n",
        "test[['p06','p16','p26','p36','p46','p56','p66']]= model1.predict(test.drop(columns=['ID',\r\n",
        "      '7.0', '8.0', '9.0', '10.0', '11.0', '12.0']))\r\n",
        "\r\n",
        "\r\n",
        "# X['p6'] = model6.predict(X6)[:,6]\r\n",
        "# test['p6'] = model6.predict(test.drop(columns=['ID',\r\n",
        "#        '7.0', '8.0', '9.0', '10.0', '11.0', '12.0']))[:,6]"
      ],
      "execution_count": null,
      "outputs": [
        {
          "output_type": "stream",
          "text": [
            "[1]\ttraining's multi_logloss: 0.596055\tvalid_1's multi_logloss: 0.639852\n",
            "Training until validation scores don't improve for 10 rounds.\n",
            "[2]\ttraining's multi_logloss: 0.536309\tvalid_1's multi_logloss: 0.603282\n",
            "[3]\ttraining's multi_logloss: 0.495233\tvalid_1's multi_logloss: 0.578288\n",
            "[4]\ttraining's multi_logloss: 0.463444\tvalid_1's multi_logloss: 0.559339\n",
            "[5]\ttraining's multi_logloss: 0.437911\tvalid_1's multi_logloss: 0.544153\n",
            "[6]\ttraining's multi_logloss: 0.416627\tvalid_1's multi_logloss: 0.531961\n",
            "[7]\ttraining's multi_logloss: 0.398563\tvalid_1's multi_logloss: 0.521647\n",
            "[8]\ttraining's multi_logloss: 0.382905\tvalid_1's multi_logloss: 0.513311\n",
            "[9]\ttraining's multi_logloss: 0.369289\tvalid_1's multi_logloss: 0.506161\n",
            "[10]\ttraining's multi_logloss: 0.357369\tvalid_1's multi_logloss: 0.5003\n",
            "[11]\ttraining's multi_logloss: 0.346693\tvalid_1's multi_logloss: 0.495404\n",
            "[12]\ttraining's multi_logloss: 0.33725\tvalid_1's multi_logloss: 0.491316\n",
            "[13]\ttraining's multi_logloss: 0.328875\tvalid_1's multi_logloss: 0.487834\n",
            "[14]\ttraining's multi_logloss: 0.321277\tvalid_1's multi_logloss: 0.485051\n",
            "[15]\ttraining's multi_logloss: 0.314421\tvalid_1's multi_logloss: 0.482834\n",
            "[16]\ttraining's multi_logloss: 0.308259\tvalid_1's multi_logloss: 0.480921\n",
            "[17]\ttraining's multi_logloss: 0.302681\tvalid_1's multi_logloss: 0.479315\n",
            "[18]\ttraining's multi_logloss: 0.297507\tvalid_1's multi_logloss: 0.478076\n",
            "[19]\ttraining's multi_logloss: 0.292763\tvalid_1's multi_logloss: 0.477192\n",
            "[20]\ttraining's multi_logloss: 0.288459\tvalid_1's multi_logloss: 0.476339\n",
            "[21]\ttraining's multi_logloss: 0.284474\tvalid_1's multi_logloss: 0.475749\n",
            "[22]\ttraining's multi_logloss: 0.28082\tvalid_1's multi_logloss: 0.475324\n",
            "[23]\ttraining's multi_logloss: 0.277426\tvalid_1's multi_logloss: 0.47511\n",
            "[24]\ttraining's multi_logloss: 0.274321\tvalid_1's multi_logloss: 0.474993\n",
            "[25]\ttraining's multi_logloss: 0.271419\tvalid_1's multi_logloss: 0.475037\n",
            "[26]\ttraining's multi_logloss: 0.268638\tvalid_1's multi_logloss: 0.47506\n",
            "[27]\ttraining's multi_logloss: 0.266097\tvalid_1's multi_logloss: 0.475246\n",
            "[28]\ttraining's multi_logloss: 0.26373\tvalid_1's multi_logloss: 0.47537\n",
            "[29]\ttraining's multi_logloss: 0.261531\tvalid_1's multi_logloss: 0.475643\n",
            "[30]\ttraining's multi_logloss: 0.259377\tvalid_1's multi_logloss: 0.476099\n",
            "[31]\ttraining's multi_logloss: 0.257395\tvalid_1's multi_logloss: 0.476432\n",
            "[32]\ttraining's multi_logloss: 0.255541\tvalid_1's multi_logloss: 0.476832\n",
            "[33]\ttraining's multi_logloss: 0.253759\tvalid_1's multi_logloss: 0.477178\n",
            "[34]\ttraining's multi_logloss: 0.252084\tvalid_1's multi_logloss: 0.477492\n",
            "Early stopping, best iteration is:\n",
            "[24]\ttraining's multi_logloss: 0.274321\tvalid_1's multi_logloss: 0.474993\n",
            "0.4459366606030421\n"
          ],
          "name": "stdout"
        }
      ]
    },
    {
      "cell_type": "code",
      "metadata": {
        "colab": {
          "base_uri": "https://localhost:8080/"
        },
        "id": "xzCDB0vJgnJj",
        "outputId": "3dd4cef3-895e-4c27-8048-320c8111e562"
      },
      "source": [
        "confusion_matrix(test_y6,\r\n",
        "               model6.predict(test_x6).argmax(axis=1),\r\n",
        "               )"
      ],
      "execution_count": null,
      "outputs": [
        {
          "output_type": "execute_result",
          "data": {
            "text/plain": [
              "array([[20590,    43,    89,   111,    80,    96,   326],\n",
              "       [  135,    41,     9,     7,     4,     2,     9],\n",
              "       [  261,     7,   152,    30,     5,     3,    16],\n",
              "       [  402,     4,    26,   219,    27,     7,    13],\n",
              "       [  322,     4,     2,    37,   196,    32,    20],\n",
              "       [  482,     2,     1,     4,    39,   135,    68],\n",
              "       [  964,     1,     1,     7,     5,    40,   655]])"
            ]
          },
          "metadata": {
            "tags": []
          },
          "execution_count": 232
        }
      ]
    },
    {
      "cell_type": "code",
      "metadata": {
        "colab": {
          "base_uri": "https://localhost:8080/"
        },
        "id": "zyUP_JE4XEX2",
        "outputId": "ab2cdd00-46af-4265-b2ca-b24fcc25643c"
      },
      "source": [
        "print(f1_score(train_y6,\r\n",
        "               model6.predict(train_x6).argmax(axis=1),\r\n",
        "               average='macro'))"
      ],
      "execution_count": null,
      "outputs": [
        {
          "output_type": "stream",
          "text": [
            "0.7469380959453508\n"
          ],
          "name": "stdout"
        }
      ]
    },
    {
      "cell_type": "code",
      "metadata": {
        "colab": {
          "base_uri": "https://localhost:8080/"
        },
        "id": "lK2vdWsFgdm7",
        "outputId": "bcb82fa3-d9c6-4c28-fa62-34cb0a5c55bc"
      },
      "source": [
        "pd.Series(y6).value_counts(),120289/8366"
      ],
      "execution_count": null,
      "outputs": [
        {
          "output_type": "execute_result",
          "data": {
            "text/plain": [
              "(0    106677\n",
              " 6      8366\n",
              " 5      3656\n",
              " 3      3492\n",
              " 4      3062\n",
              " 2      2368\n",
              " 1      1034\n",
              " Name: Top-up Month, dtype: int64, 14.378316997370309)"
            ]
          },
          "metadata": {
            "tags": []
          },
          "execution_count": 234
        }
      ]
    },
    {
      "cell_type": "code",
      "metadata": {
        "colab": {
          "base_uri": "https://localhost:8080/"
        },
        "id": "F-0DJ_onuJ16",
        "outputId": "3656f773-49f1-4cf3-cde6-4f0a3203c4ea"
      },
      "source": [
        "pd.Series(preds1).value_counts()"
      ],
      "execution_count": null,
      "outputs": [
        {
          "output_type": "execute_result",
          "data": {
            "text/plain": [
              "0    14201\n",
              "6      423\n",
              "3       41\n",
              "4       28\n",
              "5       23\n",
              "2       22\n",
              "1        7\n",
              "dtype: int64"
            ]
          },
          "metadata": {
            "tags": []
          },
          "execution_count": 235
        }
      ]
    },
    {
      "cell_type": "markdown",
      "metadata": {
        "id": "WyP2JASqrYrW"
      },
      "source": [
        "# model 0"
      ]
    },
    {
      "cell_type": "code",
      "metadata": {
        "colab": {
          "base_uri": "https://localhost:8080/"
        },
        "id": "SN-XHuPhYTZR",
        "outputId": "7ba854fa-4e7b-46ce-a815-7d23832aa095"
      },
      "source": [
        "X0, y0 = X.drop(columns=[\r\n",
        "       '8.0', '9.0', '10.0', '11.0', '12.0']),train['Top-up Month']\r\n",
        "train_x0, test_x0, train_y0, test_y0 = train_test_split(X0, y0,stratify = y0,test_size=0.2,random_state=42)\r\n",
        "\r\n",
        "lgb_train = lightgbm.Dataset(train_x0, train_y0)\r\n",
        "lgb_test = lightgbm.Dataset(test_x0, test_y0)\r\n",
        "\r\n",
        "params = {'boosting_type': 'gbdt',\r\n",
        "'objective': 'multiclass',\r\n",
        "'num_class':7,\r\n",
        "'eval_meric':'mlogerror',\r\n",
        "'min_child_weight':50}\r\n",
        "\r\n",
        "model0 = lightgbm.train(\r\n",
        "params,\r\n",
        "lgb_train,\r\n",
        "num_boost_round=500,\r\n",
        "valid_sets=[lgb_train, lgb_test],\r\n",
        "early_stopping_rounds=10\r\n",
        ")\r\n",
        "\r\n",
        "# model0 = lightgbm.LGBMClassifier(n_estimators=250)\r\n",
        "# model0.fit(train_x0, train_y0)\r\n",
        "\r\n",
        "print(f1_score(test_y0,\r\n",
        "               model0.predict(test_x0).argmax(axis=1),\r\n",
        "               average='macro'))\r\n",
        "# predss1 = model1.predict(test_x1)\r\n",
        "# # f1 = f1_score(test_y1,predss1,average='macro')\r\n",
        "# print(f1)\r\n",
        "preds0 = model0.predict(test.drop(columns=['ID',\r\n",
        "       '8.0', '9.0', '10.0', '11.0', '12.0'])).argmax(axis=1)\r\n",
        "\r\n",
        "# X['p0'] = model0.predict_proba(X0)[:,0]\r\n",
        "# test['p0'] = model0.predict_proba(test.drop(columns=['ID',\r\n",
        "#        '8.0', '9.0', '10.0', '11.0', '12.0']))[:,1]"
      ],
      "execution_count": null,
      "outputs": [
        {
          "output_type": "stream",
          "text": [
            "[1]\ttraining's multi_logloss: 0.596051\tvalid_1's multi_logloss: 0.639685\n",
            "Training until validation scores don't improve for 10 rounds.\n",
            "[2]\ttraining's multi_logloss: 0.536312\tvalid_1's multi_logloss: 0.603019\n",
            "[3]\ttraining's multi_logloss: 0.495242\tvalid_1's multi_logloss: 0.578056\n",
            "[4]\ttraining's multi_logloss: 0.463452\tvalid_1's multi_logloss: 0.559029\n",
            "[5]\ttraining's multi_logloss: 0.437854\tvalid_1's multi_logloss: 0.543819\n",
            "[6]\ttraining's multi_logloss: 0.416638\tvalid_1's multi_logloss: 0.531534\n",
            "[7]\ttraining's multi_logloss: 0.398443\tvalid_1's multi_logloss: 0.521299\n",
            "[8]\ttraining's multi_logloss: 0.38276\tvalid_1's multi_logloss: 0.512857\n",
            "[9]\ttraining's multi_logloss: 0.369128\tvalid_1's multi_logloss: 0.505833\n",
            "[10]\ttraining's multi_logloss: 0.357204\tvalid_1's multi_logloss: 0.499895\n",
            "[11]\ttraining's multi_logloss: 0.346473\tvalid_1's multi_logloss: 0.49501\n",
            "[12]\ttraining's multi_logloss: 0.336949\tvalid_1's multi_logloss: 0.490863\n",
            "[13]\ttraining's multi_logloss: 0.32845\tvalid_1's multi_logloss: 0.487357\n",
            "[14]\ttraining's multi_logloss: 0.320844\tvalid_1's multi_logloss: 0.484567\n",
            "[15]\ttraining's multi_logloss: 0.314029\tvalid_1's multi_logloss: 0.482164\n",
            "[16]\ttraining's multi_logloss: 0.307935\tvalid_1's multi_logloss: 0.480328\n",
            "[17]\ttraining's multi_logloss: 0.302269\tvalid_1's multi_logloss: 0.478769\n",
            "[18]\ttraining's multi_logloss: 0.297118\tvalid_1's multi_logloss: 0.477469\n",
            "[19]\ttraining's multi_logloss: 0.292469\tvalid_1's multi_logloss: 0.476484\n",
            "[20]\ttraining's multi_logloss: 0.288193\tvalid_1's multi_logloss: 0.475583\n",
            "[21]\ttraining's multi_logloss: 0.284212\tvalid_1's multi_logloss: 0.475012\n",
            "[22]\ttraining's multi_logloss: 0.280484\tvalid_1's multi_logloss: 0.474699\n",
            "[23]\ttraining's multi_logloss: 0.277061\tvalid_1's multi_logloss: 0.474458\n",
            "[24]\ttraining's multi_logloss: 0.273885\tvalid_1's multi_logloss: 0.474287\n",
            "[25]\ttraining's multi_logloss: 0.270919\tvalid_1's multi_logloss: 0.474308\n",
            "[26]\ttraining's multi_logloss: 0.268224\tvalid_1's multi_logloss: 0.474436\n",
            "[27]\ttraining's multi_logloss: 0.265657\tvalid_1's multi_logloss: 0.474648\n",
            "[28]\ttraining's multi_logloss: 0.263295\tvalid_1's multi_logloss: 0.474823\n",
            "[29]\ttraining's multi_logloss: 0.261084\tvalid_1's multi_logloss: 0.475104\n",
            "[30]\ttraining's multi_logloss: 0.259014\tvalid_1's multi_logloss: 0.47537\n",
            "[31]\ttraining's multi_logloss: 0.25702\tvalid_1's multi_logloss: 0.475812\n",
            "[32]\ttraining's multi_logloss: 0.255108\tvalid_1's multi_logloss: 0.476298\n",
            "[33]\ttraining's multi_logloss: 0.253366\tvalid_1's multi_logloss: 0.4767\n",
            "[34]\ttraining's multi_logloss: 0.251599\tvalid_1's multi_logloss: 0.477255\n",
            "Early stopping, best iteration is:\n",
            "[24]\ttraining's multi_logloss: 0.273885\tvalid_1's multi_logloss: 0.474287\n",
            "0.44673486229259024\n"
          ],
          "name": "stdout"
        }
      ]
    },
    {
      "cell_type": "code",
      "metadata": {
        "colab": {
          "base_uri": "https://localhost:8080/"
        },
        "id": "qku2ljj9g2wt",
        "outputId": "3e94838c-495f-4917-be5f-ba48a1df1d10"
      },
      "source": [
        "confusion_matrix(test_y0,\r\n",
        "               model0.predict(test_x0).argmax(axis=1),\r\n",
        "               )"
      ],
      "execution_count": null,
      "outputs": [
        {
          "output_type": "execute_result",
          "data": {
            "text/plain": [
              "array([[20585,    43,    89,   115,    84,    99,   320],\n",
              "       [  131,    41,    11,     6,     5,     3,    10],\n",
              "       [  263,     6,   151,    32,     5,     2,    15],\n",
              "       [  402,     4,    26,   222,    26,     7,    11],\n",
              "       [  323,     4,     3,    37,   196,    31,    19],\n",
              "       [  484,     2,     3,     5,    38,   136,    63],\n",
              "       [  955,     1,     1,     7,     5,    40,   664]])"
            ]
          },
          "metadata": {
            "tags": []
          },
          "execution_count": 237
        }
      ]
    },
    {
      "cell_type": "code",
      "metadata": {
        "colab": {
          "base_uri": "https://localhost:8080/"
        },
        "id": "GhroKqeoXJJQ",
        "outputId": "8df65558-52c2-46c1-a8b6-88f4e5ea1b77"
      },
      "source": [
        "print(f1_score(train_y0,\r\n",
        "               model0.predict(train_x0).argmax(axis=1),\r\n",
        "               average='macro'))"
      ],
      "execution_count": null,
      "outputs": [
        {
          "output_type": "stream",
          "text": [
            "0.7460332710748727\n"
          ],
          "name": "stdout"
        }
      ]
    },
    {
      "cell_type": "code",
      "metadata": {
        "colab": {
          "base_uri": "https://localhost:8080/"
        },
        "id": "MXvn-M0pgrHd",
        "outputId": "060cc100-c967-484b-efc9-84693d12229a"
      },
      "source": [
        "pd.Series(y0).value_counts()"
      ],
      "execution_count": null,
      "outputs": [
        {
          "output_type": "execute_result",
          "data": {
            "text/plain": [
              "0    106677\n",
              "6      8366\n",
              "5      3656\n",
              "3      3492\n",
              "4      3062\n",
              "2      2368\n",
              "1      1034\n",
              "Name: Top-up Month, dtype: int64"
            ]
          },
          "metadata": {
            "tags": []
          },
          "execution_count": 239
        }
      ]
    },
    {
      "cell_type": "code",
      "metadata": {
        "id": "uKcp1Ku-yyAO"
      },
      "source": [
        "predst = pd.Series(dfn['predf'])"
      ],
      "execution_count": null,
      "outputs": []
    },
    {
      "cell_type": "code",
      "metadata": {
        "id": "gIDZuL9b0HMl"
      },
      "source": [
        "# preds = encode.inverse_transform(preds)\r\n",
        "trgt_inv_maps = {6:' > 48 Months', \r\n",
        "             0:'No Top-up Service', \r\n",
        "            1: '12-18 Months',\r\n",
        "              5:'36-48 Months', \r\n",
        "              2:'18-24 Months', \r\n",
        "              3:'24-30 Months', \r\n",
        "              4:'30-36 Months'}\r\n",
        "predst = predst.map(trgt_inv_maps)"
      ],
      "execution_count": null,
      "outputs": []
    },
    {
      "cell_type": "code",
      "metadata": {
        "id": "DYcSqg3VyyDk"
      },
      "source": [
        "preds_csv = pd.read_csv('/content/drive/MyDrive/sample_submission_ejm25Dc.csv')"
      ],
      "execution_count": null,
      "outputs": []
    },
    {
      "cell_type": "code",
      "metadata": {
        "id": "hdmnk5Rgzw_x"
      },
      "source": [
        "preds_csv['Top-up Month'] = predst.values"
      ],
      "execution_count": null,
      "outputs": []
    },
    {
      "cell_type": "code",
      "metadata": {
        "id": "yepyI1p_yyH1"
      },
      "source": [
        "preds_csv.to_csv('PREDICTION_FILE45.csv',index=None)"
      ],
      "execution_count": null,
      "outputs": []
    },
    {
      "cell_type": "code",
      "metadata": {
        "colab": {
          "base_uri": "https://localhost:8080/"
        },
        "id": "kIXUCwLRyyK-",
        "outputId": "8852acde-5ee5-4bfc-f1f8-c3e8931a46e9"
      },
      "source": [
        "preds_csv['Top-up Month'].value_counts()"
      ],
      "execution_count": null,
      "outputs": [
        {
          "output_type": "execute_result",
          "data": {
            "text/plain": [
              "No Top-up Service    13941\n",
              " > 48 Months           521\n",
              "24-30 Months           100\n",
              "36-48 Months            84\n",
              "30-36 Months            55\n",
              "18-24 Months            35\n",
              "12-18 Months             9\n",
              "Name: Top-up Month, dtype: int64"
            ]
          },
          "metadata": {
            "tags": []
          },
          "execution_count": 170
        }
      ]
    },
    {
      "cell_type": "markdown",
      "metadata": {
        "id": "Phpw7FK0ynCU"
      },
      "source": [
        "# Stacked"
      ]
    },
    {
      "cell_type": "code",
      "metadata": {
        "id": "AdiQcbKHu5ST"
      },
      "source": [
        "# df = pd.DataFrame()\r\n",
        "# df['0'] = preds0\r\n",
        "# df['1'] = preds1\r\n",
        "# df['2'] = preds2\r\n",
        "# df['3'] = preds3\r\n",
        "# df['4'] = preds4\r\n",
        "# df['5'] = preds5\r\n",
        "# df['6'] = preds6"
      ],
      "execution_count": null,
      "outputs": []
    },
    {
      "cell_type": "code",
      "metadata": {
        "id": "6F7DekD3aSlh"
      },
      "source": [
        "# df = pd.DataFrame()\r\n",
        "# df['0'] = model0.predict(test_x0)\r\n",
        "# df['1'] = model1.predict(test_x1)\r\n",
        "# df['2'] = model2.predict(test_x2)\r\n",
        "# df['3'] = model3.predict(test_x3)\r\n",
        "# df['4'] = model4.predict(test_x4)\r\n",
        "# df['5'] = model5.predict(test_x5)\r\n",
        "# df['6'] = model6.predict(test_x6)"
      ],
      "execution_count": null,
      "outputs": []
    },
    {
      "cell_type": "code",
      "metadata": {
        "id": "Q8yPlN336K_5"
      },
      "source": [
        "# df1 = pd.DataFrame()\r\n",
        "# df1['0'] = test_y0\r\n",
        "# df1['1'] = test_y1\r\n",
        "# df1['2'] = test_y2\r\n",
        "# df1['3'] = test_y3\r\n",
        "# df1['4'] = test_y4\r\n",
        "# df1['5'] = test_y5\r\n",
        "# df1['6'] = test_y6"
      ],
      "execution_count": null,
      "outputs": []
    },
    {
      "cell_type": "code",
      "metadata": {
        "id": "7f4Oj7UIu5XR"
      },
      "source": [
        "# def preder(x):\r\n",
        "#   pred = []\r\n",
        "  \r\n",
        "#   if x['1']==1:\r\n",
        "#     pred.append(1)\r\n",
        "#   if x['2']==1:\r\n",
        "#     pred.append(2)\r\n",
        "#   if x['3']==1:\r\n",
        "#     pred.append(3)\r\n",
        "#   if x['4']==1:\r\n",
        "#     pred.append(4)\r\n",
        "#   if x['5']==1:\r\n",
        "#     pred.append(5)\r\n",
        "#   if x['6']==1:\r\n",
        "#     pred.append(6)\r\n",
        "#   if len(pred)!=0:\r\n",
        "#     return min(pred)\r\n",
        "#   else:\r\n",
        "#     return 0"
      ],
      "execution_count": null,
      "outputs": []
    },
    {
      "cell_type": "code",
      "metadata": {
        "id": "IJyUdhzn4NgD"
      },
      "source": [
        "preds0 = np.floor(dfn.mean(axis=1))"
      ],
      "execution_count": null,
      "outputs": []
    },
    {
      "cell_type": "code",
      "metadata": {
        "id": "U9lKZzczpyXW"
      },
      "source": [
        "dfn = pd.DataFrame()\r\n",
        "dfn['preds0'] = preds0\r\n",
        "dfn['preds1'] = preds1\r\n",
        "dfn['preds2'] = preds2\r\n",
        "dfn['preds3'] = preds3\r\n",
        "dfn['preds4'] = preds4\r\n",
        "dfn['preds5'] = preds5\r\n",
        "dfn['preds6'] = preds6"
      ],
      "execution_count": null,
      "outputs": []
    },
    {
      "cell_type": "code",
      "metadata": {
        "id": "5G21IKQqr6iq"
      },
      "source": [
        "dfn['predf'] = 0"
      ],
      "execution_count": null,
      "outputs": []
    },
    {
      "cell_type": "code",
      "metadata": {
        "id": "w9GBj7ofvJVe"
      },
      "source": [
        "dfn.loc[dfn['preds1']==1,'predf'] = 1\r\n",
        "dfn.loc[dfn['preds2']==2,'predf'] = 2\r\n",
        "dfn.loc[dfn['preds3']==3,'predf'] = 3\r\n",
        "dfn.loc[dfn['preds4']==4,'predf'] = 4\r\n",
        "dfn.loc[dfn['preds5']==5,'predf'] = 5\r\n",
        "dfn.loc[dfn['preds6']==6,'predf'] = 6"
      ],
      "execution_count": null,
      "outputs": []
    },
    {
      "cell_type": "code",
      "metadata": {
        "colab": {
          "base_uri": "https://localhost:8080/"
        },
        "id": "38gAn6sXvRYL",
        "outputId": "0c1c6ec9-3201-48d3-b0bf-ca75c5e8e2cd"
      },
      "source": [
        "dfn['predf'].value_counts()"
      ],
      "execution_count": null,
      "outputs": [
        {
          "output_type": "execute_result",
          "data": {
            "text/plain": [
              "0    13889\n",
              "6      465\n",
              "5      131\n",
              "3      100\n",
              "2       77\n",
              "4       76\n",
              "1        7\n",
              "Name: predf, dtype: int64"
            ]
          },
          "metadata": {
            "tags": []
          },
          "execution_count": 250
        }
      ]
    },
    {
      "cell_type": "code",
      "metadata": {
        "id": "92oPXLvJvbuN"
      },
      "source": [
        ""
      ],
      "execution_count": null,
      "outputs": []
    }
  ]
}